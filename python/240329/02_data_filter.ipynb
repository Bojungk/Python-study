{
 "cells": [
  {
   "cell_type": "code",
   "execution_count": null,
   "metadata": {},
   "outputs": [],
   "source": [
    "# 라이브러리 설치 \n",
    "!pip install scikit-learn"
   ]
  },
  {
   "cell_type": "code",
   "execution_count": null,
   "metadata": {},
   "outputs": [],
   "source": [
    "import pandas as pd\n",
    "import numpy as np\n",
    "import matplotlib.pyplot as plt\n",
    "from sklearn.datasets import load_wine"
   ]
  },
  {
   "cell_type": "markdown",
   "metadata": {},
   "source": [
    "### 이상치 \n",
    "- 값이 크게 차이가 나는 데이터를 뜻한다. \n",
    "- 분석 모델의 성능을 떨어뜨리거나 분석 결과에 악영향\n",
    "- 해당하는 이상치를 확인 후 대체, 제거 \n",
    "- 일반적으로 수치형 데이터의 이상치의 판단 기준은 IQR 방식\n",
    "- IQR 방식은 matplotlib에서 제공하는 boxplot의 이상치 경계 기준을 그래도 사용\n",
    "- IQR 방식은 Q3(3사분위수)와 Q1(1사분위수)의 값에 차이를 이용\n",
    "- 이상치의 경계는 (Q3 + 1.5 * IQR)보다 크거나 (Q1 - 1.5 * IQR)보다 작은 범위를 이상치로 간주 \n"
   ]
  },
  {
   "cell_type": "code",
   "execution_count": null,
   "metadata": {},
   "outputs": [],
   "source": [
    "# scikitlearn에서 제공하는 샘플 데이터 로드 \n",
    "wine_load = load_wine()"
   ]
  },
  {
   "cell_type": "code",
   "execution_count": null,
   "metadata": {},
   "outputs": [],
   "source": [
    "wine_load['data']\n",
    "\n",
    "wine = pd.DataFrame(wine_load['data'], \n",
    "                    columns=wine_load['feature_names'])\n",
    "wine"
   ]
  },
  {
   "cell_type": "code",
   "execution_count": null,
   "metadata": {},
   "outputs": [],
   "source": [
    "# matplotlib을 이용하여 boxplot 표시\n",
    "plt.boxplot(wine['color_intensity'])\n",
    "plt.show()"
   ]
  },
  {
   "cell_type": "code",
   "execution_count": null,
   "metadata": {},
   "outputs": [],
   "source": [
    "## 이상치의 값들을 출력하는 함수를 하나 생성 \n",
    "## 매개변수 : 데이터프레임, 특정 컬럼명\n",
    "def outliers_iqr(_df, _col):\n",
    "    # _df : 데이터프레임\n",
    "    # _col : 컬럼명\n",
    "    # 1사분위수, 3사분위수를 변수에 대입\n",
    "    q_1, q_3 = np.percentile(_df[_col], [25, 75])\n",
    "    # iqr 데이터를 생성 \n",
    "    iqr = q_3 - q_1\n",
    "    # 이상치의 상단의 경계, 하단의 경계 변수에 대입 \n",
    "    upper_whis = q_3 + 1.5 * iqr\n",
    "    lower_whis = q_1 - 1.5 * iqr\n",
    "    print(\"상단의 경계값 :\", upper_whis)\n",
    "    print(\"하단의 경계값 :\", lower_whis)\n",
    "    # 입력받은 데이터프레임에서 상단의 경계보다 크거나 \n",
    "    # 하단에 경계보다 낮은 데이터를 필터링\n",
    "    flag = (_df[_col] > upper_whis) | (_df[_col] < lower_whis)\n",
    "    result = _df.loc[flag]\n",
    "    return result"
   ]
  },
  {
   "cell_type": "code",
   "execution_count": null,
   "metadata": {},
   "outputs": [],
   "source": [
    "outlier =  outliers_iqr(wine, 'color_intensity')\n",
    "outlier"
   ]
  },
  {
   "cell_type": "markdown",
   "metadata": {},
   "source": [
    "### 이상치의 정제 \n",
    "1. 이상치 제거 \n",
    "    - 데이터의 개수가 매우 많고 이상치가 존재하는 행의 수가 전체 데이터에서 많은 비중을 차지하지 않는다면 제거 가능\n",
    "    - 이상치를 제거 -> 데이터의 개수가 줄어든다. \n",
    "2. 이상치를 특정한 값을 대체 \n",
    "    - 이상치의 값을 다른 값으로 대체하는 경우는 분석가에 따라 값들에는 차이가 발생"
   ]
  },
  {
   "cell_type": "code",
   "execution_count": null,
   "metadata": {},
   "outputs": [],
   "source": [
    "outlier.index"
   ]
  },
  {
   "cell_type": "code",
   "execution_count": null,
   "metadata": {},
   "outputs": [],
   "source": [
    "## 이상치를 제거 (해당하는 행을 제거)\n",
    "drop_outlier = wine.drop(outlier.index  ,axis=0)\n",
    "## 제거가 잘 되었는가 확인\n",
    "print(\"원본데이터의 크기 :\", len(wine), wine.shape)\n",
    "print('이상치를 제거한 데이터의 크기 :', len(drop_outlier), drop_outlier.shape)"
   ]
  },
  {
   "cell_type": "code",
   "execution_count": null,
   "metadata": {},
   "outputs": [],
   "source": [
    "## 이상치를 특정한 값을 대체 \n",
    "wine.loc[outlier.index, 'color_intensity'] = np.NaN"
   ]
  },
  {
   "cell_type": "code",
   "execution_count": null,
   "metadata": {},
   "outputs": [],
   "source": [
    "wine.isna().sum()"
   ]
  },
  {
   "cell_type": "code",
   "execution_count": null,
   "metadata": {},
   "outputs": [],
   "source": [
    "# 평균값을 변수에 대입 \n",
    "mean_data = wine['color_intensity'].mean()\n",
    "mean_data"
   ]
  },
  {
   "cell_type": "code",
   "execution_count": null,
   "metadata": {},
   "outputs": [],
   "source": [
    "# 평균값을 결측치에 대체\n",
    "wine['color_intensity'] = wine['color_intensity'].fillna(mean_data)"
   ]
  },
  {
   "cell_type": "code",
   "execution_count": null,
   "metadata": {},
   "outputs": [],
   "source": [
    "wine.isna().sum()"
   ]
  },
  {
   "cell_type": "code",
   "execution_count": null,
   "metadata": {},
   "outputs": [],
   "source": [
    "wine.loc[outlier.index, 'color_intensity']"
   ]
  },
  {
   "cell_type": "code",
   "execution_count": null,
   "metadata": {},
   "outputs": [],
   "source": [
    "from sklearn.datasets import load_iris"
   ]
  },
  {
   "cell_type": "code",
   "execution_count": null,
   "metadata": {},
   "outputs": [],
   "source": [
    "iris_load = load_iris()"
   ]
  },
  {
   "cell_type": "code",
   "execution_count": null,
   "metadata": {},
   "outputs": [],
   "source": [
    "iris = pd.DataFrame(iris_load['data'], columns = iris_load['feature_names'])"
   ]
  },
  {
   "cell_type": "code",
   "execution_count": null,
   "metadata": {},
   "outputs": [],
   "source": [
    "iris.columns[1]"
   ]
  },
  {
   "cell_type": "code",
   "execution_count": null,
   "metadata": {},
   "outputs": [],
   "source": [
    "plt.boxplot(iris['sepal width (cm)'])\n",
    "plt.show()"
   ]
  },
  {
   "cell_type": "markdown",
   "metadata": {},
   "source": [
    "### 이상치를 정제 \n",
    "1. iris 데이터에서 'sepal width (cm)' 컬럼에 극단치가 존재\n",
    "2. 'sepal width (cm)'의 2사분위수를 변수에 저장 \n",
    "3. 해당하는 극단치를 결측치로 변경\n",
    "4. 결측치를 2번과정에서 나온 데이터로 대체"
   ]
  },
  {
   "cell_type": "code",
   "execution_count": null,
   "metadata": {},
   "outputs": [],
   "source": [
    "## 컬럼의 이름을 변수에 저장\n",
    "col2 = iris.columns[1]\n",
    "col2"
   ]
  },
  {
   "cell_type": "code",
   "execution_count": null,
   "metadata": {},
   "outputs": [],
   "source": [
    "outlier_iris = outliers_iqr(iris, col2)\n",
    "outlier_iris"
   ]
  },
  {
   "cell_type": "code",
   "execution_count": null,
   "metadata": {},
   "outputs": [],
   "source": [
    "## 중간값을 변수에 대입 \n",
    "median_data = np.percentile(iris[col2], 50)\n",
    "# iris[col2].median()"
   ]
  },
  {
   "cell_type": "code",
   "execution_count": null,
   "metadata": {},
   "outputs": [],
   "source": [
    "# 이상치 데이터를 결측치로 변경 \n",
    "iris.loc[outlier_iris.index, col2] = np.nan"
   ]
  },
  {
   "cell_type": "code",
   "execution_count": null,
   "metadata": {},
   "outputs": [],
   "source": [
    "iris[col2].fillna(median_data, inplace=True)"
   ]
  },
  {
   "cell_type": "code",
   "execution_count": null,
   "metadata": {},
   "outputs": [],
   "source": [
    "iris.isna().sum()"
   ]
  },
  {
   "cell_type": "code",
   "execution_count": null,
   "metadata": {},
   "outputs": [],
   "source": [
    "iris.loc[outlier_iris.index]"
   ]
  },
  {
   "cell_type": "code",
   "execution_count": null,
   "metadata": {},
   "outputs": [],
   "source": []
  }
 ],
 "metadata": {
  "kernelspec": {
   "display_name": "Python 3",
   "language": "python",
   "name": "python3"
  },
  "language_info": {
   "codemirror_mode": {
    "name": "ipython",
    "version": 3
   },
   "file_extension": ".py",
   "mimetype": "text/x-python",
   "name": "python",
   "nbconvert_exporter": "python",
   "pygments_lexer": "ipython3",
   "version": "3.11.1"
  }
 },
 "nbformat": 4,
 "nbformat_minor": 2
}
