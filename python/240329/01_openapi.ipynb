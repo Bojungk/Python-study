{
 "cells": [
  {
   "cell_type": "code",
   "execution_count": null,
   "metadata": {},
   "outputs": [],
   "source": [
    "# 라이브러리 설치\n",
    "!pip install requests"
   ]
  },
  {
   "cell_type": "code",
   "execution_count": 1,
   "metadata": {},
   "outputs": [],
   "source": [
    "# 라이브러리 로드 \n",
    "import requests"
   ]
  },
  {
   "cell_type": "code",
   "execution_count": 2,
   "metadata": {},
   "outputs": [],
   "source": [
    "## 공공데이터포털에서 제공하는 주소 값을 변수에 대입 \n",
    "url = \"http://apis.data.go.kr/1741000/RegistrationPopulationByRegion/getRegistrationPopulationByRegion\"\n",
    "\n",
    "# 서비스키를 변수에 대입 \n",
    "service_key = 'dtbWOdJ/Cz5HE0DGLU+CRPe7pOW0NIQBUcGEqsHZaTRiYCI/5+zugwzQjcvuId7NPdg6rUiW+ft3fm7yqyD4pw=='\n",
    "\n",
    "## 해당하는 api에서 요청하는 변수들을 지정 \n",
    "_param = {\n",
    "    \"ServiceKey\" : service_key, \n",
    "    \"pageNo\" : 1, \n",
    "    \"numOfRows\" : 50\n",
    "}\n"
   ]
  },
  {
   "cell_type": "code",
   "execution_count": 3,
   "metadata": {},
   "outputs": [],
   "source": [
    "## api에 요청을 보낸다. \n",
    "## 특정 주소에 요청 -> 해당하는 서버에서 응답 메시지를 보내준다. \n",
    "response = requests.get(url, params = _param)"
   ]
  },
  {
   "cell_type": "code",
   "execution_count": 4,
   "metadata": {},
   "outputs": [
    {
     "name": "stdout",
     "output_type": "stream",
     "text": [
      "<Response [200]>\n"
     ]
    }
   ],
   "source": [
    "print(response)"
   ]
  },
  {
   "cell_type": "code",
   "execution_count": 5,
   "metadata": {},
   "outputs": [
    {
     "name": "stdout",
     "output_type": "stream",
     "text": [
      "b'<?xml version=\"1.0\" encoding=\"UTF-8\"?>\\n\\n<RegistrationPopulationByRegion>\\n  <head>\\n    <totalCount>266</totalCount>\\n    <numOfRows>50</numOfRows>\\n    <pageNo>1</pageNo>\\n    <type>XML</type>\\n    <RESULT>\\n      <resultCode>INFO-0</resultCode>\\n      <resultMsg>NOMAL SERVICE</resultMsg>\\n    </RESULT>\\n  </head>\\n  <row>\\n    <wrttimeid>2008</wrttimeid>\\n    <seq>1</seq>\\n    <regi>\\xea\\xb3\\x84</regi>\\n    <population_tot>49540367</population_tot>\\n    <population_man>24822897</population_man>\\n    <population_female>24717470</population_female>\\n    <houshol>19005339</houshol>\\n  </row>\\n  <row>\\n    <wrttimeid>2008</wrttimeid>\\n    <seq>2</seq>\\n    <regi>\\xec\\x84\\x9c\\xec\\x9a\\xb8</regi>\\n    <population_tot>10200827</population_tot>\\n    <population_man>5061809</population_man>\\n    <population_female>5139018</population_female>\\n    <houshol>4097562</houshol>\\n  </row>\\n  <row>\\n    <wrttimeid>2008</wrttimeid>\\n    <seq>3</seq>\\n    <regi>\\xeb\\xb6\\x80\\xec\\x82\\xb0</regi>\\n    <population_tot>3564577</population_tot>\\n    <population_man>1773154</population_man>\\n    <population_female>1791423</population_female>\\n    <houshol>1311724</houshol>\\n  </row>\\n  <row>\\n    <wrttimeid>2008</wrttimeid>\\n    <seq>4</seq>\\n    <regi>\\xeb\\x8c\\x80\\xea\\xb5\\xac</regi>\\n    <population_tot>2492724</population_tot>\\n    <population_man>1246873</population_man>\\n    <population_female>1245851</population_female>\\n    <houshol>894969</houshol>\\n  </row>\\n  <row>\\n    <wrttimeid>2008</wrttimeid>\\n    <seq>5</seq>\\n    <regi>\\xec\\x9d\\xb8\\xec\\xb2\\x9c</regi>\\n    <population_tot>2692696</population_tot>\\n    <population_man>1356473</population_man>\\n    <population_female>1336223</population_female>\\n    <houshol>1014755</houshol>\\n  </row>\\n  <row>\\n    <wrttimeid>2008</wrttimeid>\\n    <seq>6</seq>\\n    <regi>\\xea\\xb4\\x91\\xec\\xa3\\xbc</regi>\\n    <population_tot>1422702</population_tot>\\n    <population_man>705817</population_man>\\n    <population_female>716885</population_female>\\n    <houshol>513021</houshol>\\n  </row>\\n  <row>\\n    <wrttimeid>2008</wrttimeid>\\n    <seq>7</seq>\\n    <regi>\\xeb\\x8c\\x80\\xec\\xa0\\x84</regi>\\n    <population_tot>1480895</population_tot>\\n    <population_man>741611</population_man>\\n    <population_female>739284</population_female>\\n    <houshol>531682</houshol>\\n  </row>\\n  <row>\\n    <wrttimeid>2008</wrttimeid>\\n    <seq>8</seq>\\n    <regi>\\xec\\x9a\\xb8\\xec\\x82\\xb0</regi>\\n    <population_tot>1112407</population_tot>\\n    <population_man>572815</population_man>\\n    <population_female>539592</population_female>\\n    <houshol>389735</houshol>\\n  </row>\\n  <row>\\n    <wrttimeid>2008</wrttimeid>\\n    <seq>9</seq>\\n    <regi>\\xea\\xb2\\xbd\\xea\\xb8\\xb0</regi>\\n    <population_tot>11292264</population_tot>\\n    <population_man>5690673</population_man>\\n    <population_female>5601591</population_female>\\n    <houshol>4284475</houshol>\\n  </row>\\n  <row>\\n    <wrttimeid>2008</wrttimeid>\\n    <seq>10</seq>\\n    <regi>\\xea\\xb0\\x95\\xec\\x9b\\x90</regi>\\n    <population_tot>1508575</population_tot>\\n    <population_man>759282</population_man>\\n    <population_female>749293</population_female>\\n    <houshol>606950</houshol>\\n  </row>\\n  <row>\\n    <wrttimeid>2008</wrttimeid>\\n    <seq>11</seq>\\n    <regi>\\xec\\xb6\\xa9\\xeb\\xb6\\x81</regi>\\n    <population_tot>1519587</population_tot>\\n    <population_man>765398</population_man>\\n    <population_female>754189</population_female>\\n    <houshol>587411</houshol>\\n  </row>\\n  <row>\\n    <wrttimeid>2008</wrttimeid>\\n    <seq>12</seq>\\n    <regi>\\xec\\xb6\\xa9\\xeb\\x82\\xa8</regi>\\n    <population_tot>2018537</population_tot>\\n    <population_man>1020317</population_man>\\n    <population_female>998220</population_female>\\n    <houshol>812871</houshol>\\n  </row>\\n  <row>\\n    <wrttimeid>2008</wrttimeid>\\n    <seq>13</seq>\\n    <regi>\\xec\\xa0\\x84\\xeb\\xb6\\x81</regi>\\n    <population_tot>1855772</population_tot>\\n    <population_man>924770</population_man>\\n    <population_female>931002</population_female>\\n    <houshol>710550</houshol>\\n  </row>\\n  <row>\\n    <wrttimeid>2008</wrttimeid>\\n    <seq>14</seq>\\n    <regi>\\xec\\xa0\\x84\\xeb\\x82\\xa8</regi>\\n    <population_tot>1919000</population_tot>\\n    <population_man>958491</population_man>\\n    <population_female>960509</population_female>\\n    <houshol>773087</houshol>\\n  </row>\\n  <row>\\n    <wrttimeid>2008</wrttimeid>\\n    <seq>15</seq>\\n    <regi>\\xea\\xb2\\xbd\\xeb\\xb6\\x81</regi>\\n    <population_tot>2673931</population_tot>\\n    <population_man>1343199</population_man>\\n    <population_female>1330732</population_female>\\n    <houshol>1058099</houshol>\\n  </row>\\n  <row>\\n    <wrttimeid>2008</wrttimeid>\\n    <seq>16</seq>\\n    <regi>\\xea\\xb2\\xbd\\xeb\\x82\\xa8</regi>\\n    <population_tot>3225255</population_tot>\\n    <population_man>1622127</population_man>\\n    <population_female>1603128</population_female>\\n    <houshol>1203767</houshol>\\n  </row>\\n  <row>\\n    <wrttimeid>2008</wrttimeid>\\n    <seq>17</seq>\\n    <regi>\\xec\\xa0\\x9c\\xec\\xa3\\xbc</regi>\\n    <population_tot>560618</population_tot>\\n    <population_man>280088</population_man>\\n    <population_female>280530</population_female>\\n    <houshol>214681</houshol>\\n  </row>\\n  <row>\\n    <wrttimeid>2009</wrttimeid>\\n    <seq>1</seq>\\n    <regi>\\xea\\xb3\\x84</regi>\\n    <population_tot>49773145</population_tot>\\n    <population_man>24929939</population_man>\\n    <population_female>24843206</population_female>\\n    <houshol>19261292</houshol>\\n  </row>\\n  <row>\\n    <wrttimeid>2009</wrttimeid>\\n    <seq>2</seq>\\n    <regi>\\xec\\x84\\x9c\\xec\\x9a\\xb8</regi>\\n    <population_tot>10208302</population_tot>\\n    <population_man>5059269</population_man>\\n    <population_female>5149033</population_female>\\n    <houshol>4116660</houshol>\\n  </row>\\n  <row>\\n    <wrttimeid>2009</wrttimeid>\\n    <seq>3</seq>\\n    <regi>\\xeb\\xb6\\x80\\xec\\x82\\xb0</regi>\\n    <population_tot>3543030</population_tot>\\n    <population_man>1761202</population_man>\\n    <population_female>1781828</population_female>\\n    <houshol>1323771</houshol>\\n  </row>\\n  <row>\\n    <wrttimeid>2009</wrttimeid>\\n    <seq>4</seq>\\n    <regi>\\xeb\\x8c\\x80\\xea\\xb5\\xac</regi>\\n    <population_tot>2489781</population_tot>\\n    <population_man>1243878</population_man>\\n    <population_female>1245903</population_female>\\n    <houshol>906470</houshol>\\n  </row>\\n  <row>\\n    <wrttimeid>2009</wrttimeid>\\n    <seq>5</seq>\\n    <regi>\\xec\\x9d\\xb8\\xec\\xb2\\x9c</regi>\\n    <population_tot>2710579</population_tot>\\n    <population_man>1364809</population_man>\\n    <population_female>1345770</population_female>\\n    <houshol>1026936</houshol>\\n  </row>\\n  <row>\\n    <wrttimeid>2009</wrttimeid>\\n    <seq>6</seq>\\n    <regi>\\xea\\xb4\\x91\\xec\\xa3\\xbc</regi>\\n    <population_tot>1433640</population_tot>\\n    <population_man>711091</population_man>\\n    <population_female>722549</population_female>\\n    <houshol>524093</houshol>\\n  </row>\\n  <row>\\n    <wrttimeid>2009</wrttimeid>\\n    <seq>7</seq>\\n    <regi>\\xeb\\x8c\\x80\\xec\\xa0\\x84</regi>\\n    <population_tot>1484180</population_tot>\\n    <population_man>743121</population_man>\\n    <population_female>741059</population_female>\\n    <houshol>538100</houshol>\\n  </row>\\n  <row>\\n    <wrttimeid>2009</wrttimeid>\\n    <seq>8</seq>\\n    <regi>\\xec\\x9a\\xb8\\xec\\x82\\xb0</regi>\\n    <population_tot>1114866</population_tot>\\n    <population_man>573607</population_man>\\n    <population_female>541259</population_female>\\n    <houshol>394364</houshol>\\n  </row>\\n  <row>\\n    <wrttimeid>2009</wrttimeid>\\n    <seq>9</seq>\\n    <regi>\\xea\\xb2\\xbd\\xea\\xb8\\xb0</regi>\\n    <population_tot>11460610</population_tot>\\n    <population_man>5773569</population_man>\\n    <population_female>5687041</population_female>\\n    <houshol>4359467</houshol>\\n  </row>\\n  <row>\\n    <wrttimeid>2009</wrttimeid>\\n    <seq>10</seq>\\n    <regi>\\xea\\xb0\\x95\\xec\\x9b\\x90</regi>\\n    <population_tot>1512870</population_tot>\\n    <population_man>761270</population_man>\\n    <population_female>751600</population_female>\\n    <houshol>617693</houshol>\\n  </row>\\n  <row>\\n    <wrttimeid>2009</wrttimeid>\\n    <seq>11</seq>\\n    <regi>\\xec\\xb6\\xa9\\xeb\\xb6\\x81</regi>\\n    <population_tot>1527478</population_tot>\\n    <population_man>769968</population_man>\\n    <population_female>757510</population_female>\\n    <houshol>599204</houshol>\\n  </row>\\n  <row>\\n    <wrttimeid>2009</wrttimeid>\\n    <seq>12</seq>\\n    <regi>\\xec\\xb6\\xa9\\xeb\\x82\\xa8</regi>\\n    <population_tot>2037582</population_tot>\\n    <population_man>1029725</population_man>\\n    <population_female>1007857</population_female>\\n    <houshol>827846</houshol>\\n  </row>\\n  <row>\\n    <wrttimeid>2009</wrttimeid>\\n    <seq>13</seq>\\n    <regi>\\xec\\xa0\\x84\\xeb\\xb6\\x81</regi>\\n    <population_tot>1854508</population_tot>\\n    <population_man>924480</population_man>\\n    <population_female>930028</population_female>\\n    <houshol>720993</houshol>\\n  </row>\\n  <row>\\n    <wrttimeid>2009</wrttimeid>\\n    <seq>14</seq>\\n    <regi>\\xec\\xa0\\x84\\xeb\\x82\\xa8</regi>\\n    <population_tot>1913004</population_tot>\\n    <population_man>955954</population_man>\\n    <population_female>957050</population_female>\\n    <houshol>783156</houshol>\\n  </row>\\n  <row>\\n    <wrttimeid>2009</wrttimeid>\\n    <seq>15</seq>\\n    <regi>\\xea\\xb2\\xbd\\xeb\\xb6\\x81</regi>\\n    <population_tot>2669876</population_tot>\\n    <population_man>1340977</population_man>\\n    <population_female>1328899</population_female>\\n    <houshol>1073367</houshol>\\n  </row>\\n  <row>\\n    <wrttimeid>2009</wrttimeid>\\n    <seq>16</seq>\\n    <regi>\\xea\\xb2\\xbd\\xeb\\x82\\xa8</regi>\\n    <population_tot>3250176</population_tot>\\n    <population_man>1635700</population_man>\\n    <population_female>1614476</population_female>\\n    <houshol>1231461</houshol>\\n  </row>\\n  <row>\\n    <wrttimeid>2009</wrttimeid>\\n    <seq>17</seq>\\n    <regi>\\xec\\xa0\\x9c\\xec\\xa3\\xbc</regi>\\n    <population_tot>562663</population_tot>\\n    <population_man>281319</population_man>\\n    <population_female>281344</population_female>\\n    <houshol>217711</houshol>\\n  </row>\\n  <row>\\n    <wrttimeid>2010</wrttimeid>\\n    <seq>1</seq>\\n    <regi>\\xea\\xb3\\x84</regi>\\n    <population_tot>50515666</population_tot>\\n    <population_man>25310385</population_man>\\n    <population_female>25205281</population_female>\\n    <houshol>19865179</houshol>\\n  </row>\\n  <row>\\n    <wrttimeid>2010</wrttimeid>\\n    <seq>2</seq>\\n    <regi>\\xec\\x84\\x9c\\xec\\x9a\\xb8</regi>\\n    <population_tot>10312545</population_tot>\\n    <population_man>5111259</population_man>\\n    <population_female>5201286</population_female>\\n    <houshol>4224181</houshol>\\n  </row>\\n  <row>\\n    <wrttimeid>2010</wrttimeid>\\n    <seq>3</seq>\\n    <regi>\\xeb\\xb6\\x80\\xec\\x82\\xb0</regi>\\n    <population_tot>3567910</population_tot>\\n    <population_man>1773170</population_man>\\n    <population_female>1794740</population_female>\\n    <houshol>1371346</houshol>\\n  </row>\\n  <row>\\n    <wrttimeid>2010</wrttimeid>\\n    <seq>4</seq>\\n    <regi>\\xeb\\x8c\\x80\\xea\\xb5\\xac</regi>\\n    <population_tot>2511676</population_tot>\\n    <population_man>1255245</population_man>\\n    <population_female>1256431</population_female>\\n    <houshol>934598</houshol>\\n  </row>\\n  <row>\\n    <wrttimeid>2010</wrttimeid>\\n    <seq>5</seq>\\n    <regi>\\xec\\x9d\\xb8\\xec\\xb2\\x9c</regi>\\n    <population_tot>2758296</population_tot>\\n    <population_man>1390356</population_man>\\n    <population_female>1367940</population_female>\\n    <houshol>1059664</houshol>\\n  </row>\\n  <row>\\n    <wrttimeid>2010</wrttimeid>\\n    <seq>6</seq>\\n    <regi>\\xea\\xb4\\x91\\xec\\xa3\\xbc</regi>\\n    <population_tot>1454636</population_tot>\\n    <population_man>721780</population_man>\\n    <population_female>732856</population_female>\\n    <houshol>540875</houshol>\\n  </row>\\n  <row>\\n    <wrttimeid>2010</wrttimeid>\\n    <seq>7</seq>\\n    <regi>\\xeb\\x8c\\x80\\xec\\xa0\\x84</regi>\\n    <population_tot>1503664</population_tot>\\n    <population_man>753648</population_man>\\n    <population_female>750016</population_female>\\n    <houshol>555768</houshol>\\n  </row>\\n  <row>\\n    <wrttimeid>2010</wrttimeid>\\n    <seq>8</seq>\\n    <regi>\\xec\\x9a\\xb8\\xec\\x82\\xb0</regi>\\n    <population_tot>1126298</population_tot>\\n    <population_man>579071</population_man>\\n    <population_female>547227</population_female>\\n    <houshol>405501</houshol>\\n  </row>\\n  <row>\\n    <wrttimeid>2010</wrttimeid>\\n    <seq>9</seq>\\n    <regi>\\xea\\xb2\\xbd\\xea\\xb8\\xb0</regi>\\n    <population_tot>11786622</population_tot>\\n    <population_man>5942454</population_man>\\n    <population_female>5844168</population_female>\\n    <houshol>4527282</houshol>\\n  </row>\\n  <row>\\n    <wrttimeid>2010</wrttimeid>\\n    <seq>10</seq>\\n    <regi>\\xea\\xb0\\x95\\xec\\x9b\\x90</regi>\\n    <population_tot>1529818</population_tot>\\n    <population_man>769807</population_man>\\n    <population_female>760011</population_female>\\n    <houshol>639001</houshol>\\n  </row>\\n  <row>\\n    <wrttimeid>2010</wrttimeid>\\n    <seq>11</seq>\\n    <regi>\\xec\\xb6\\xa9\\xeb\\xb6\\x81</regi>\\n    <population_tot>1549528</population_tot>\\n    <population_man>781301</population_man>\\n    <population_female>768227</population_female>\\n    <houshol>617431</houshol>\\n  </row>\\n  <row>\\n    <wrttimeid>2010</wrttimeid>\\n    <seq>12</seq>\\n    <regi>\\xec\\xb6\\xa9\\xeb\\x82\\xa8</regi>\\n    <population_tot>2075514</population_tot>\\n    <population_man>1049363</population_man>\\n    <population_female>1026151</population_female>\\n    <houshol>854432</houshol>\\n  </row>\\n  <row>\\n    <wrttimeid>2010</wrttimeid>\\n    <seq>13</seq>\\n    <regi>\\xec\\xa0\\x84\\xeb\\xb6\\x81</regi>\\n    <population_tot>1868963</population_tot>\\n    <population_man>931481</population_man>\\n    <population_female>937482</population_female>\\n    <houshol>740650</houshol>\\n  </row>\\n  <row>\\n    <wrttimeid>2010</wrttimeid>\\n    <seq>14</seq>\\n    <regi>\\xec\\xa0\\x84\\xeb\\x82\\xa8</regi>\\n    <population_tot>1918485</population_tot>\\n    <population_man>958624</population_man>\\n    <population_female>959861</population_female>\\n    <houshol>799520</houshol>\\n  </row>\\n  <row>\\n    <wrttimeid>2010</wrttimeid>\\n    <seq>15</seq>\\n    <regi>\\xea\\xb2\\xbd\\xeb\\xb6\\x81</regi>\\n    <population_tot>2689920</population_tot>\\n    <population_man>1351202</population_man>\\n    <population_female>1338718</population_female>\\n    <houshol>1101486</houshol>\\n  </row>\\n  <row>\\n    <wrttimeid>2010</wrttimeid>\\n    <seq>16</seq>\\n    <regi>\\xea\\xb2\\xbd\\xeb\\x82\\xa8</regi>\\n    <population_tot>3290536</population_tot>\\n    <population_man>1656042</population_man>\\n    <population_female>1634494</population_female>\\n    <houshol>1268731</houshol>\\n  </row>\\n</RegistrationPopulationByRegion>\\n\\n'\n"
     ]
    }
   ],
   "source": [
    "print(response.content)"
   ]
  },
  {
   "cell_type": "code",
   "execution_count": null,
   "metadata": {},
   "outputs": [],
   "source": [
    "## xml 데이터의 형태를 dict 형태로 변환해주는 라이브러리 설치 \n",
    "!pip install xmltodict"
   ]
  },
  {
   "cell_type": "code",
   "execution_count": 6,
   "metadata": {},
   "outputs": [],
   "source": [
    "import xmltodict"
   ]
  },
  {
   "cell_type": "code",
   "execution_count": 7,
   "metadata": {},
   "outputs": [],
   "source": [
    "# xml 데이터를 dict형태로 변환\n",
    "data = xmltodict.parse(response.content)"
   ]
  },
  {
   "cell_type": "code",
   "execution_count": null,
   "metadata": {},
   "outputs": [],
   "source": [
    "data"
   ]
  },
  {
   "cell_type": "code",
   "execution_count": 10,
   "metadata": {},
   "outputs": [],
   "source": [
    "from pprint import pprint"
   ]
  },
  {
   "cell_type": "code",
   "execution_count": 14,
   "metadata": {},
   "outputs": [],
   "source": [
    "data2 = data['RegistrationPopulationByRegion']['row']"
   ]
  },
  {
   "cell_type": "code",
   "execution_count": null,
   "metadata": {},
   "outputs": [],
   "source": [
    "data2"
   ]
  },
  {
   "cell_type": "code",
   "execution_count": 16,
   "metadata": {},
   "outputs": [],
   "source": [
    "import pandas as pd"
   ]
  },
  {
   "cell_type": "code",
   "execution_count": 17,
   "metadata": {},
   "outputs": [],
   "source": [
    "df = pd.DataFrame(data2)"
   ]
  },
  {
   "cell_type": "code",
   "execution_count": 19,
   "metadata": {},
   "outputs": [],
   "source": [
    "df.to_csv(\"test.csv\")"
   ]
  },
  {
   "cell_type": "code",
   "execution_count": null,
   "metadata": {},
   "outputs": [],
   "source": []
  }
 ],
 "metadata": {
  "kernelspec": {
   "display_name": "Python 3",
   "language": "python",
   "name": "python3"
  },
  "language_info": {
   "codemirror_mode": {
    "name": "ipython",
    "version": 3
   },
   "file_extension": ".py",
   "mimetype": "text/x-python",
   "name": "python",
   "nbconvert_exporter": "python",
   "pygments_lexer": "ipython3",
   "version": "3.11.1"
  }
 },
 "nbformat": 4,
 "nbformat_minor": 2
}
