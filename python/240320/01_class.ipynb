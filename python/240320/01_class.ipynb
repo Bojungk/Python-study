{
 "cells": [
  {
   "cell_type": "code",
   "execution_count": null,
   "metadata": {},
   "outputs": [],
   "source": [
    "## mysql server와의 연동을 하는 Class 선언 \n",
    "class MyDB:\n",
    "     # 생성자 함수 (DB서버의 정보를 입력)\n",
    "     def __init__(  \n",
    "             self,\n",
    "            _host = 'localhost',\n",
    "            _port = 3306,\n",
    "            _user = 'root',\n",
    "            _pw = '1234',\n",
    "            _db = 'ubion'\n",
    "        ):\n",
    "         self.host= _host\n",
    "         self.port= _port\n",
    "         self.user= _user\n",
    "         self.pw = _pw\n",
    "         self.db = _db\n",
    "     def sql_query(self, _sql, *_values):\n",
    "          #DB서버와의 연결\n",
    "          mydb=pymysql.connect( \n",
    "               host= self.host,\n",
    "               port=self.port,\n",
    "               user=self.user,\n",
    "               password=self.pw,\n",
    "               db=self.db\n",
    "          )\n",
    "          #cursor 생성 \n",
    "          cursor = mydb.cursor(pymysql.cursors.DictCursor)\n",
    "          #_sql, _values를 이용하여 cursor에 질의를 던진다. \n",
    "          cursor.execute(_sql, _values)\n",
    "          #_sql이 select문인가 확인 \n",
    "          if _sql.lower().strip().startswith('select'):\n",
    "               #select문이면\n",
    "               result = cursor.fetchall()\n",
    "          else:\n",
    "               #select문이 아니라면 \n",
    "               mydb.commit()\n",
    "               result= 'Query OK'\n",
    "          #DB 서버와의 연결을 종료\n",
    "          mydb.close()\n",
    "          #결과값을 되돌려준다.\n",
    "          return result"
   ]
  }
 ],
 "metadata": {
  "kernelspec": {
   "display_name": "Python 3",
   "language": "python",
   "name": "python3"
  },
  "language_info": {
   "codemirror_mode": {
    "name": "ipython",
    "version": 3
   },
   "file_extension": ".py",
   "mimetype": "text/x-python",
   "name": "python",
   "nbconvert_exporter": "python",
   "pygments_lexer": "ipython3",
   "version": "3.12.1"
  }
 },
 "nbformat": 4,
 "nbformat_minor": 2
}
