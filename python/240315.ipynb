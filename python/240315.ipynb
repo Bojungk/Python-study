{
 "cells": [
  {
   "cell_type": "code",
   "execution_count": null,
   "metadata": {},
   "outputs": [],
   "source": [
    "a = 10"
   ]
  },
  {
   "cell_type": "code",
   "execution_count": null,
   "metadata": {},
   "outputs": [],
   "source": []
  },
  {
   "cell_type": "markdown",
   "metadata": {},
   "source": [
    "# 제목1\n",
    "## 제목2\n",
    "### 제목3\n",
    "#### 제목4"
   ]
  },
  {
   "cell_type": "markdown",
   "metadata": {},
   "source": [
    "#### 비순서형 목록\n",
    "- 항목1\n",
    "- 항목2\n",
    "- 항목3\n",
    "    - 서브1\n",
    "    - 서브2\n",
    "    - 서브3"
   ]
  },
  {
   "cell_type": "markdown",
   "metadata": {},
   "source": [
    "### 순서형 목록\n",
    "1. 항목1\n",
    "3. 항목2\n",
    "5. 항목3\n",
    "    1. 서브1\n",
    "    2. 서브2\n",
    "    3. 서브3"
   ]
  },
  {
   "cell_type": "code",
   "execution_count": null,
   "metadata": {},
   "outputs": [],
   "source": [
    "# 변수를 생성 \n",
    "a = 10\n",
    "b = 'test'"
   ]
  },
  {
   "cell_type": "code",
   "execution_count": null,
   "metadata": {},
   "outputs": [],
   "source": [
    "print(a)\n",
    "print(type(a))\n",
    "print(b)\n",
    "print(type(b))"
   ]
  },
  {
   "cell_type": "code",
   "execution_count": null,
   "metadata": {},
   "outputs": [],
   "source": [
    "c = True\n",
    "d = 3.14\n",
    "print(c)\n",
    "print(type(c))\n",
    "print(d)\n",
    "print(type(d))"
   ]
  },
  {
   "cell_type": "code",
   "execution_count": null,
   "metadata": {},
   "outputs": [],
   "source": [
    "# 데이터의 타입을 변경 (문자를 숫자로 변경)\n",
    "x = '1000'\n",
    "print(type(x))\n",
    "x = int(x)\n",
    "print(type(x))"
   ]
  },
  {
   "cell_type": "code",
   "execution_count": null,
   "metadata": {},
   "outputs": [],
   "source": [
    "# 숫자를 문자로 변경 \n",
    "y = 100\n",
    "print(type(y))\n",
    "y = str(y)\n",
    "print(type(y))"
   ]
  },
  {
   "cell_type": "code",
   "execution_count": null,
   "metadata": {},
   "outputs": [],
   "source": [
    "a = 'test'\n",
    "print(a)\n",
    "a = bool(a)\n",
    "print(a)"
   ]
  },
  {
   "cell_type": "code",
   "execution_count": null,
   "metadata": {},
   "outputs": [],
   "source": [
    "bool(0)"
   ]
  },
  {
   "cell_type": "code",
   "execution_count": null,
   "metadata": {},
   "outputs": [],
   "source": [
    "bool(-3)"
   ]
  },
  {
   "cell_type": "code",
   "execution_count": null,
   "metadata": {},
   "outputs": [],
   "source": [
    "# 연산자 \n",
    "a = 10\n"
   ]
  },
  {
   "cell_type": "code",
   "execution_count": null,
   "metadata": {},
   "outputs": [],
   "source": [
    "b = 3"
   ]
  },
  {
   "cell_type": "code",
   "execution_count": null,
   "metadata": {},
   "outputs": [],
   "source": [
    "a + b"
   ]
  },
  {
   "cell_type": "code",
   "execution_count": null,
   "metadata": {},
   "outputs": [],
   "source": [
    "# a = a + b\n",
    "a += b"
   ]
  },
  {
   "cell_type": "code",
   "execution_count": null,
   "metadata": {},
   "outputs": [],
   "source": [
    "print(a)"
   ]
  },
  {
   "cell_type": "code",
   "execution_count": null,
   "metadata": {},
   "outputs": [],
   "source": [
    "# 조건문 (if문)\n",
    "a = 5\n",
    "\n",
    "if a < 10:\n",
    "    print('a가 10보다 작다')"
   ]
  },
  {
   "cell_type": "code",
   "execution_count": null,
   "metadata": {},
   "outputs": [],
   "source": [
    "a = 11\n",
    "\n",
    "if a < 10 :\n",
    "    print('a는 10보다 작다.')\n",
    "else:\n",
    "    print('a는 10보다 크거나 같다.')"
   ]
  },
  {
   "cell_type": "code",
   "execution_count": null,
   "metadata": {},
   "outputs": [],
   "source": [
    "x = \"\"\n",
    "\n",
    "# if 뒤의 조건식에 조건식이 아닌 변수가 들어온다면\n",
    "# 해당하는 변수를 강제로 bool형태로 변환하여 비교\n",
    "if x:\n",
    "    print('x에는 데이터가 존재')\n",
    "else:\n",
    "    print('x에는 데이터가 존재하지 않는다. ')"
   ]
  },
  {
   "cell_type": "code",
   "execution_count": null,
   "metadata": {},
   "outputs": [],
   "source": [
    "# 조건식이 여러개인 경우 \n",
    "# int() : 데이터를 숫자로 변환\n",
    "# input() : 입력한 데이터를 받는다. 받은 데이터의 타입이 str\n",
    "score = int(input(\"점수를 입력하시오 : \"))\n",
    "# print(score)\n",
    "\n",
    "if score >= 90:\n",
    "    print('A')\n",
    "elif score >= 80:\n",
    "    print('B')\n",
    "elif score >= 70:\n",
    "    print('C')\n",
    "elif score >= 60:\n",
    "    print('D')\n",
    "else:\n",
    "    print('F')\n",
    "\n",
    "print('프로그램 종료')\n"
   ]
  },
  {
   "cell_type": "markdown",
   "metadata": {},
   "source": [
    "#### 반복문 \n",
    "- for문 \n",
    "    - for i in range(시작값, 종료값, 증가값)\n",
    "    - for i in 자료형데이터(튜플, 리스트)\n",
    "    - 자료형 데이터의 원소의 개수만큼 반복 실행\n",
    "- while문 \n",
    "    - while 뒤의 조건식이 거짓이 될때까지 반복 실행\n",
    "    - 일반적으로는 초기값을 변수에 대입, 반복실행 시 초기값을 증가 시키는 형태로 작성\n",
    "    - 유의 사항 : 무한 반복을 하지 않도록(조건식이 거짓이 되는 부분) 조심\n",
    "- break\n",
    "    - 반복문을 강제로 종료\n",
    "- continue \n",
    "    - 반복문으로 되돌아가는 기능"
   ]
  },
  {
   "cell_type": "code",
   "execution_count": null,
   "metadata": {},
   "outputs": [],
   "source": [
    "print(range(1, 10, 1))\n",
    "print( list( range(1, 10, 1) ) )"
   ]
  },
  {
   "cell_type": "code",
   "execution_count": null,
   "metadata": {},
   "outputs": [],
   "source": [
    "#  기본적인 for문의 형태 \n",
    "for i in range(1, 10, 1):\n",
    "    print(i)"
   ]
  },
  {
   "cell_type": "code",
   "execution_count": null,
   "metadata": {},
   "outputs": [],
   "source": [
    "# 리스트 생성 \n",
    "_list = [100, 'test', True]\n",
    "\n",
    "# 리스트의 길이를 출력 \n",
    "print(len(_list))"
   ]
  },
  {
   "cell_type": "code",
   "execution_count": null,
   "metadata": {},
   "outputs": [],
   "source": [
    "# for i in range(0, 3, 1):\n",
    "for i in range(0, len(_list), 1):\n",
    "    # i에 들어오는 데이터들은? 0, 1, 2\n",
    "    print(_list[i])"
   ]
  },
  {
   "cell_type": "code",
   "execution_count": null,
   "metadata": {},
   "outputs": [],
   "source": [
    "for i in _list:\n",
    "    # i에 들어오는 데이터들은? \n",
    "    print(i)"
   ]
  },
  {
   "cell_type": "code",
   "execution_count": null,
   "metadata": {},
   "outputs": [],
   "source": [
    "# while문 \n",
    "\n",
    "# 초기값 지정 \n",
    "j = 1\n",
    "while j < 10:\n",
    "    print(j)\n",
    "    # i를 1씩 증가\n",
    "    # j = j + 1\n",
    "    j += 1"
   ]
  },
  {
   "cell_type": "code",
   "execution_count": null,
   "metadata": {},
   "outputs": [],
   "source": [
    "# 1부터 10까지의 합계\n",
    "\n",
    "# 초기의 합계라는 변수를 생성해서 0을 대입\n",
    "result = 0 \n",
    "for i in range(1, 11, 1):\n",
    "    # result = result + i\n",
    "    result += i\n",
    "print(result)"
   ]
  },
  {
   "cell_type": "code",
   "execution_count": null,
   "metadata": {},
   "outputs": [],
   "source": [
    "result = 0 \n",
    "i = 1\n",
    "while i <= 10:\n",
    "    # result = result + i\n",
    "    result += i\n",
    "    # i = i + 1\n",
    "    i += 1\n",
    "    print(result)"
   ]
  },
  {
   "cell_type": "code",
   "execution_count": null,
   "metadata": {},
   "outputs": [],
   "source": [
    "## 다중 반복문 \n",
    "## 구구단 생성\n",
    "for i in range(2, 10, 1):\n",
    "    for j in range(1, 10, 1):\n",
    "        # print(\"%d X %d = %d\"%(i, j, i*j))\n",
    "        # f-string 이용\n",
    "        print(f\"{i} x {j} = {i*j}\")"
   ]
  },
  {
   "cell_type": "markdown",
   "metadata": {},
   "source": [
    "### 반복문 예제 문제 (다중 for문)\n",
    "- 페르마의 마지막 정리가 참인가 확인\n",
    "\n",
    "> a<sup>n</sup> + b<sup>n</sup> = c<sup>n</sup> 해당하는 식에서 n이 2보다 큰 자연수라면 a, b, c에 들어갈 수 있는 자연수는 존재하지 않는다. \n",
    "\n",
    "- n = 3이라 가정을 하고 a, b, c에 1부터 10까지 값들을 모두 넣어서 해당하는 조건식이 참인 경우가 존재하는지 확인 "
   ]
  },
  {
   "cell_type": "code",
   "execution_count": 69,
   "metadata": {},
   "outputs": [
    {
     "name": "stdout",
     "output_type": "stream",
     "text": [
      "8000\n",
      "프로그램 종료\n"
     ]
    }
   ],
   "source": [
    "cnt = 0\n",
    "n = 3\n",
    "end = 20\n",
    "# a가 1부터 10까지 반복 \n",
    "for a in range(1, end+1, 1):   # 10번 반복\n",
    "    # b가 1부터 10까지 반복\n",
    "    for b in range(1, end+1, 1):   # 10번 반복   \n",
    "        # c가 1부터 10까지 반복\n",
    "        for c in range(1, end+1, 1):   # 10번 반복\n",
    "            # 10 * 10 * 10 번 반복\n",
    "            # 마지막 정리 공식이 참인가?\n",
    "            if a ** n + b ** n == c ** n:\n",
    "                # 참이라면 해당하는 a, b, c 출력\n",
    "                print(a, b, c)\n",
    "            cnt += 1\n",
    "# '프로그램 종료' 출력\n",
    "print(cnt)\n",
    "print('프로그램 종료')"
   ]
  },
  {
   "cell_type": "code",
   "execution_count": 81,
   "metadata": {},
   "outputs": [],
   "source": [
    "def test(n,start, end):\n",
    "    cnt = 0\n",
    "    result = 0\n",
    "    for a in range(start, end+1, 1):   # 10번 반복\n",
    "        # b가 1부터 10까지 반복\n",
    "        for b in range(start, end+1, 1):   # 10번 반복   \n",
    "            # c가 1부터 10까지 반복\n",
    "            for c in range(start, end+1, 1):   # 10번 반복\n",
    "                # 10 * 10 * 10 번 반복\n",
    "                # 마지막 정리 공식이 참인가?\n",
    "                if a ** n + b ** n == c ** n:\n",
    "                    # 참이라면 해당하는 a, b, c 출력\n",
    "                    print(a, b, c)\n",
    "                    result += 1\n",
    "                cnt += 1\n",
    "    return f\"{cnt}번 반복 참인 데이터의 개수 {result}\""
   ]
  },
  {
   "cell_type": "code",
   "execution_count": 82,
   "metadata": {},
   "outputs": [
    {
     "name": "stdout",
     "output_type": "stream",
     "text": [
      "1000번 반복 참인 데이터의 개수 0\n",
      "1000번 반복 참인 데이터의 개수 0\n",
      "1000번 반복 참인 데이터의 개수 0\n",
      "1000번 반복 참인 데이터의 개수 0\n",
      "1000번 반복 참인 데이터의 개수 0\n",
      "1000번 반복 참인 데이터의 개수 0\n",
      "1000번 반복 참인 데이터의 개수 0\n"
     ]
    }
   ],
   "source": [
    "for i in range(3, 10):\n",
    "    print(test(i, 1, 10))"
   ]
  },
  {
   "cell_type": "code",
   "execution_count": 78,
   "metadata": {},
   "outputs": [],
   "source": [
    "res"
   ]
  },
  {
   "cell_type": "code",
   "execution_count": null,
   "metadata": {},
   "outputs": [],
   "source": []
  }
 ],
 "metadata": {
  "kernelspec": {
   "display_name": "Python 3",
   "language": "python",
   "name": "python3"
  },
  "language_info": {
   "codemirror_mode": {
    "name": "ipython",
    "version": 3
   },
   "file_extension": ".py",
   "mimetype": "text/x-python",
   "name": "python",
   "nbconvert_exporter": "python",
   "pygments_lexer": "ipython3",
   "version": "3.12.1"
  }
 },
 "nbformat": 4,
 "nbformat_minor": 2
}
