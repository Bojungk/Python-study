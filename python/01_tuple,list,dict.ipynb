{
 "cells": [
  {
   "cell_type": "markdown",
   "metadata": {},
   "source": [
    "### 자료형 데이터\n",
    "> 여러개의 데이터를 하나의 변수에 저장시키는 데이터의 타입\n",
    "- tuple\n",
    "    - 자료형 데이터 중 가장 기본적인 형태 \n",
    "    - () 안에 데이터들을 적어서 저장 \n",
    "    - 한번 생성이 되면 안에 원소들을 수정, 추가, 삭제 불가능\n",
    "- list \n",
    "    - [] 안에 데이터들을 적어서 저장 \n",
    "    - tuple과는 다르게 안에 원소들을 수정하거나 추가, 삭제 가능\n",
    "    - 내부의 함수들을 이용하여 데이터를 수정\n",
    "    - 리스트의 원소의 개수는 0개부터 생성 가능\n",
    "- dict \n",
    "    - {} 안에 데이터들을 key : value의 형태로 적어서 저장\n",
    "    - list는 위치을 기준으로 데이터가 생성이 된다면 dict는 key값을 기준으로 데이터가 생성\n",
    "    - 딕셔너리의 원소의 개수는 0개부터 생성 가능"
   ]
  },
  {
   "cell_type": "code",
   "execution_count": null,
   "metadata": {},
   "outputs": [],
   "source": [
    "# tuple 데이터를 생성\n",
    "tuple_a = (10, 'test')\n",
    "tuple_b = (3, 3.14)\n",
    "print(tuple_a)\n",
    "print(tuple_b)\n",
    "print(type(tuple_a))\n",
    "print(type(tuple_b))"
   ]
  },
  {
   "cell_type": "code",
   "execution_count": null,
   "metadata": {},
   "outputs": [],
   "source": [
    "# tuple 간의 결합 \n",
    "tuple_c = tuple_a + tuple_b\n",
    "tuple_d = tuple_a * 3\n",
    "# 튜플은 데이터의 수정이 불가능하기때문에 에러 발생\n",
    "# tuple_e = tuple_b + 3\n",
    "print(tuple_c)\n",
    "print(tuple_d)\n",
    "# print(tuple_e)"
   ]
  },
  {
   "cell_type": "code",
   "execution_count": null,
   "metadata": {},
   "outputs": [],
   "source": [
    "# tuple 안에 데이터를 추출 \n",
    "print(tuple_d[1])\n",
    "# 두번째 데이터부터 네번째 데이터 전까지\n",
    "print(tuple_d[1:3])\n",
    "# 처음부터 세번째 데이터 전까지\n",
    "print(tuple_d[:2])\n",
    "# 두번째 데이터부터 마지막까지 \n",
    "print(tuple_d[1:])\n",
    "# 마지막 데이터만 출력\n",
    "print(tuple_d[5])\n",
    "# len(tuple_d) -> 6\n",
    "print(tuple_d[len(tuple_d)-1])\n",
    "print(tuple_d[-1])"
   ]
  },
  {
   "cell_type": "code",
   "execution_count": null,
   "metadata": {},
   "outputs": [],
   "source": [
    "# list 데이터 생성\n",
    "list_a = [20, 10, 40, 30]\n",
    "list_b = ['abc', 'ade', 'aaa']\n",
    "print(list_a)\n",
    "print(list_b)\n",
    "print(type(list_a))\n",
    "print(type(list_b))"
   ]
  },
  {
   "cell_type": "code",
   "execution_count": null,
   "metadata": {},
   "outputs": [],
   "source": [
    "## 정렬을 변경 \n",
    "# 오름차순 정렬 \n",
    "list_a.sort()\n",
    "print(list_a)"
   ]
  },
  {
   "cell_type": "code",
   "execution_count": null,
   "metadata": {},
   "outputs": [],
   "source": [
    "# 역순으로 변경 \n",
    "list_b.reverse()\n",
    "print(list_b)"
   ]
  },
  {
   "cell_type": "code",
   "execution_count": null,
   "metadata": {},
   "outputs": [],
   "source": [
    "# 내림차순 정렬\n",
    "list_c = [20, 40, 10, 30]\n",
    "# 오름차순 정렬\n",
    "list_c.sort()\n",
    "# 역순으로 변경\n",
    "list_c.reverse()\n",
    "print(list_c)"
   ]
  },
  {
   "cell_type": "code",
   "execution_count": null,
   "metadata": {},
   "outputs": [],
   "source": [
    "list_d = [20, 40, 10, 30]\n",
    "# 내림차순 정렬\n",
    "list_d.sort(reverse=True)\n",
    "print(list_d)"
   ]
  },
  {
   "cell_type": "code",
   "execution_count": null,
   "metadata": {},
   "outputs": [],
   "source": [
    "## list에 원소를 추가 \n",
    "# 마지막에 원소를 추가\n",
    "list_a.append(22)\n",
    "print(list_a)"
   ]
  },
  {
   "cell_type": "code",
   "execution_count": null,
   "metadata": {},
   "outputs": [],
   "source": [
    "# 특정 위치에 데이터를 추가 \n",
    "list_a.insert(2, 100)\n",
    "print(list_a)"
   ]
  },
  {
   "cell_type": "code",
   "execution_count": null,
   "metadata": {},
   "outputs": [],
   "source": [
    "# 원소를 제거 \n",
    "# 가장 마지막 원소를 제거 \n",
    "list_a.pop()\n",
    "print(list_a)"
   ]
  },
  {
   "cell_type": "code",
   "execution_count": null,
   "metadata": {},
   "outputs": [],
   "source": [
    "# 특정 위치의 원소를 제거 \n",
    "del list_a[3]\n",
    "print(list_a)"
   ]
  },
  {
   "cell_type": "code",
   "execution_count": null,
   "metadata": {},
   "outputs": [],
   "source": [
    "list_a.append(10)\n",
    "print(list_a)"
   ]
  },
  {
   "cell_type": "code",
   "execution_count": null,
   "metadata": {},
   "outputs": [],
   "source": [
    "# 특정 값을 제거 \n",
    "# 해당하는 값이 2개 이상이라면 앞에 있는 데이터가 제거 \n",
    "# 제거하려는 데이터가 존재하지 않는다면 에러가 발생\n",
    "list_a.remove(10)\n",
    "print(list_a)"
   ]
  },
  {
   "cell_type": "code",
   "execution_count": null,
   "metadata": {},
   "outputs": [],
   "source": [
    "## 리스트를 확장 (리스트의 결합)\n",
    "# list_a = list_a + list_b\n",
    "list_a += list_b"
   ]
  },
  {
   "cell_type": "code",
   "execution_count": null,
   "metadata": {},
   "outputs": [],
   "source": [
    "print(list_a)"
   ]
  },
  {
   "cell_type": "code",
   "execution_count": null,
   "metadata": {},
   "outputs": [],
   "source": [
    "list_a.extend(list_b)\n",
    "print(list_a)"
   ]
  },
  {
   "cell_type": "code",
   "execution_count": null,
   "metadata": {},
   "outputs": [],
   "source": [
    "a = 10\n",
    "b = a"
   ]
  },
  {
   "cell_type": "code",
   "execution_count": null,
   "metadata": {},
   "outputs": [],
   "source": [
    "print(a)\n",
    "print(b)"
   ]
  },
  {
   "cell_type": "code",
   "execution_count": null,
   "metadata": {},
   "outputs": [],
   "source": [
    "b += 1\n",
    "print(a)\n",
    "print(b)"
   ]
  },
  {
   "cell_type": "code",
   "execution_count": null,
   "metadata": {},
   "outputs": [],
   "source": [
    "list_1 = [10, 20, 30]\n",
    "list_2 = list_1\n",
    "print(list_1)\n",
    "print(list_2)"
   ]
  },
  {
   "cell_type": "code",
   "execution_count": null,
   "metadata": {},
   "outputs": [],
   "source": [
    "list_2.append(1)\n",
    "print(list_1)\n",
    "print(list_2)"
   ]
  },
  {
   "cell_type": "code",
   "execution_count": null,
   "metadata": {},
   "outputs": [],
   "source": [
    "# copy() : 복사본 생성 (백업 데이터를 생성)\n",
    "list_3 = list_1.copy()"
   ]
  },
  {
   "cell_type": "code",
   "execution_count": null,
   "metadata": {},
   "outputs": [],
   "source": [
    "print(list_1)\n",
    "print(list_3)"
   ]
  },
  {
   "cell_type": "code",
   "execution_count": null,
   "metadata": {},
   "outputs": [],
   "source": [
    "# list_3에서 마지막 원소를 제거\n",
    "list_3.pop()\n",
    "print(list_1)\n",
    "print(list_3)"
   ]
  },
  {
   "cell_type": "code",
   "execution_count": null,
   "metadata": {},
   "outputs": [],
   "source": [
    "## 1차원 데이터가 아닌 2차원 데이터 \n",
    "list_4 = [\n",
    "    (10, 20, 30), \n",
    "    (50, 60, 70)\n",
    "]\n",
    "print(list_4)"
   ]
  },
  {
   "cell_type": "code",
   "execution_count": null,
   "metadata": {},
   "outputs": [],
   "source": [
    "# list_4에서 30이라는 데이터를 추출 \n",
    "print(list_4[0])\n",
    "print(list_4[0][2])"
   ]
  },
  {
   "cell_type": "code",
   "execution_count": null,
   "metadata": {},
   "outputs": [],
   "source": [
    "# 리스트는 0개 이상의 데이터를 생성이 가능\n",
    "# 예시\n",
    "result = 0\n",
    "print(result)\n",
    "result = 5\n",
    "print(result)"
   ]
  },
  {
   "cell_type": "code",
   "execution_count": null,
   "metadata": {},
   "outputs": [],
   "source": [
    "# 비어있는 리스트를 생성\n",
    "list1 = []\n",
    "list2 = list()\n",
    "print(list1)\n",
    "print(list2)"
   ]
  },
  {
   "cell_type": "code",
   "execution_count": null,
   "metadata": {},
   "outputs": [],
   "source": [
    "## 2개의 주사위가 존재한다. \n",
    "## 2개의 주사위를 굴렸을때 주사위의 합이 5의 배수인 \n",
    "## 경우의 수를 리스트에 대입 \n",
    "## 5의 배수 : 5로 나누었을때 나머지가 0인 값\n",
    "## (1, 4), (2, 3), (3, 2), (4, 1) --> 2개의 주사위의 합이 5\n",
    "## (4, 6), (5, 5), (6, 4) -> 2개의 주사위의 합이 10\n",
    "for i in range(1, 7, 1):    # 첫번째 주사위의 경우의 수\n",
    "    for j in range(1, 7, 1):    # 두번째 주사위의 경우의 수\n",
    "        # print(i, j)\n",
    "        # print(i + j)\n",
    "        # 두 주사위의 합이 5의 배수라면? \n",
    "        # (두 주사위의 합이 5로 나누었을때 나머지가 0이라면?)\n",
    "        if (i + j) % 5 == 0:\n",
    "            # print(i, j)\n",
    "            # list_1에 (i, j)를 추가 \n",
    "            list1.append( (i, j) )\n",
    "            print(list1)"
   ]
  },
  {
   "cell_type": "code",
   "execution_count": null,
   "metadata": {},
   "outputs": [],
   "source": [
    "print(list1)"
   ]
  },
  {
   "cell_type": "code",
   "execution_count": null,
   "metadata": {},
   "outputs": [],
   "source": [
    "## 리스트 형태를 bool의 형태로 강제 변환\n",
    "list1 = []          ## False\n",
    "list2 = ['test']    ## True\n",
    "list3 = ['']        ## False\n",
    "list4 = [0]         ## True\n",
    "list5 = [5]         ## True\n",
    "\n",
    "print(bool(list1), len(list1))\n",
    "print(bool(list2), len(list2))\n",
    "print(bool(list3), len(list3))\n",
    "print(bool(list4), len(list4))\n",
    "print(bool(list5), len(list5))"
   ]
  },
  {
   "cell_type": "code",
   "execution_count": null,
   "metadata": {},
   "outputs": [],
   "source": [
    "## dict 데이터 생성\n",
    "## list와의 차이 : 기준이 다르다\n",
    "## list의 기준은 index(위치)\n",
    "## dict의 기준은 key\n",
    "dict_1 = {\n",
    "    'name' : 'test', \n",
    "    'age' : 20\n",
    "}\n",
    "print(dict_1)\n",
    "print(type(dict_1))"
   ]
  },
  {
   "cell_type": "code",
   "execution_count": null,
   "metadata": {},
   "outputs": [],
   "source": [
    "## dict는 key와 value로 이루어져있다. \n",
    "# key 값들만 따로 출력 \n",
    "print(dict_1.keys())\n",
    "# value 값들만 따로 출력 \n",
    "print(dict_1.values())\n",
    "# dict형태를 list의 형태로 변환 [ (key, value), ... ]\n",
    "print(dict_1.items())"
   ]
  },
  {
   "cell_type": "code",
   "execution_count": null,
   "metadata": {},
   "outputs": [],
   "source": [
    "## 외부에서 데이터를 로드하는 경우 \n",
    "## 데이터의 형태는 [{}, {}], {key:[], key2:[]}\n",
    "sample1 = [\n",
    "    {\n",
    "        'name' : 'test', \n",
    "        'age' : 20\n",
    "    }, \n",
    "    {\n",
    "        'name' : 'test2', \n",
    "        'age' : 30\n",
    "    }, \n",
    "    {\n",
    "        'name' :'test3', \n",
    "        'age' : 25\n",
    "    }\n",
    "]\n",
    "print(sample1)\n",
    "print(type(sample1))"
   ]
  },
  {
   "cell_type": "code",
   "execution_count": null,
   "metadata": {},
   "outputs": [],
   "source": [
    "# sample1에서 20이라는 데이터만 추출\n",
    "print(sample1[0])\n",
    "print(sample1[0]['age'])\n",
    "print(sample1[1]['age'])"
   ]
  },
  {
   "cell_type": "code",
   "execution_count": null,
   "metadata": {},
   "outputs": [],
   "source": [
    "## sample1에서 age의 값들만 따로 추출하여 새로운 리스트를 생성\n",
    "\n",
    "## 비어있는 리스트를 생성 \n",
    "res1 = []\n",
    "\n",
    "res1.append(\n",
    "    sample1[0]['age']\n",
    ")\n",
    "print(res1)\n",
    "res1.append(\n",
    "    sample1[1]['age']\n",
    ")\n",
    "print(res1)\n",
    "res1.append(\n",
    "    sample1[2]['age']\n",
    ")\n",
    "print(res1)\n"
   ]
  },
  {
   "cell_type": "code",
   "execution_count": null,
   "metadata": {},
   "outputs": [],
   "source": [
    "res2 = []\n",
    "for i in range(len(sample1)):\n",
    "    # i가 의미하는 것은? sample1의 위치\n",
    "    # print(i)\n",
    "    res2.append(sample1[i]['age'])\n",
    "    print(res2)"
   ]
  },
  {
   "cell_type": "code",
   "execution_count": null,
   "metadata": {},
   "outputs": [],
   "source": [
    "_list = [\n",
    "    'test', 'test2', 'test3'\n",
    "]\n",
    "for i in _list: \n",
    "    print(i)"
   ]
  },
  {
   "cell_type": "code",
   "execution_count": null,
   "metadata": {},
   "outputs": [],
   "source": [
    "res3 = []\n",
    "for i in sample1:\n",
    "    # print(i, type(i))\n",
    "    ## sample1에 딕셔너리 데이터중 age의 값들만 res3 추가 \n",
    "    # print(i['age'])\n",
    "    # i가 의미하는것은? : sample1[0], sample1[1], sample1[2]\n",
    "    res3.append(\n",
    "        i['age']\n",
    "    )\n",
    "    print(res3)"
   ]
  },
  {
   "cell_type": "code",
   "execution_count": 63,
   "metadata": {},
   "outputs": [
    {
     "data": {
      "text/plain": [
       "[{'name': 'test', 'age': 20},\n",
       " {'name': 'test2', 'age': 30},\n",
       " {'name': 'test3', 'age': 25}]"
      ]
     },
     "execution_count": 63,
     "metadata": {},
     "output_type": "execute_result"
    }
   ],
   "source": [
    "sample1"
   ]
  },
  {
   "cell_type": "code",
   "execution_count": null,
   "metadata": {},
   "outputs": [],
   "source": [
    "sample2 = {\n",
    "    'name' : ['test', 'test2', 'test3'], \n",
    "    'age' : [20, 30, 25]\n",
    "}"
   ]
  },
  {
   "cell_type": "code",
   "execution_count": 61,
   "metadata": {},
   "outputs": [
    {
     "name": "stdout",
     "output_type": "stream",
     "text": [
      "['test', 'test2', 'test3']\n",
      "25\n"
     ]
    }
   ],
   "source": [
    "print(sample2['name'])\n",
    "print(sample2['age'][2])"
   ]
  },
  {
   "cell_type": "code",
   "execution_count": 66,
   "metadata": {},
   "outputs": [
    {
     "name": "stdout",
     "output_type": "stream",
     "text": [
      "i=name, j=0, sample2=test\n",
      "[{}]\n",
      "[{'name': 'test'}]\n",
      "i=name, j=1, sample2=test2\n",
      "[{'name': 'test'}, {}]\n",
      "[{'name': 'test'}, {'name': 'test2'}]\n",
      "i=name, j=2, sample2=test3\n",
      "[{'name': 'test'}, {'name': 'test2'}, {}]\n",
      "[{'name': 'test'}, {'name': 'test2'}, {'name': 'test3'}]\n",
      "i=age, j=0, sample2=20\n",
      "[{'name': 'test'}, {'name': 'test2'}, {'name': 'test3'}]\n",
      "[{'name': 'test', 'age': 20}, {'name': 'test2'}, {'name': 'test3'}]\n",
      "i=age, j=1, sample2=30\n",
      "[{'name': 'test', 'age': 20}, {'name': 'test2'}, {'name': 'test3'}]\n",
      "[{'name': 'test', 'age': 20}, {'name': 'test2', 'age': 30}, {'name': 'test3'}]\n",
      "i=age, j=2, sample2=25\n",
      "[{'name': 'test', 'age': 20}, {'name': 'test2', 'age': 30}, {'name': 'test3'}]\n",
      "[{'name': 'test', 'age': 20}, {'name': 'test2', 'age': 30}, {'name': 'test3', 'age': 25}]\n"
     ]
    }
   ],
   "source": [
    "sample3 = []\n",
    "for i in sample2:\n",
    "    # i가 의미하는것은? sample2의 key값\n",
    "    # print(i) --> i는 (name, age)\n",
    "    # print(sample2[i]) -> ['test', 'test2', 'test3'], [20, 30, 25]\n",
    "    # for j in sample2[i]:\n",
    "    for j in range(len(sample2[i])):    ## for i in range(3)\n",
    "        print(f\"i={i}, j={j}, sample2={sample2[i][j]}\")\n",
    "        ## (name, 0, sample2['name'][0])\n",
    "        ## 조건식 : sample2[i]의 길이(3) > sample3길이\n",
    "        if len(sample2[i]) > len(sample3):\n",
    "            sample3.append({})  \n",
    "        print(sample3)\n",
    "        # ## 6번 반복을 하면서 sample3에 {}가 6개 추가\n",
    "        # ## 3번(dict 안에 list의 길이) 만 추가하도록 코드 수정\n",
    "        sample3[j][i] = sample2[i][j]\n",
    "        # 첫번째 반복 :  sample3 -> [{}]\n",
    "        #               sample3[0]['name'] = sample2['name'][0]\n",
    "        #               sample2['name'][0] -> 'test'\n",
    "        #               sample3 -> [{'name' : 'test'}]\n",
    "        # 두번째 반복 :  sample3 -> [{'name':'test'}, {}]\n",
    "        #               sample3[1]['name'] = sample2['name'][1]\n",
    "        #               sample2['name'][1] -> 'test2'\n",
    "        #               sample3 -> [{'name':'test'}, {'name':'test2'}]\n",
    "        # 세번째 반복 :  sample3 -> [{'name':'test'}, {'name':'test2'}, {}]\n",
    "        #               sample3[2]['name'] = sample2['name'][2]\n",
    "        #               sample2['name'][2] -> 'test3'\n",
    "        #               sample3 -> [{'name':'test'}, {'name':'test2'}, {'name':'test3'}]\n",
    "        # 네번째 반복 :  if len(sample2[i]) > len(sample3) --> 거짓(sample3에 {} 추가하지 않는다.)\n",
    "        #               sample3 -> [{'name':'test'}, {'name':'test2'}, {'name':'test3'}]  \n",
    "        #               sample3[0]['age'] = sample2['age'][0]\n",
    "        #               sample2['age'][0] -> 20\n",
    "        #               sample3 = [{'name':'test', 'age':20}, {'name':'test2'}, {'name':'test3'}]\n",
    "        print(sample3)"
   ]
  },
  {
   "cell_type": "code",
   "execution_count": null,
   "metadata": {},
   "outputs": [],
   "source": [
    "## dict 데이터에서 key:value 추가 \n",
    "test_dict = {}\n",
    "print(test_dict)\n",
    "test_dict['new'] = 1\n",
    "print(test_dict)\n",
    "# 기존에 존재하는 key에 value를 변경 \n",
    "test_dict['new'] = 3\n",
    "print(test_dict)"
   ]
  }
 ],
 "metadata": {
  "kernelspec": {
   "display_name": "Python 3",
   "language": "python",
   "name": "python3"
  },
  "language_info": {
   "codemirror_mode": {
    "name": "ipython",
    "version": 3
   },
   "file_extension": ".py",
   "mimetype": "text/x-python",
   "name": "python",
   "nbconvert_exporter": "python",
   "pygments_lexer": "ipython3",
   "version": "3.11.1"
  }
 },
 "nbformat": 4,
 "nbformat_minor": 2
}
