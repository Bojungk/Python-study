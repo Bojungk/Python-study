{
 "cells": [
  {
   "cell_type": "code",
   "execution_count": 2,
   "metadata": {},
   "outputs": [],
   "source": [
    "## 함수 생성\n",
    "## 매개변수가 존재하지 않는 함수\n",
    "def func_1():\n",
    "    return 'Hello'\n",
    "\n",
    "def func_2():\n",
    "    print('Hello')"
   ]
  },
  {
   "cell_type": "code",
   "execution_count": 5,
   "metadata": {},
   "outputs": [],
   "source": [
    "a = func_1()"
   ]
  },
  {
   "cell_type": "code",
   "execution_count": 6,
   "metadata": {},
   "outputs": [
    {
     "name": "stdout",
     "output_type": "stream",
     "text": [
      "Hello\n"
     ]
    }
   ],
   "source": [
    "b = func_2()"
   ]
  },
  {
   "cell_type": "code",
   "execution_count": 7,
   "metadata": {},
   "outputs": [
    {
     "name": "stdout",
     "output_type": "stream",
     "text": [
      "Hello\n",
      "None\n"
     ]
    }
   ],
   "source": [
    "print(a)\n",
    "# func_2() return 존재하지 않기때문에 데이터가 비어있다.\n",
    "print(b)"
   ]
  },
  {
   "cell_type": "code",
   "execution_count": 8,
   "metadata": {},
   "outputs": [],
   "source": [
    "# 변수 생성 \n",
    "# 변수명1, 변수명2 = data1, data2\n",
    "# 변수명1 = data1\n",
    "# 변수명2 = data2\n",
    "def func_3():\n",
    "    a = 'Hello'\n",
    "    b = 'world'\n",
    "    return a, b\n"
   ]
  },
  {
   "cell_type": "code",
   "execution_count": 10,
   "metadata": {},
   "outputs": [],
   "source": [
    "res1 = func_3()"
   ]
  },
  {
   "cell_type": "code",
   "execution_count": 12,
   "metadata": {},
   "outputs": [],
   "source": [
    "res_a = res1[0]\n",
    "res_b = res1[1]"
   ]
  },
  {
   "cell_type": "code",
   "execution_count": 13,
   "metadata": {},
   "outputs": [],
   "source": [
    "result_a, result_b = func_3()"
   ]
  },
  {
   "cell_type": "code",
   "execution_count": 14,
   "metadata": {},
   "outputs": [
    {
     "name": "stdout",
     "output_type": "stream",
     "text": [
      "Hello\n",
      "world\n"
     ]
    }
   ],
   "source": [
    "print(result_a)\n",
    "print(result_b)"
   ]
  },
  {
   "cell_type": "code",
   "execution_count": 15,
   "metadata": {},
   "outputs": [],
   "source": [
    "## 매개변수가 존재하는 함수를 생성\n",
    "def func_4(x, y):\n",
    "    result = x + y\n",
    "    return result"
   ]
  },
  {
   "cell_type": "code",
   "execution_count": 16,
   "metadata": {},
   "outputs": [
    {
     "name": "stdout",
     "output_type": "stream",
     "text": [
      "8\n"
     ]
    }
   ],
   "source": [
    "print(func_4(5, 3))"
   ]
  },
  {
   "cell_type": "code",
   "execution_count": null,
   "metadata": {},
   "outputs": [],
   "source": [
    "# 함수 호출 시 매개변수의 개수와 인자의 개수가 다르다면?\n",
    "## 에러 발생\n",
    "func_4(1, 2, 3)"
   ]
  },
  {
   "cell_type": "code",
   "execution_count": 21,
   "metadata": {},
   "outputs": [
    {
     "name": "stdout",
     "output_type": "stream",
     "text": [
      "1\n",
      "2\n"
     ]
    }
   ],
   "source": [
    "print(1, end='\\n')\n",
    "print(2)"
   ]
  },
  {
   "cell_type": "code",
   "execution_count": 22,
   "metadata": {},
   "outputs": [],
   "source": [
    "# 기본값이 존재하는 함수를 생성\n",
    "def func_5(x, y=5):\n",
    "    result = x + y\n",
    "    return result"
   ]
  },
  {
   "cell_type": "code",
   "execution_count": 23,
   "metadata": {},
   "outputs": [
    {
     "name": "stdout",
     "output_type": "stream",
     "text": [
      "15\n"
     ]
    }
   ],
   "source": [
    "print(func_5(10))\n",
    "# func_5(x, y) --> x = 10, y = 5\n",
    "# result = 10 + 5\n",
    "# return 15"
   ]
  },
  {
   "cell_type": "code",
   "execution_count": 25,
   "metadata": {},
   "outputs": [
    {
     "name": "stdout",
     "output_type": "stream",
     "text": [
      "12\n"
     ]
    }
   ],
   "source": [
    "print(func_5(10, 2))\n",
    "# func_5(x, y) --> x = 10, y = 2\n",
    "# result = 10 + 2\n",
    "# return 12"
   ]
  },
  {
   "cell_type": "code",
   "execution_count": 41,
   "metadata": {},
   "outputs": [],
   "source": [
    "## 인자의 개수가 가변인 함수를 생성 \n",
    "## 모든 인자 값들을 누적합을 하여 되돌려주는 함수\n",
    "def func_6(*args):\n",
    "    # print(args)\n",
    "    # print(type(args))\n",
    "    # 합계 초기 값을 지정\n",
    "    result = 0\n",
    "    # args가 튜플 형태의 데이터임으로\n",
    "    # 각원소의 값들을 하나씩 출력하여  result 더해준다.\n",
    "    for i in args:\n",
    "        # i는 어떤 데이터 ? : 인자\n",
    "        # print(i)\n",
    "        result += i\n",
    "    return result"
   ]
  },
  {
   "cell_type": "code",
   "execution_count": 42,
   "metadata": {},
   "outputs": [
    {
     "data": {
      "text/plain": [
       "13"
      ]
     },
     "execution_count": 42,
     "metadata": {},
     "output_type": "execute_result"
    }
   ],
   "source": [
    "func_6(3, 7, 1, 2)"
   ]
  },
  {
   "cell_type": "code",
   "execution_count": 43,
   "metadata": {},
   "outputs": [
    {
     "data": {
      "text/plain": [
       "55"
      ]
     },
     "execution_count": 43,
     "metadata": {},
     "output_type": "execute_result"
    }
   ],
   "source": [
    "func_6(1,2,3,4,5,6,7,8,9,10)"
   ]
  },
  {
   "cell_type": "code",
   "execution_count": 28,
   "metadata": {},
   "outputs": [
    {
     "name": "stdout",
     "output_type": "stream",
     "text": [
      "15\n"
     ]
    }
   ],
   "source": [
    "# 1부터 5까지의 합\n",
    "res = 0 \n",
    "for i in range(1, 6, 1):\n",
    "    res += i\n",
    "print(res)"
   ]
  },
  {
   "cell_type": "code",
   "execution_count": 29,
   "metadata": {},
   "outputs": [
    {
     "name": "stdout",
     "output_type": "stream",
     "text": [
      "15\n"
     ]
    }
   ],
   "source": [
    "_tuple =(1, 2, 3, 4, 5)\n",
    "res = 0 \n",
    "\n",
    "res = res + _tuple[0]\n",
    "res = res + _tuple[1]\n",
    "res = res + _tuple[2]\n",
    "res = res + _tuple[3]\n",
    "res = res + _tuple[4]\n",
    "print(res)"
   ]
  },
  {
   "cell_type": "code",
   "execution_count": 31,
   "metadata": {},
   "outputs": [
    {
     "data": {
      "text/plain": [
       "15"
      ]
     },
     "execution_count": 31,
     "metadata": {},
     "output_type": "execute_result"
    }
   ],
   "source": [
    "_tuple = (1,2,3,4,5)\n",
    "res = 0\n",
    "\n",
    "for i in range(len(_tuple)):\n",
    "    res = res + _tuple[i]\n",
    "res\n"
   ]
  },
  {
   "cell_type": "code",
   "execution_count": 32,
   "metadata": {},
   "outputs": [
    {
     "data": {
      "text/plain": [
       "15"
      ]
     },
     "execution_count": 32,
     "metadata": {},
     "output_type": "execute_result"
    }
   ],
   "source": [
    "_tuple = (1,2,3,4,5)\n",
    "res = 0\n",
    "\n",
    "for i in _tuple:\n",
    "    res = res + i\n",
    "res\n"
   ]
  },
  {
   "cell_type": "code",
   "execution_count": 44,
   "metadata": {},
   "outputs": [],
   "source": [
    "def func_7(data, *values):\n",
    "    print(data)\n",
    "    print(values)\n"
   ]
  },
  {
   "cell_type": "code",
   "execution_count": 46,
   "metadata": {},
   "outputs": [
    {
     "name": "stdout",
     "output_type": "stream",
     "text": [
      "t\n",
      "(1, 3, 5)\n"
     ]
    }
   ],
   "source": [
    "func_7('t', 1, 3, 5)"
   ]
  },
  {
   "cell_type": "code",
   "execution_count": 48,
   "metadata": {},
   "outputs": [
    {
     "data": {
      "text/plain": [
       "19"
      ]
     },
     "execution_count": 48,
     "metadata": {},
     "output_type": "execute_result"
    }
   ],
   "source": [
    "sum([1, 2, 7, 9])"
   ]
  },
  {
   "cell_type": "code",
   "execution_count": 51,
   "metadata": {},
   "outputs": [],
   "source": [
    "## 데이터들의 평균을 구하는 함수 생성\n",
    "## 함수에 매개변수는 인자의 개수가 가변인 상태로 생성\n",
    "## 평균 : 인자들의 총합 / 인자들의 개수\n",
    "def mean(*_values):\n",
    "    sum_value = 0\n",
    "    cnt = 0\n",
    "    for val in _values:\n",
    "        # val에 대입이 되는 데이터 : 인자\n",
    "        sum_value += val\n",
    "        cnt += 1\n",
    "    result = sum_value / cnt\n",
    "    return result"
   ]
  },
  {
   "cell_type": "code",
   "execution_count": 52,
   "metadata": {},
   "outputs": [
    {
     "data": {
      "text/plain": [
       "3.0"
      ]
     },
     "execution_count": 52,
     "metadata": {},
     "output_type": "execute_result"
    }
   ],
   "source": [
    "mean(1, 2, 3, 4, 5)\n",
    "\n",
    "# _values -> (1,2,3,4,5)\n",
    "# sum_value -> 0\n",
    "# cnt -> 0\n",
    "# for val in (1,2,3,4,5):\n",
    "    ## val 변수에 (1,2,3,4,5)를 한번씩 대입하여 반복 실행\n",
    "    ## 첫번째 반복 : val -> 1, sum_value -> 0, cnt -> 0\n",
    "    ## sum_value = sum_value(0) + val(1) --> sum_value = 1\n",
    "    ## cnt = cnt(0) + 1 --> cnt = 1\n",
    "    ## 두번째 반복 : val -> 2, sum_value -> 1, cnt -> 1\n",
    "    ## sum_value = sum_value(1) + val(2) --> sum_value = 3\n",
    "    ## cnt = cnt(1) + 1 --> cnt = 2\n",
    "\n"
   ]
  },
  {
   "cell_type": "code",
   "execution_count": 55,
   "metadata": {},
   "outputs": [],
   "source": [
    "## 외부의 함수를 호출\n",
    "import mod"
   ]
  },
  {
   "cell_type": "code",
   "execution_count": 59,
   "metadata": {},
   "outputs": [
    {
     "data": {
      "text/plain": [
       "<module 'mod' from 'c:\\\\Users\\\\moons\\\\Documents\\\\GitHub\\\\ubion_m_5\\\\python\\\\240319\\\\mod.py'>"
      ]
     },
     "execution_count": 59,
     "metadata": {},
     "output_type": "execute_result"
    }
   ],
   "source": [
    "# 모듈을 리로드 하는 방법 \n",
    "import importlib\n",
    "importlib.reload(mod)"
   ]
  },
  {
   "cell_type": "code",
   "execution_count": 60,
   "metadata": {},
   "outputs": [
    {
     "data": {
      "text/plain": [
       "6.333333333333333"
      ]
     },
     "execution_count": 60,
     "metadata": {},
     "output_type": "execute_result"
    }
   ],
   "source": [
    "mod.mean_a(7, 3, 9)"
   ]
  },
  {
   "cell_type": "code",
   "execution_count": 97,
   "metadata": {},
   "outputs": [],
   "source": [
    "## 인자들 중에 가장 작은 값을 출력하는 함수 \n",
    "## 함수에 인자의 개수는 가변의 형태로 생성\n",
    "def c_min(*values):\n",
    "    # values의 첫번째 데이터와 두번째 데이터를 비교하여 \n",
    "    # 작은 값을 저장\n",
    "    print(values)\n",
    "    result = values[0]\n",
    "    for i in range(1, len(values), 1):    \n",
    "        if result > values[i]:\n",
    "            result = values[i]\n",
    "    return result"
   ]
  },
  {
   "cell_type": "code",
   "execution_count": 69,
   "metadata": {},
   "outputs": [
    {
     "data": {
      "text/plain": [
       "3"
      ]
     },
     "execution_count": 69,
     "metadata": {},
     "output_type": "execute_result"
    }
   ],
   "source": [
    "c_min(8, 6, 9, 3, 10)\n",
    "# values -> (8, 6, 9, 3, 10)\n",
    "# result = values[0] --> result = 8\n",
    "# for i in range(1, 5, 1) --> 4번 반복\n",
    "# 첫번째 반복 : result -> 8, i -> 1\n",
    "    # if result(8) > values[1](6) --> True\n",
    "        # result = values[1] --> result = 6\n",
    "# 두번째 반복 : result -> 6, i -> 2\n",
    "    # if result(6) > values[2](9) --> False\n",
    "# 세번째 반복 : result -> 6, i -> 3\n",
    "    # if result(6) > values[3](3) --> True\n",
    "        # result = values[3] --> result = 3\n",
    "# 네번째 반복 : result -> 3, i -> 4\n",
    "    # if result(3) > values[4](10) --> False\n",
    "# return result(3)\n",
    "\n"
   ]
  },
  {
   "cell_type": "code",
   "execution_count": 101,
   "metadata": {},
   "outputs": [
    {
     "data": {
      "text/plain": [
       "5"
      ]
     },
     "execution_count": 101,
     "metadata": {},
     "output_type": "execute_result"
    }
   ],
   "source": [
    "max(4, 5, 2)"
   ]
  },
  {
   "cell_type": "code",
   "execution_count": 108,
   "metadata": {},
   "outputs": [],
   "source": [
    "## list 데이터에서 정렬을 변경해주는 함수 \n",
    "## sort()\n",
    "def c_sort(*values, reverse = False):\n",
    "    # print(values)\n",
    "    result = []\n",
    "    ## values를 list로 변경\n",
    "    values = list(values)\n",
    "    while values:\n",
    "        if reverse:\n",
    "            value = max(values)\n",
    "        else:\n",
    "            ## values에서 가장 작은 값을 출력\n",
    "            value = c_min(*values)\n",
    "        ## 새로운 리스트에 작은값을 추가 \n",
    "        result.append(value)\n",
    "        ## values에 가장 작은 값을 제거 (tuple 불가능)\n",
    "        values.remove(value)\n",
    "\n",
    "    return result"
   ]
  },
  {
   "cell_type": "code",
   "execution_count": 107,
   "metadata": {},
   "outputs": [
    {
     "name": "stdout",
     "output_type": "stream",
     "text": [
      "(3, 6, 1)\n"
     ]
    },
    {
     "data": {
      "text/plain": [
       "[6, 3, 1]"
      ]
     },
     "execution_count": 107,
     "metadata": {},
     "output_type": "execute_result"
    }
   ],
   "source": [
    "c_sort(3, 6, 1, reverse=True)"
   ]
  },
  {
   "cell_type": "code",
   "execution_count": 86,
   "metadata": {},
   "outputs": [
    {
     "name": "stdout",
     "output_type": "stream",
     "text": [
      "(3, 6, 1)\n"
     ]
    },
    {
     "data": {
      "text/plain": [
       "1"
      ]
     },
     "execution_count": 86,
     "metadata": {},
     "output_type": "execute_result"
    }
   ],
   "source": [
    "c_min((3, 6, 1))"
   ]
  },
  {
   "cell_type": "code",
   "execution_count": 100,
   "metadata": {},
   "outputs": [
    {
     "name": "stdout",
     "output_type": "stream",
     "text": [
      "(3, 6, 1)\n"
     ]
    },
    {
     "data": {
      "text/plain": [
       "1"
      ]
     },
     "execution_count": 100,
     "metadata": {},
     "output_type": "execute_result"
    }
   ],
   "source": [
    "c_min(3, 6, 1)"
   ]
  },
  {
   "cell_type": "code",
   "execution_count": null,
   "metadata": {},
   "outputs": [],
   "source": []
  }
 ],
 "metadata": {
  "kernelspec": {
   "display_name": "Python 3",
   "language": "python",
   "name": "python3"
  },
  "language_info": {
   "codemirror_mode": {
    "name": "ipython",
    "version": 3
   },
   "file_extension": ".py",
   "mimetype": "text/x-python",
   "name": "python",
   "nbconvert_exporter": "python",
   "pygments_lexer": "ipython3",
   "version": "3.11.1"
  }
 },
 "nbformat": 4,
 "nbformat_minor": 2
}
