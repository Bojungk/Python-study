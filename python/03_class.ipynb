{
 "cells": [
  {
   "cell_type": "code",
   "execution_count": 2,
   "metadata": {},
   "outputs": [],
   "source": [
    "## class 선언\n",
    "class Test_class:\n",
    "        # 생성자 함수(초기화 함수)\n",
    "        # class가 생성이 될때 최초로 한번만 실행이 되는 함수\n",
    "        # self변수에 데이터를 대입하기 위해 사용 \n",
    "        def __init__(self, input_a, input_b):\n",
    "            #self.변수 생성\n",
    "            self.a=input_a\n",
    "            self.b=input_b "
   ]
  },
  {
   "cell_type": "code",
   "execution_count": 5,
   "metadata": {},
   "outputs": [],
   "source": [
    "## class 생성 --> 해당 클래스에 내장되어 있는 생성자 함수 호출 \n",
    "a_class= Test_class(10, 'test') "
   ]
  },
  {
   "cell_type": "code",
   "execution_count": 6,
   "metadata": {},
   "outputs": [
    {
     "name": "stdout",
     "output_type": "stream",
     "text": [
      "<__main__.Test_class object at 0x00000196BABCAE70>\n",
      "10\n",
      "test\n"
     ]
    }
   ],
   "source": [
    "## a_class 안에 있는 a라는 변수와 b라는 변수를 호출 \n",
    "print(a_class)\n",
    "print(a_class.a)\n",
    "print(a_class.b)"
   ]
  },
  {
   "cell_type": "code",
   "execution_count": 19,
   "metadata": {},
   "outputs": [],
   "source": [
    "class Calculate:\n",
    "    def __init__(self, input_x, input_y):\n",
    "        self.x=input_x\n",
    "        self.y=input_y\n",
    "    #두개의 self.x, self.y의 합을 되돌려주는 함수    \n",
    "    def add(self):\n",
    "        result=self.x+self.y\n",
    "        return result\n",
    "    # 두개의 self.x, self.y의 차를 되돌려주는 함수\n",
    "    def substract(self):\n",
    "        result=self.x-self.y\n",
    "        return result"
   ]
  },
  {
   "cell_type": "code",
   "execution_count": 20,
   "metadata": {},
   "outputs": [],
   "source": [
    "# c_class라는 공간에 x라는 변수를 생성하여 10을 대입하고\n",
    "# y라는 변수를 생성하여 5라는 데이터를 대입\n",
    "c_class= Calculate(10, 5)\n",
    "d_class= Calculate(20, 9)"
   ]
  },
  {
   "cell_type": "code",
   "execution_count": 21,
   "metadata": {},
   "outputs": [
    {
     "name": "stdout",
     "output_type": "stream",
     "text": [
      "15\n"
     ]
    }
   ],
   "source": [
    "#c_class 안에 있는 add()함수를 호출\n",
    "#add() : 자기 자신안에 있는 x와 y를 더해서 결과를 되돌려준다.\n",
    "#       self.x->10, self.y->5\n",
    "print(c_class.add())"
   ]
  },
  {
   "cell_type": "code",
   "execution_count": 22,
   "metadata": {},
   "outputs": [
    {
     "name": "stdout",
     "output_type": "stream",
     "text": [
      "29\n"
     ]
    }
   ],
   "source": [
    "# d_class 안에 있는 add() 함수를 호출 \n",
    "# self.x-> 20, self.y -> 9 \n",
    "print(d_class.add())"
   ]
  }
 ],
 "metadata": {
  "kernelspec": {
   "display_name": "Python 3",
   "language": "python",
   "name": "python3"
  },
  "language_info": {
   "codemirror_mode": {
    "name": "ipython",
    "version": 3
   },
   "file_extension": ".py",
   "mimetype": "text/x-python",
   "name": "python",
   "nbconvert_exporter": "python",
   "pygments_lexer": "ipython3",
   "version": "3.12.1"
  }
 },
 "nbformat": 4,
 "nbformat_minor": 2
}
