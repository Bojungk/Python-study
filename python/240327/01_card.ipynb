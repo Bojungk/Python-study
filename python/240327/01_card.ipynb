{
 "cells": [
  {
   "cell_type": "markdown",
   "metadata": {},
   "source": [
    "- 온라인, 오프라인 카드 사용 내역 데이터를 확인 \n",
    "    1. csv폴더 안에 있는 오프라인.csv, 온라인.csv 파일 로드 \n",
    "    2. 두개의 데이터프레임을 단순한 행 결합(유니언 결합)\n",
    "        - 두개의 데이터프레임의 구조 파악 \n",
    "        - 두개의 데이터프레임의 구조를 같은 형태로 변환\n",
    "        - 유니언 결합\n",
    "    3. 기준년월 컬럼의 데이터를 시계열데이터로 변경 \n",
    "    4. 기준년월, 업종별 총이용금액의 합계를 그래프 표시"
   ]
  },
  {
   "cell_type": "code",
   "execution_count": null,
   "metadata": {},
   "outputs": [],
   "source": [
    "import pandas as pd\n",
    "import matplotlib.pyplot as plt"
   ]
  },
  {
   "cell_type": "code",
   "execution_count": null,
   "metadata": {},
   "outputs": [],
   "source": [
    "offline = pd.read_csv(\"../../csv/card/오프라인.csv\", \n",
    "                      encoding='CP949')"
   ]
  },
  {
   "cell_type": "code",
   "execution_count": null,
   "metadata": {},
   "outputs": [],
   "source": [
    "online = pd.read_csv('../../csv/card/온라인.csv')"
   ]
  },
  {
   "cell_type": "code",
   "execution_count": null,
   "metadata": {},
   "outputs": [],
   "source": [
    "offline.info()"
   ]
  },
  {
   "cell_type": "code",
   "execution_count": null,
   "metadata": {},
   "outputs": [],
   "source": [
    "online.info()"
   ]
  },
  {
   "cell_type": "code",
   "execution_count": null,
   "metadata": {},
   "outputs": [],
   "source": [
    "# offline의 컬럼의 이름을 변경 \n",
    "offline.columns = ['기준년월', '업종', '성별', '연령대', \n",
    "                   '총이용건수', '총이용금액']"
   ]
  },
  {
   "cell_type": "code",
   "execution_count": null,
   "metadata": {},
   "outputs": [],
   "source": [
    "offline.head(1)"
   ]
  },
  {
   "cell_type": "code",
   "execution_count": null,
   "metadata": {},
   "outputs": [],
   "source": [
    "# online의 컬럼의 이름을 변경 \n",
    "online.columns = ['기준년월', '성별', '연령대', \n",
    "                  '총이용건수', '총이용금액']"
   ]
  },
  {
   "cell_type": "code",
   "execution_count": null,
   "metadata": {},
   "outputs": [],
   "source": [
    "online.head(1)"
   ]
  },
  {
   "cell_type": "code",
   "execution_count": null,
   "metadata": {},
   "outputs": [],
   "source": [
    "# online 데이터프레임에 업종 컬럼을 추가 -> 데이터 '온라인'\n",
    "online['업종'] = '온라인'"
   ]
  },
  {
   "cell_type": "code",
   "execution_count": null,
   "metadata": {},
   "outputs": [],
   "source": [
    "online['업종'].value_counts()"
   ]
  },
  {
   "cell_type": "code",
   "execution_count": null,
   "metadata": {},
   "outputs": [],
   "source": [
    "offline.info()"
   ]
  },
  {
   "cell_type": "code",
   "execution_count": null,
   "metadata": {},
   "outputs": [],
   "source": [
    "online.info()"
   ]
  },
  {
   "cell_type": "code",
   "execution_count": null,
   "metadata": {},
   "outputs": [],
   "source": [
    "df = pd.concat([offline, online], axis=0)\n",
    "df.info()"
   ]
  },
  {
   "cell_type": "code",
   "execution_count": null,
   "metadata": {},
   "outputs": [],
   "source": [
    "df.head(1)"
   ]
  },
  {
   "cell_type": "code",
   "execution_count": null,
   "metadata": {},
   "outputs": [],
   "source": [
    "df"
   ]
  },
  {
   "cell_type": "code",
   "execution_count": null,
   "metadata": {},
   "outputs": [],
   "source": [
    "## pandas에서 지수표현식을 없애기 \n",
    "pd.options.display.float_format = '{:2f}'.format"
   ]
  },
  {
   "cell_type": "code",
   "execution_count": null,
   "metadata": {},
   "outputs": [],
   "source": [
    "# 기준년월 데이터를 시계열 변경 \n",
    "df['기준년월'] = pd.to_datetime(\n",
    "    df['기준년월'], \n",
    "    format = '%Y%m'\n",
    ")"
   ]
  },
  {
   "cell_type": "code",
   "execution_count": null,
   "metadata": {},
   "outputs": [],
   "source": [
    "# 성별 컬럼의 데이터를 1은 남자 2는 여자 변경\n",
    "df2 = df.copy()"
   ]
  },
  {
   "cell_type": "code",
   "execution_count": null,
   "metadata": {},
   "outputs": [],
   "source": [
    "## replace()\n",
    "df2['성별'].replace(\n",
    "    {\n",
    "        1 : '남자', \n",
    "        2 : '여자', \n",
    "        9 : '무관'\n",
    "    }\n",
    ")"
   ]
  },
  {
   "cell_type": "code",
   "execution_count": null,
   "metadata": {},
   "outputs": [],
   "source": [
    "## map() + (일반함수 | lambda함수)\n",
    "def change(x):\n",
    "    # x에 입력되는 데이터들을 1, 2, 9, -\n",
    "    # x가 만약에 1이라면 -> '남자' 되돌려준다\n",
    "    if x == 1:\n",
    "        return '남자'\n",
    "    elif x == 2:\n",
    "        return '여자'\n",
    "\n",
    "df2['성별'].map(change)"
   ]
  },
  {
   "cell_type": "code",
   "execution_count": null,
   "metadata": {},
   "outputs": [],
   "source": [
    "# if 구문을 한줄로 표시 : \n",
    "# \"참인경우 데이터\" if (조건식) else \"거짓인경우 데이터\"\n",
    "df['성별'] = df['성별'].map(\n",
    "    lambda x : \"여자\" if (x==2) else (\"남자\" if (x==1) else \"무관\")\n",
    ")"
   ]
  },
  {
   "cell_type": "code",
   "execution_count": null,
   "metadata": {},
   "outputs": [],
   "source": [
    "df2.reset_index(drop=True, inplace=True)\n"
   ]
  },
  {
   "cell_type": "code",
   "execution_count": null,
   "metadata": {},
   "outputs": [],
   "source": [
    "# for문 \n",
    "for i in range(len(df2)):\n",
    "    # print(df2['성별'][i])\n",
    "    data = df2['성별'][i]\n",
    "    # 조건문을 사용\n",
    "    if data == 1:\n",
    "        df2.loc[i, '성별'] = '남자'\n",
    "    elif data == 2:\n",
    "        df2.loc[i, '성별'] = '여자'\n",
    "    else:\n",
    "        df2.loc[i, '성별'] = '무관'"
   ]
  },
  {
   "cell_type": "code",
   "execution_count": null,
   "metadata": {},
   "outputs": [],
   "source": [
    "df2['성별'].value_counts()"
   ]
  },
  {
   "cell_type": "code",
   "execution_count": null,
   "metadata": {},
   "outputs": [],
   "source": [
    "## 기준년월, 업종별 총이용금액의 합계 그래프 표시 \n",
    "group_data = df[\n",
    "    ['기준년월', '업종', '총이용금액']\n",
    "    ].groupby(['기준년월', '업종']).sum()\n",
    "group_data"
   ]
  },
  {
   "cell_type": "code",
   "execution_count": null,
   "metadata": {},
   "outputs": [],
   "source": [
    "import platform"
   ]
  },
  {
   "cell_type": "code",
   "execution_count": null,
   "metadata": {},
   "outputs": [],
   "source": [
    "if platform.system() == 'Darwin':\n",
    "    plt.rc('font', family='AppleGothic')\n",
    "else:\n",
    "    plt.rc('font', family='Malgun Gothic')"
   ]
  },
  {
   "cell_type": "code",
   "execution_count": null,
   "metadata": {},
   "outputs": [],
   "source": [
    "group_data.plot()"
   ]
  },
  {
   "cell_type": "code",
   "execution_count": null,
   "metadata": {},
   "outputs": [],
   "source": [
    "group_data2 = df.groupby(['기준년월', '업종']).sum()['총이용금액']"
   ]
  },
  {
   "cell_type": "code",
   "execution_count": null,
   "metadata": {},
   "outputs": [],
   "source": [
    "group_data2.unstack().plot()"
   ]
  },
  {
   "cell_type": "code",
   "execution_count": null,
   "metadata": {},
   "outputs": [],
   "source": [
    "## 기준년월 별 합산 데이터를 확인 \n",
    "group_data3 = group_data2.unstack()"
   ]
  },
  {
   "cell_type": "code",
   "execution_count": null,
   "metadata": {},
   "outputs": [],
   "source": [
    "group_data3['All'] = group_data3.sum(axis=1)"
   ]
  },
  {
   "cell_type": "code",
   "execution_count": null,
   "metadata": {},
   "outputs": [],
   "source": [
    "group_data3.plot()"
   ]
  },
  {
   "cell_type": "code",
   "execution_count": null,
   "metadata": {},
   "outputs": [],
   "source": [
    "pivot_data = df.pivot_table(\n",
    "    index = '기준년월', \n",
    "    columns = '업종', \n",
    "    values = '총이용금액', \n",
    "    aggfunc= 'sum', \n",
    "    margins= True\n",
    ")\n",
    "pivot_data"
   ]
  },
  {
   "cell_type": "code",
   "execution_count": 60,
   "metadata": {},
   "outputs": [
    {
     "data": {
      "text/html": [
       "<div>\n",
       "<style scoped>\n",
       "    .dataframe tbody tr th:only-of-type {\n",
       "        vertical-align: middle;\n",
       "    }\n",
       "\n",
       "    .dataframe tbody tr th {\n",
       "        vertical-align: top;\n",
       "    }\n",
       "\n",
       "    .dataframe thead th {\n",
       "        text-align: right;\n",
       "    }\n",
       "</style>\n",
       "<table border=\"1\" class=\"dataframe\">\n",
       "  <thead>\n",
       "    <tr style=\"text-align: right;\">\n",
       "      <th>업종</th>\n",
       "      <th>백화점</th>\n",
       "      <th>슈퍼마켓</th>\n",
       "      <th>온라인</th>\n",
       "      <th>편의점</th>\n",
       "      <th>할인점</th>\n",
       "      <th>All</th>\n",
       "    </tr>\n",
       "    <tr>\n",
       "      <th>기준년월</th>\n",
       "      <th></th>\n",
       "      <th></th>\n",
       "      <th></th>\n",
       "      <th></th>\n",
       "      <th></th>\n",
       "      <th></th>\n",
       "    </tr>\n",
       "  </thead>\n",
       "  <tbody>\n",
       "    <tr>\n",
       "      <th>2021-08-01 00:00:00</th>\n",
       "      <td>388967756935.000000</td>\n",
       "      <td>206468450346.000000</td>\n",
       "      <td>1254467251455.000000</td>\n",
       "      <td>72188734225.000000</td>\n",
       "      <td>188429570418.000000</td>\n",
       "      <td>2110521763379.000000</td>\n",
       "    </tr>\n",
       "    <tr>\n",
       "      <th>2021-09-01 00:00:00</th>\n",
       "      <td>422081236462.000000</td>\n",
       "      <td>181809468875.000000</td>\n",
       "      <td>1195275255905.000000</td>\n",
       "      <td>61362822910.000000</td>\n",
       "      <td>151079584433.000000</td>\n",
       "      <td>2011608368585.000000</td>\n",
       "    </tr>\n",
       "    <tr>\n",
       "      <th>All</th>\n",
       "      <td>13793108647313.000000</td>\n",
       "      <td>6222005083279.000000</td>\n",
       "      <td>32165434974699.000000</td>\n",
       "      <td>1931786572981.000000</td>\n",
       "      <td>6251957786355.000000</td>\n",
       "      <td>60364293064627.000000</td>\n",
       "    </tr>\n",
       "  </tbody>\n",
       "</table>\n",
       "</div>"
      ],
      "text/plain": [
       "업종                                    백화점                 슈퍼마켓  \\\n",
       "기준년월                                                             \n",
       "2021-08-01 00:00:00   388967756935.000000  206468450346.000000   \n",
       "2021-09-01 00:00:00   422081236462.000000  181809468875.000000   \n",
       "All                 13793108647313.000000 6222005083279.000000   \n",
       "\n",
       "업종                                    온라인                  편의점  \\\n",
       "기준년월                                                             \n",
       "2021-08-01 00:00:00  1254467251455.000000   72188734225.000000   \n",
       "2021-09-01 00:00:00  1195275255905.000000   61362822910.000000   \n",
       "All                 32165434974699.000000 1931786572981.000000   \n",
       "\n",
       "업종                                   할인점                   All  \n",
       "기준년월                                                            \n",
       "2021-08-01 00:00:00  188429570418.000000  2110521763379.000000  \n",
       "2021-09-01 00:00:00  151079584433.000000  2011608368585.000000  \n",
       "All                 6251957786355.000000 60364293064627.000000  "
      ]
     },
     "execution_count": 60,
     "metadata": {},
     "output_type": "execute_result"
    }
   ],
   "source": [
    "pivot_data.tail(3)"
   ]
  },
  {
   "cell_type": "code",
   "execution_count": null,
   "metadata": {},
   "outputs": [],
   "source": [
    "pivot_data.drop('All', axis=0).plot()"
   ]
  },
  {
   "cell_type": "code",
   "execution_count": null,
   "metadata": {},
   "outputs": [],
   "source": [
    "pivot_data.iloc[:-1].plot()"
   ]
  },
  {
   "cell_type": "code",
   "execution_count": 67,
   "metadata": {},
   "outputs": [],
   "source": [
    "pivot_data['오프라인'] = pivot_data['All'] - pivot_data['온라인']"
   ]
  },
  {
   "cell_type": "code",
   "execution_count": 89,
   "metadata": {},
   "outputs": [],
   "source": [
    "data = pivot_data.iloc[:-1]"
   ]
  },
  {
   "cell_type": "code",
   "execution_count": 90,
   "metadata": {},
   "outputs": [
    {
     "data": {
      "image/png": "[encoded data removed]",
      "text/plain": [
       "<Figure size 2000x800 with 1 Axes>"
      ]
     },
     "metadata": {},
     "output_type": "display_data"
    }
   ],
   "source": [
    "x = data.index\n",
    "y1 = data['오프라인']\n",
    "y2 = data['온라인']\n",
    "\n",
    "# 그래프의 사이즈를 변경 \n",
    "plt.figure(figsize=(20, 8))\n",
    "\n",
    "# 그래프에서 지수표현식 제거 \n",
    "plt.ticklabel_format(axis='y', style='plain', useMathText=True)\n",
    "\n",
    "# y축에 그리드 선을 추가 \n",
    "plt.grid(True, axis='y')\n",
    "\n",
    "plt.plot(x, y1, label='오프라인')\n",
    "plt.plot(x, y2, label='온라인')\n",
    "# 그래프의 제목 추가 \n",
    "plt.title(\"온라인 / 오프라인 카드 매출 비교\")\n",
    "# 그래프에 범례 추가 \n",
    "plt.legend()\n",
    "plt.show()"
   ]
  },
  {
   "cell_type": "code",
   "execution_count": null,
   "metadata": {},
   "outputs": [],
   "source": []
  }
 ],
 "metadata": {
  "kernelspec": {
   "display_name": "Python 3",
   "language": "python",
   "name": "python3"
  },
  "language_info": {
   "codemirror_mode": {
    "name": "ipython",
    "version": 3
   },
   "file_extension": ".py",
   "mimetype": "text/x-python",
   "name": "python",
   "nbconvert_exporter": "python",
   "pygments_lexer": "ipython3",
   "version": "3.11.1"
  }
 },
 "nbformat": 4,
 "nbformat_minor": 2
}
