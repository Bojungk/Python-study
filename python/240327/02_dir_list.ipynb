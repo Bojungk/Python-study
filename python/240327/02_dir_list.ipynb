{
 "cells": [
  {
   "cell_type": "markdown",
   "metadata": {},
   "source": [
    "## 특정 경로에 있는 파일의 목록을 로드\n",
    "\n",
    "1. 일반적으로 방법 -> 상대경로, 절대경로를 이용해서 파일을 하나씩 로드 \n",
    "2. 특정 경로에 있는 파일의 목록을 기준으로 데이터 로드\n",
    "    \n",
    "    -os 라이브러리 이용하는 방법\n",
    "    \n",
    "    -glob 라이브러리 이용하는 방법 \n",
    "3. 파일의 목록을 기준으로 데이터를 for문을 이용해서 로드 "
   ]
  },
  {
   "cell_type": "code",
   "execution_count": 55,
   "metadata": {},
   "outputs": [],
   "source": [
    "import os\n",
    "import glob\n",
    "import pandas as pd"
   ]
  },
  {
   "cell_type": "code",
   "execution_count": 23,
   "metadata": {},
   "outputs": [
    {
     "ename": "FileNotFoundError",
     "evalue": "[WinError 3] 지정된 경로를 찾을 수 없습니다: '../../csv/2017'",
     "output_type": "error",
     "traceback": [
      "\u001b[1;31m---------------------------------------------------------------------------\u001b[0m",
      "\u001b[1;31mFileNotFoundError\u001b[0m                         Traceback (most recent call last)",
      "Cell \u001b[1;32mIn[23], line 5\u001b[0m\n\u001b[0;32m      1\u001b[0m \u001b[38;5;66;03m## 폴더 안에 있는 2017 폴더에 있는 데이터들을 로드\u001b[39;00m\n\u001b[0;32m      2\u001b[0m \n\u001b[0;32m      3\u001b[0m \u001b[38;5;66;03m# os 라이브러리를 이용하여 파일의 목록을 불러온다.\u001b[39;00m\n\u001b[0;32m      4\u001b[0m \u001b[38;5;66;03m# 목록(list)+ 파일의 목록을 보는 명령어(dir)\u001b[39;00m\n\u001b[1;32m----> 5\u001b[0m \u001b[43mos\u001b[49m\u001b[38;5;241;43m.\u001b[39;49m\u001b[43mlistdir\u001b[49m\u001b[43m(\u001b[49m\u001b[38;5;124;43m\"\u001b[39;49m\u001b[38;5;124;43m../../csv/2017\u001b[39;49m\u001b[38;5;124;43m\"\u001b[39;49m\u001b[43m)\u001b[49m\n",
      "\u001b[1;31mFileNotFoundError\u001b[0m: [WinError 3] 지정된 경로를 찾을 수 없습니다: '../../csv/2017'"
     ]
    }
   ],
   "source": [
    "## 폴더 안에 있는 2017 폴더에 있는 데이터들을 로드\n",
    "\n",
    "# os 라이브러리를 이용하여 파일의 목록을 불러온다.\n",
    "# 목록(list)+ 파일의 목록을 보는 명령어(dir)\n",
    "os.listdir(\"../../csv/2017\")"
   ]
  },
  {
   "cell_type": "code",
   "execution_count": 56,
   "metadata": {},
   "outputs": [
    {
     "ename": "FileNotFoundError",
     "evalue": "[WinError 3] 지정된 경로를 찾을 수 없습니다: '../../csv/2017/'",
     "output_type": "error",
     "traceback": [
      "\u001b[1;31m---------------------------------------------------------------------------\u001b[0m",
      "\u001b[1;31mFileNotFoundError\u001b[0m                         Traceback (most recent call last)",
      "Cell \u001b[1;32mIn[56], line 3\u001b[0m\n\u001b[0;32m      1\u001b[0m \u001b[38;5;66;03m# 파일 목록을 로드할 경로를 변수에 저장\u001b[39;00m\n\u001b[0;32m      2\u001b[0m file_path\u001b[38;5;241m=\u001b[39m\u001b[38;5;124m\"\u001b[39m\u001b[38;5;124m../../csv/2017/\u001b[39m\u001b[38;5;124m\"\u001b[39m\n\u001b[1;32m----> 3\u001b[0m file_list\u001b[38;5;241m=\u001b[39m\u001b[43mos\u001b[49m\u001b[38;5;241;43m.\u001b[39;49m\u001b[43mlistdir\u001b[49m\u001b[43m(\u001b[49m\u001b[43mfile_path\u001b[49m\u001b[43m)\u001b[49m\n\u001b[0;32m      4\u001b[0m file_list\n",
      "\u001b[1;31mFileNotFoundError\u001b[0m: [WinError 3] 지정된 경로를 찾을 수 없습니다: '../../csv/2017/'"
     ]
    }
   ],
   "source": [
    "# 파일 목록을 로드할 경로를 변수에 저장\n",
    "file_path=\"../../csv/2017/\"\n",
    "file_list=os.listdir(file_path)\n",
    "file_list"
   ]
  },
  {
   "cell_type": "code",
   "execution_count": null,
   "metadata": {},
   "outputs": [
    {
     "data": {
      "text/plain": [
       "'../../csv/2017/201701_expense_list.csv'"
      ]
     },
     "execution_count": 8,
     "metadata": {},
     "output_type": "execute_result"
    }
   ],
   "source": [
    "#pd.read_csv(\n",
    "file_path+file_list[0]\n",
    "    #)"
   ]
  },
  {
   "cell_type": "code",
   "execution_count": null,
   "metadata": {},
   "outputs": [],
   "source": [
    "pd.read_csv(file_path+file_list[0])"
   ]
  },
  {
   "cell_type": "code",
   "execution_count": null,
   "metadata": {},
   "outputs": [
    {
     "data": {
      "text/html": [
       "<div>\n",
       "<style scoped>\n",
       "    .dataframe tbody tr th:only-of-type {\n",
       "        vertical-align: middle;\n",
       "    }\n",
       "\n",
       "    .dataframe tbody tr th {\n",
       "        vertical-align: top;\n",
       "    }\n",
       "\n",
       "    .dataframe thead th {\n",
       "        text-align: right;\n",
       "    }\n",
       "</style>\n",
       "<table border=\"1\" class=\"dataframe\">\n",
       "  <thead>\n",
       "    <tr style=\"text-align: right;\">\n",
       "      <th></th>\n",
       "    </tr>\n",
       "  </thead>\n",
       "  <tbody>\n",
       "  </tbody>\n",
       "</table>\n",
       "</div>"
      ],
      "text/plain": [
       "Empty DataFrame\n",
       "Columns: []\n",
       "Index: []"
      ]
     },
     "execution_count": 10,
     "metadata": {},
     "output_type": "execute_result"
    }
   ],
   "source": [
    "result=pd.DataFrame()\n",
    "result \n"
   ]
  },
  {
   "cell_type": "code",
   "execution_count": null,
   "metadata": {},
   "outputs": [],
   "source": [
    "for file in file_list:\n",
    "    df= pd.read_csv(file_path+file)\n",
    "    # result와 df를 유니언 결합하여 result 담아준다. \n",
    "    result=pd.concat([result, df], axis=0, ignore_index=True)"
   ]
  },
  {
   "cell_type": "code",
   "execution_count": null,
   "metadata": {},
   "outputs": [
    {
     "name": "stdout",
     "output_type": "stream",
     "text": [
      "<class 'pandas.core.frame.DataFrame'>\n",
      "RangeIndex: 70132 entries, 0 to 70131\n",
      "Data columns (total 20 columns):\n",
      " #   Column             Non-Null Count  Dtype  \n",
      "---  ------             --------------  -----  \n",
      " 0   nid                70132 non-null  int64  \n",
      " 1   title              70132 non-null  object \n",
      " 2   url                70132 non-null  object \n",
      " 3   dept_nm_lvl_1      70132 non-null  object \n",
      " 4   dept_nm_lvl_2      70074 non-null  object \n",
      " 5   dept_nm_lvl_3      61262 non-null  object \n",
      " 6   dept_nm_lvl_4      17939 non-null  object \n",
      " 7   dept_nm_lvl_5      3474 non-null   object \n",
      " 8   exec_yr            70132 non-null  int64  \n",
      " 9   exec_month         70132 non-null  int64  \n",
      " 10  expense_budget     3108 non-null   float64\n",
      " 11  expense_execution  2805 non-null   float64\n",
      " 12  category           1259 non-null   object \n",
      " 13  dept_nm_full       70053 non-null  object \n",
      " 14  exec_dt            70132 non-null  object \n",
      " 15  exec_loc           69360 non-null  object \n",
      " 16  exec_purpose       70110 non-null  object \n",
      " 17  target_nm          69597 non-null  object \n",
      " 18  payment_method     69929 non-null  object \n",
      " 19  exec_amount        70132 non-null  int64  \n",
      "dtypes: float64(2), int64(4), object(14)\n",
      "memory usage: 10.7+ MB\n"
     ]
    }
   ],
   "source": [
    "result.info()"
   ]
  },
  {
   "cell_type": "code",
   "execution_count": null,
   "metadata": {},
   "outputs": [],
   "source": [
    "## csv 폴더 안에 있는 2019폴더에 파일들을 모두 로드하여\n",
    "## 하나의 데이터프레임으로 결합\n",
    "result_2019=pd.DataFrame"
   ]
  },
  {
   "cell_type": "code",
   "execution_count": null,
   "metadata": {},
   "outputs": [
    {
     "data": {
      "text/plain": [
       "['201901_expense_list.json',\n",
       " '201902_expense_list.json',\n",
       " '201903_expense_list.json',\n",
       " '201904_expense_list.json',\n",
       " '201905_expense_list.json',\n",
       " '201906_expense_list.json',\n",
       " '201907_expense_list.json',\n",
       " '201908_expense_list.json',\n",
       " '201909_expense_list.json',\n",
       " '201910_expense_list.json',\n",
       " '201911_expense_list.json',\n",
       " '201912_expense_list.json']"
      ]
     },
     "execution_count": 45,
     "metadata": {},
     "output_type": "execute_result"
    }
   ],
   "source": [
    "os.listdir(\"../../csv/2019\")"
   ]
  },
  {
   "cell_type": "code",
   "execution_count": null,
   "metadata": {},
   "outputs": [
    {
     "data": {
      "text/plain": [
       "['201901_expense_list.json',\n",
       " '201902_expense_list.json',\n",
       " '201903_expense_list.json',\n",
       " '201904_expense_list.json',\n",
       " '201905_expense_list.json',\n",
       " '201906_expense_list.json',\n",
       " '201907_expense_list.json',\n",
       " '201908_expense_list.json',\n",
       " '201909_expense_list.json',\n",
       " '201910_expense_list.json',\n",
       " '201911_expense_list.json',\n",
       " '201912_expense_list.json']"
      ]
     },
     "execution_count": 46,
     "metadata": {},
     "output_type": "execute_result"
    }
   ],
   "source": [
    "# 파일 목록을 로드할 경로를 변수에 저장\n",
    "file_path=\"../../csv/2019/\"\n",
    "file_list=os.listdir(file_path)\n",
    "file_list"
   ]
  },
  {
   "cell_type": "code",
   "execution_count": null,
   "metadata": {},
   "outputs": [
    {
     "data": {
      "text/plain": [
       "'../../csv/2019/201901_expense_list.json'"
      ]
     },
     "execution_count": 48,
     "metadata": {},
     "output_type": "execute_result"
    }
   ],
   "source": [
    "file_path+file_list[0]"
   ]
  },
  {
   "cell_type": "code",
   "execution_count": null,
   "metadata": {},
   "outputs": [
    {
     "ename": "NameError",
     "evalue": "name 'result_2019' is not defined",
     "output_type": "error",
     "traceback": [
      "\u001b[1;31m---------------------------------------------------------------------------\u001b[0m",
      "\u001b[1;31mNameError\u001b[0m                                 Traceback (most recent call last)",
      "Cell \u001b[1;32mIn[51], line 5\u001b[0m\n\u001b[0;32m      3\u001b[0m \u001b[38;5;28;01mfor\u001b[39;00m file \u001b[38;5;129;01min\u001b[39;00m file_list:\n\u001b[0;32m      4\u001b[0m     df\u001b[38;5;241m=\u001b[39mpd\u001b[38;5;241m.\u001b[39mread_json(file_path\u001b[38;5;241m+\u001b[39mfile_list[\u001b[38;5;241m0\u001b[39m])\n\u001b[1;32m----> 5\u001b[0m     result_2019\u001b[38;5;241m=\u001b[39mpd\u001b[38;5;241m.\u001b[39mconcat([\u001b[43mresult_2019\u001b[49m, df], axis\u001b[38;5;241m=\u001b[39m\u001b[38;5;241m0\u001b[39m, ignore_index\u001b[38;5;241m=\u001b[39m\u001b[38;5;28;01mTrue\u001b[39;00m)\n",
      "\u001b[1;31mNameError\u001b[0m: name 'result_2019' is not defined"
     ]
    }
   ],
   "source": [
    "# json 확장자 파일을 로드\n",
    "# read_json()\n",
    "for file in file_list:\n",
    "    df=pd.read_json(file_path+file_list[0])\n",
    "    result_2019=pd.concat([result_2019, df], axis=0, ignore_index=True)"
   ]
  },
  {
   "cell_type": "code",
   "execution_count": null,
   "metadata": {},
   "outputs": [
    {
     "data": {
      "text/html": [
       "<div>\n",
       "<style scoped>\n",
       "    .dataframe tbody tr th:only-of-type {\n",
       "        vertical-align: middle;\n",
       "    }\n",
       "\n",
       "    .dataframe tbody tr th {\n",
       "        vertical-align: top;\n",
       "    }\n",
       "\n",
       "    .dataframe thead th {\n",
       "        text-align: right;\n",
       "    }\n",
       "</style>\n",
       "<table border=\"1\" class=\"dataframe\">\n",
       "  <thead>\n",
       "    <tr style=\"text-align: right;\">\n",
       "      <th></th>\n",
       "    </tr>\n",
       "  </thead>\n",
       "  <tbody>\n",
       "  </tbody>\n",
       "</table>\n",
       "</div>"
      ],
      "text/plain": [
       "Empty DataFrame\n",
       "Columns: []\n",
       "Index: []"
      ]
     },
     "execution_count": 10,
     "metadata": {},
     "output_type": "execute_result"
    }
   ],
   "source": [
    "result=pd.DataFrame()\n",
    "result "
   ]
  },
  {
   "cell_type": "code",
   "execution_count": null,
   "metadata": {},
   "outputs": [],
   "source": [
    "for file in file_list:\n",
    "    df= pd.read_json(file_path+file)\n",
    "    # result와 df를 유니언 결합하여 result 담아준다. \n",
    "    result=pd.concat([result, df], axis=0, ignore_index=True)"
   ]
  },
  {
   "cell_type": "code",
   "execution_count": null,
   "metadata": {},
   "outputs": [
    {
     "name": "stdout",
     "output_type": "stream",
     "text": [
      "<class 'pandas.core.frame.DataFrame'>\n",
      "RangeIndex: 74207 entries, 0 to 74206\n",
      "Data columns (total 20 columns):\n",
      " #   Column             Non-Null Count  Dtype  \n",
      "---  ------             --------------  -----  \n",
      " 0   nid                74207 non-null  int64  \n",
      " 1   title              74207 non-null  object \n",
      " 2   url                74207 non-null  object \n",
      " 3   dept_nm_lvl_1      74207 non-null  object \n",
      " 4   dept_nm_lvl_2      74207 non-null  object \n",
      " 5   dept_nm_lvl_3      74207 non-null  object \n",
      " 6   dept_nm_lvl_4      74207 non-null  object \n",
      " 7   dept_nm_lvl_5      74207 non-null  object \n",
      " 8   exec_yr            74207 non-null  int64  \n",
      " 9   exec_month         74207 non-null  int64  \n",
      " 10  expense_budget     2075 non-null   float64\n",
      " 11  expense_execution  1598 non-null   float64\n",
      " 12  category           74028 non-null  object \n",
      " 13  dept_nm_full       74207 non-null  object \n",
      " 14  exec_dt            74207 non-null  object \n",
      " 15  exec_loc           74207 non-null  object \n",
      " 16  exec_purpose       74207 non-null  object \n",
      " 17  target_nm          74207 non-null  object \n",
      " 18  payment_method     74207 non-null  object \n",
      " 19  exec_amount        74207 non-null  int64  \n",
      "dtypes: float64(2), int64(4), object(14)\n",
      "memory usage: 11.3+ MB\n"
     ]
    }
   ],
   "source": [
    "result.info()"
   ]
  },
  {
   "cell_type": "code",
   "execution_count": null,
   "metadata": {},
   "outputs": [
    {
     "data": {
      "text/plain": [
       "['202001_expense_list.xlsx',\n",
       " '202002_expense_list.xlsx',\n",
       " '202003_expense_list.xlsx',\n",
       " '202004_expense_list.xlsx',\n",
       " '202005_expense_list.xlsx',\n",
       " '202006_expense_list.xlsx',\n",
       " '202007_expense_list.xlsx',\n",
       " '202008_expense_list.xlsx',\n",
       " '202009_expense_list.xlsx',\n",
       " '202010_expense_list.xlsx',\n",
       " '202011_expense_list.xlsx',\n",
       " '202012_expense_list.xlsx']"
      ]
     },
     "execution_count": 13,
     "metadata": {},
     "output_type": "execute_result"
    }
   ],
   "source": [
    "os.listdir(\"../../csv/2020\")"
   ]
  },
  {
   "cell_type": "code",
   "execution_count": null,
   "metadata": {},
   "outputs": [
    {
     "data": {
      "text/plain": [
       "['202001_expense_list.xlsx',\n",
       " '202002_expense_list.xlsx',\n",
       " '202003_expense_list.xlsx',\n",
       " '202004_expense_list.xlsx',\n",
       " '202005_expense_list.xlsx',\n",
       " '202006_expense_list.xlsx',\n",
       " '202007_expense_list.xlsx',\n",
       " '202008_expense_list.xlsx',\n",
       " '202009_expense_list.xlsx',\n",
       " '202010_expense_list.xlsx',\n",
       " '202011_expense_list.xlsx',\n",
       " '202012_expense_list.xlsx']"
      ]
     },
     "execution_count": 14,
     "metadata": {},
     "output_type": "execute_result"
    }
   ],
   "source": [
    "file_path=\"../../csv/2020/\"\n",
    "file_list=os.listdir(file_path)\n",
    "file_list"
   ]
  },
  {
   "cell_type": "code",
   "execution_count": null,
   "metadata": {},
   "outputs": [
    {
     "data": {
      "text/plain": [
       "'../../csv/2020/202001_expense_list.xlsx'"
      ]
     },
     "execution_count": 15,
     "metadata": {},
     "output_type": "execute_result"
    }
   ],
   "source": [
    "file_path+file_list[0]"
   ]
  },
  {
   "cell_type": "code",
   "execution_count": null,
   "metadata": {},
   "outputs": [
    {
     "data": {
      "text/html": [
       "<div>\n",
       "<style scoped>\n",
       "    .dataframe tbody tr th:only-of-type {\n",
       "        vertical-align: middle;\n",
       "    }\n",
       "\n",
       "    .dataframe tbody tr th {\n",
       "        vertical-align: top;\n",
       "    }\n",
       "\n",
       "    .dataframe thead th {\n",
       "        text-align: right;\n",
       "    }\n",
       "</style>\n",
       "<table border=\"1\" class=\"dataframe\">\n",
       "  <thead>\n",
       "    <tr style=\"text-align: right;\">\n",
       "      <th></th>\n",
       "      <th>nid</th>\n",
       "      <th>title</th>\n",
       "      <th>url</th>\n",
       "      <th>dept_nm_lvl_1</th>\n",
       "      <th>dept_nm_lvl_2</th>\n",
       "      <th>dept_nm_lvl_3</th>\n",
       "      <th>dept_nm_lvl_4</th>\n",
       "      <th>dept_nm_lvl_5</th>\n",
       "      <th>exec_yr</th>\n",
       "      <th>exec_month</th>\n",
       "      <th>expense_budget</th>\n",
       "      <th>expense_execution</th>\n",
       "      <th>category</th>\n",
       "      <th>dept_nm_full</th>\n",
       "      <th>exec_dt</th>\n",
       "      <th>exec_loc</th>\n",
       "      <th>exec_purpose</th>\n",
       "      <th>target_nm</th>\n",
       "      <th>payment_method</th>\n",
       "      <th>exec_amount</th>\n",
       "    </tr>\n",
       "  </thead>\n",
       "  <tbody>\n",
       "    <tr>\n",
       "      <th>0</th>\n",
       "      <td>21789676</td>\n",
       "      <td>2020년 1월 사업소 서울식물원 시설운영과 업무추진비 - 부서운영</td>\n",
       "      <td>http://opengov.seoul.go.kr/public/21789676</td>\n",
       "      <td>사업소</td>\n",
       "      <td>서울식물원</td>\n",
       "      <td>시설운영과</td>\n",
       "      <td>NaN</td>\n",
       "      <td>NaN</td>\n",
       "      <td>2020</td>\n",
       "      <td>1</td>\n",
       "      <td>NaN</td>\n",
       "      <td>NaN</td>\n",
       "      <td>NaN</td>\n",
       "      <td>푸른도시국 서울식물원 시설운영과</td>\n",
       "      <td>2020-01-22 10:25</td>\n",
       "      <td>코코호도마곡나루역점(강서구 마곡중앙5로 6)</td>\n",
       "      <td>부서 전출직원 간담회 비용</td>\n",
       "      <td>이형선 외 3인</td>\n",
       "      <td>카드</td>\n",
       "      <td>30000</td>\n",
       "    </tr>\n",
       "    <tr>\n",
       "      <th>1</th>\n",
       "      <td>21762080</td>\n",
       "      <td>2020년 1월 사업소 상수도사업본부 남부수도사업소 행정지원과 업무추진비 - 부서운영</td>\n",
       "      <td>http://opengov.seoul.go.kr/public/21762080</td>\n",
       "      <td>사업소</td>\n",
       "      <td>상수도사업본부</td>\n",
       "      <td>남부수도사업소</td>\n",
       "      <td>행정지원과</td>\n",
       "      <td>NaN</td>\n",
       "      <td>2020</td>\n",
       "      <td>1</td>\n",
       "      <td>NaN</td>\n",
       "      <td>NaN</td>\n",
       "      <td>NaN</td>\n",
       "      <td>남부수도사업소 행정지원과</td>\n",
       "      <td>2020-01-29 08:55</td>\n",
       "      <td>㈜한국문화진흥(강남구 강남대로 636, 두원빌딩2층)</td>\n",
       "      <td>2020년도 1월 생일자 격려상품 구매</td>\n",
       "      <td>1월 직원 생일자 12명</td>\n",
       "      <td>카드</td>\n",
       "      <td>216720</td>\n",
       "    </tr>\n",
       "    <tr>\n",
       "      <th>2</th>\n",
       "      <td>21762080</td>\n",
       "      <td>2020년 1월 사업소 상수도사업본부 남부수도사업소 행정지원과 업무추진비 - 부서운영</td>\n",
       "      <td>http://opengov.seoul.go.kr/public/21762080</td>\n",
       "      <td>사업소</td>\n",
       "      <td>상수도사업본부</td>\n",
       "      <td>남부수도사업소</td>\n",
       "      <td>행정지원과</td>\n",
       "      <td>NaN</td>\n",
       "      <td>2020</td>\n",
       "      <td>1</td>\n",
       "      <td>NaN</td>\n",
       "      <td>NaN</td>\n",
       "      <td>NaN</td>\n",
       "      <td>남부수도사업소 행정지원과</td>\n",
       "      <td>2020-01-28 12:05</td>\n",
       "      <td>스시사도(영등포구 여의대방로23길 20)</td>\n",
       "      <td>2020년 상반기 학교아리수 음수대 감면 간담회 경비지급</td>\n",
       "      <td>박영준,이상봉,이재욱,이대영,김춘근,김근태,박화준,박병국,조승용,전윤수</td>\n",
       "      <td>카드</td>\n",
       "      <td>124000</td>\n",
       "    </tr>\n",
       "    <tr>\n",
       "      <th>3</th>\n",
       "      <td>21762080</td>\n",
       "      <td>2020년 1월 사업소 상수도사업본부 남부수도사업소 행정지원과 업무추진비 - 부서운영</td>\n",
       "      <td>http://opengov.seoul.go.kr/public/21762080</td>\n",
       "      <td>사업소</td>\n",
       "      <td>상수도사업본부</td>\n",
       "      <td>남부수도사업소</td>\n",
       "      <td>행정지원과</td>\n",
       "      <td>NaN</td>\n",
       "      <td>2020</td>\n",
       "      <td>1</td>\n",
       "      <td>NaN</td>\n",
       "      <td>NaN</td>\n",
       "      <td>NaN</td>\n",
       "      <td>남부수도사업소 행정지원과</td>\n",
       "      <td>2020-01-23 11:59</td>\n",
       "      <td>올갱이나라(영등포구 대방천로 234)</td>\n",
       "      <td>2020년 설연휴기간 급수대책 및 수질관리 간담회 경비지급</td>\n",
       "      <td>김지형,신민철,서영식,최신,이혜숙,여종순</td>\n",
       "      <td>카드</td>\n",
       "      <td>48000</td>\n",
       "    </tr>\n",
       "    <tr>\n",
       "      <th>4</th>\n",
       "      <td>21762080</td>\n",
       "      <td>2020년 1월 사업소 상수도사업본부 남부수도사업소 행정지원과 업무추진비 - 부서운영</td>\n",
       "      <td>http://opengov.seoul.go.kr/public/21762080</td>\n",
       "      <td>사업소</td>\n",
       "      <td>상수도사업본부</td>\n",
       "      <td>남부수도사업소</td>\n",
       "      <td>행정지원과</td>\n",
       "      <td>NaN</td>\n",
       "      <td>2020</td>\n",
       "      <td>1</td>\n",
       "      <td>NaN</td>\n",
       "      <td>NaN</td>\n",
       "      <td>NaN</td>\n",
       "      <td>남부수도사업소 행정지원과</td>\n",
       "      <td>2020-01-23 14:45</td>\n",
       "      <td>두드림유통(동작구 보라매로19길 8)</td>\n",
       "      <td>2020년 민원실 직원 격려 물품구매 경비지급</td>\n",
       "      <td>해당사항없음</td>\n",
       "      <td>카드</td>\n",
       "      <td>63310</td>\n",
       "    </tr>\n",
       "    <tr>\n",
       "      <th>...</th>\n",
       "      <td>...</td>\n",
       "      <td>...</td>\n",
       "      <td>...</td>\n",
       "      <td>...</td>\n",
       "      <td>...</td>\n",
       "      <td>...</td>\n",
       "      <td>...</td>\n",
       "      <td>...</td>\n",
       "      <td>...</td>\n",
       "      <td>...</td>\n",
       "      <td>...</td>\n",
       "      <td>...</td>\n",
       "      <td>...</td>\n",
       "      <td>...</td>\n",
       "      <td>...</td>\n",
       "      <td>...</td>\n",
       "      <td>...</td>\n",
       "      <td>...</td>\n",
       "      <td>...</td>\n",
       "      <td>...</td>\n",
       "    </tr>\n",
       "    <tr>\n",
       "      <th>5277</th>\n",
       "      <td>19740729</td>\n",
       "      <td>2020년 1월 서울시본청 시민소통기획관 시민소통담당관 업무추진비 - 기관운영 시책추진</td>\n",
       "      <td>http://opengov.seoul.go.kr/public/19740729</td>\n",
       "      <td>서울시본청</td>\n",
       "      <td>시민소통기획관</td>\n",
       "      <td>시민소통담당관</td>\n",
       "      <td>NaN</td>\n",
       "      <td>NaN</td>\n",
       "      <td>2020</td>\n",
       "      <td>1</td>\n",
       "      <td>NaN</td>\n",
       "      <td>NaN</td>\n",
       "      <td>NaN</td>\n",
       "      <td>시민소통담당관</td>\n",
       "      <td>2020-01-13 19:57</td>\n",
       "      <td>곰국시집(중구 무교로 24)</td>\n",
       "      <td>박물관도시 서울 추진회의 결과 검토 간담회</td>\n",
       "      <td>시민소통기획관 외 3명</td>\n",
       "      <td>제로페이</td>\n",
       "      <td>60000</td>\n",
       "    </tr>\n",
       "    <tr>\n",
       "      <th>5278</th>\n",
       "      <td>19740729</td>\n",
       "      <td>2020년 1월 서울시본청 시민소통기획관 시민소통담당관 업무추진비 - 기관운영 시책추진</td>\n",
       "      <td>http://opengov.seoul.go.kr/public/19740729</td>\n",
       "      <td>서울시본청</td>\n",
       "      <td>시민소통기획관</td>\n",
       "      <td>시민소통담당관</td>\n",
       "      <td>NaN</td>\n",
       "      <td>NaN</td>\n",
       "      <td>2020</td>\n",
       "      <td>1</td>\n",
       "      <td>NaN</td>\n",
       "      <td>NaN</td>\n",
       "      <td>NaN</td>\n",
       "      <td>시민소통담당관</td>\n",
       "      <td>2020-01-13 13:04</td>\n",
       "      <td>세림(중구 을지로)</td>\n",
       "      <td>시정 협력 관련 유관기관 업무협의 간담회</td>\n",
       "      <td>대외협력보좌관 외 2명</td>\n",
       "      <td>카드</td>\n",
       "      <td>51000</td>\n",
       "    </tr>\n",
       "    <tr>\n",
       "      <th>5279</th>\n",
       "      <td>19740729</td>\n",
       "      <td>2020년 1월 서울시본청 시민소통기획관 시민소통담당관 업무추진비 - 기관운영 시책추진</td>\n",
       "      <td>http://opengov.seoul.go.kr/public/19740729</td>\n",
       "      <td>서울시본청</td>\n",
       "      <td>시민소통기획관</td>\n",
       "      <td>시민소통담당관</td>\n",
       "      <td>NaN</td>\n",
       "      <td>NaN</td>\n",
       "      <td>2020</td>\n",
       "      <td>1</td>\n",
       "      <td>NaN</td>\n",
       "      <td>NaN</td>\n",
       "      <td>NaN</td>\n",
       "      <td>시민소통담당관</td>\n",
       "      <td>2020-01-13 12:20</td>\n",
       "      <td>더미시청점(중구 남대문로9길)</td>\n",
       "      <td>제로페이 추진경과 검토 간담회</td>\n",
       "      <td>시민소통담당관 외 3명</td>\n",
       "      <td>제로페이</td>\n",
       "      <td>40000</td>\n",
       "    </tr>\n",
       "    <tr>\n",
       "      <th>5280</th>\n",
       "      <td>19740729</td>\n",
       "      <td>2020년 1월 서울시본청 시민소통기획관 시민소통담당관 업무추진비 - 기관운영 시책추진</td>\n",
       "      <td>http://opengov.seoul.go.kr/public/19740729</td>\n",
       "      <td>서울시본청</td>\n",
       "      <td>시민소통기획관</td>\n",
       "      <td>시민소통담당관</td>\n",
       "      <td>NaN</td>\n",
       "      <td>NaN</td>\n",
       "      <td>2020</td>\n",
       "      <td>1</td>\n",
       "      <td>NaN</td>\n",
       "      <td>NaN</td>\n",
       "      <td>NaN</td>\n",
       "      <td>시민소통담당관</td>\n",
       "      <td>2020-01-10 22:20</td>\n",
       "      <td>통인스윗팩토리(종로구 필운대로)</td>\n",
       "      <td>시정 운영 관련 유관기관 업무협의 간담회</td>\n",
       "      <td>정무비서관 외 2명</td>\n",
       "      <td>카드</td>\n",
       "      <td>51000</td>\n",
       "    </tr>\n",
       "    <tr>\n",
       "      <th>5281</th>\n",
       "      <td>19740729</td>\n",
       "      <td>2020년 1월 서울시본청 시민소통기획관 시민소통담당관 업무추진비 - 기관운영 시책추진</td>\n",
       "      <td>http://opengov.seoul.go.kr/public/19740729</td>\n",
       "      <td>서울시본청</td>\n",
       "      <td>시민소통기획관</td>\n",
       "      <td>시민소통담당관</td>\n",
       "      <td>NaN</td>\n",
       "      <td>NaN</td>\n",
       "      <td>2020</td>\n",
       "      <td>1</td>\n",
       "      <td>NaN</td>\n",
       "      <td>NaN</td>\n",
       "      <td>NaN</td>\n",
       "      <td>시민소통담당관</td>\n",
       "      <td>2020-01-10 21:05</td>\n",
       "      <td>(주)에프아이티시스템(종로구 누하동)</td>\n",
       "      <td>시정 소통협력을 위한 유관기관 의견수렴 간담회</td>\n",
       "      <td>정무수석 외 6명</td>\n",
       "      <td>카드</td>\n",
       "      <td>162000</td>\n",
       "    </tr>\n",
       "  </tbody>\n",
       "</table>\n",
       "<p>5282 rows × 20 columns</p>\n",
       "</div>"
      ],
      "text/plain": [
       "           nid                                             title  \\\n",
       "0     21789676             2020년 1월 사업소 서울식물원 시설운영과 업무추진비 - 부서운영   \n",
       "1     21762080   2020년 1월 사업소 상수도사업본부 남부수도사업소 행정지원과 업무추진비 - 부서운영   \n",
       "2     21762080   2020년 1월 사업소 상수도사업본부 남부수도사업소 행정지원과 업무추진비 - 부서운영   \n",
       "3     21762080   2020년 1월 사업소 상수도사업본부 남부수도사업소 행정지원과 업무추진비 - 부서운영   \n",
       "4     21762080   2020년 1월 사업소 상수도사업본부 남부수도사업소 행정지원과 업무추진비 - 부서운영   \n",
       "...        ...                                               ...   \n",
       "5277  19740729  2020년 1월 서울시본청 시민소통기획관 시민소통담당관 업무추진비 - 기관운영 시책추진   \n",
       "5278  19740729  2020년 1월 서울시본청 시민소통기획관 시민소통담당관 업무추진비 - 기관운영 시책추진   \n",
       "5279  19740729  2020년 1월 서울시본청 시민소통기획관 시민소통담당관 업무추진비 - 기관운영 시책추진   \n",
       "5280  19740729  2020년 1월 서울시본청 시민소통기획관 시민소통담당관 업무추진비 - 기관운영 시책추진   \n",
       "5281  19740729  2020년 1월 서울시본청 시민소통기획관 시민소통담당관 업무추진비 - 기관운영 시책추진   \n",
       "\n",
       "                                             url dept_nm_lvl_1 dept_nm_lvl_2  \\\n",
       "0     http://opengov.seoul.go.kr/public/21789676           사업소         서울식물원   \n",
       "1     http://opengov.seoul.go.kr/public/21762080           사업소       상수도사업본부   \n",
       "2     http://opengov.seoul.go.kr/public/21762080           사업소       상수도사업본부   \n",
       "3     http://opengov.seoul.go.kr/public/21762080           사업소       상수도사업본부   \n",
       "4     http://opengov.seoul.go.kr/public/21762080           사업소       상수도사업본부   \n",
       "...                                          ...           ...           ...   \n",
       "5277  http://opengov.seoul.go.kr/public/19740729         서울시본청       시민소통기획관   \n",
       "5278  http://opengov.seoul.go.kr/public/19740729         서울시본청       시민소통기획관   \n",
       "5279  http://opengov.seoul.go.kr/public/19740729         서울시본청       시민소통기획관   \n",
       "5280  http://opengov.seoul.go.kr/public/19740729         서울시본청       시민소통기획관   \n",
       "5281  http://opengov.seoul.go.kr/public/19740729         서울시본청       시민소통기획관   \n",
       "\n",
       "     dept_nm_lvl_3 dept_nm_lvl_4 dept_nm_lvl_5  exec_yr  exec_month  \\\n",
       "0            시설운영과           NaN           NaN     2020           1   \n",
       "1          남부수도사업소         행정지원과           NaN     2020           1   \n",
       "2          남부수도사업소         행정지원과           NaN     2020           1   \n",
       "3          남부수도사업소         행정지원과           NaN     2020           1   \n",
       "4          남부수도사업소         행정지원과           NaN     2020           1   \n",
       "...            ...           ...           ...      ...         ...   \n",
       "5277       시민소통담당관           NaN           NaN     2020           1   \n",
       "5278       시민소통담당관           NaN           NaN     2020           1   \n",
       "5279       시민소통담당관           NaN           NaN     2020           1   \n",
       "5280       시민소통담당관           NaN           NaN     2020           1   \n",
       "5281       시민소통담당관           NaN           NaN     2020           1   \n",
       "\n",
       "      expense_budget  expense_execution category       dept_nm_full  \\\n",
       "0                NaN                NaN      NaN  푸른도시국 서울식물원 시설운영과   \n",
       "1                NaN                NaN      NaN      남부수도사업소 행정지원과   \n",
       "2                NaN                NaN      NaN      남부수도사업소 행정지원과   \n",
       "3                NaN                NaN      NaN      남부수도사업소 행정지원과   \n",
       "4                NaN                NaN      NaN      남부수도사업소 행정지원과   \n",
       "...              ...                ...      ...                ...   \n",
       "5277             NaN                NaN      NaN            시민소통담당관   \n",
       "5278             NaN                NaN      NaN            시민소통담당관   \n",
       "5279             NaN                NaN      NaN            시민소통담당관   \n",
       "5280             NaN                NaN      NaN            시민소통담당관   \n",
       "5281             NaN                NaN      NaN            시민소통담당관   \n",
       "\n",
       "               exec_dt                       exec_loc  \\\n",
       "0     2020-01-22 10:25       코코호도마곡나루역점(강서구 마곡중앙5로 6)   \n",
       "1     2020-01-29 08:55  ㈜한국문화진흥(강남구 강남대로 636, 두원빌딩2층)   \n",
       "2     2020-01-28 12:05         스시사도(영등포구 여의대방로23길 20)   \n",
       "3     2020-01-23 11:59           올갱이나라(영등포구 대방천로 234)   \n",
       "4     2020-01-23 14:45           두드림유통(동작구 보라매로19길 8)   \n",
       "...                ...                            ...   \n",
       "5277  2020-01-13 19:57                곰국시집(중구 무교로 24)   \n",
       "5278  2020-01-13 13:04                     세림(중구 을지로)   \n",
       "5279  2020-01-13 12:20               더미시청점(중구 남대문로9길)   \n",
       "5280  2020-01-10 22:20              통인스윗팩토리(종로구 필운대로)   \n",
       "5281  2020-01-10 21:05           (주)에프아이티시스템(종로구 누하동)   \n",
       "\n",
       "                          exec_purpose  \\\n",
       "0                       부서 전출직원 간담회 비용   \n",
       "1                2020년도 1월 생일자 격려상품 구매   \n",
       "2      2020년 상반기 학교아리수 음수대 감면 간담회 경비지급   \n",
       "3     2020년 설연휴기간 급수대책 및 수질관리 간담회 경비지급   \n",
       "4            2020년 민원실 직원 격려 물품구매 경비지급   \n",
       "...                                ...   \n",
       "5277           박물관도시 서울 추진회의 결과 검토 간담회   \n",
       "5278            시정 협력 관련 유관기관 업무협의 간담회   \n",
       "5279                  제로페이 추진경과 검토 간담회   \n",
       "5280            시정 운영 관련 유관기관 업무협의 간담회   \n",
       "5281         시정 소통협력을 위한 유관기관 의견수렴 간담회   \n",
       "\n",
       "                                    target_nm payment_method  exec_amount  \n",
       "0                                    이형선 외 3인             카드        30000  \n",
       "1                               1월 직원 생일자 12명             카드       216720  \n",
       "2     박영준,이상봉,이재욱,이대영,김춘근,김근태,박화준,박병국,조승용,전윤수             카드       124000  \n",
       "3                      김지형,신민철,서영식,최신,이혜숙,여종순             카드        48000  \n",
       "4                                      해당사항없음             카드        63310  \n",
       "...                                       ...            ...          ...  \n",
       "5277                             시민소통기획관 외 3명           제로페이        60000  \n",
       "5278                             대외협력보좌관 외 2명             카드        51000  \n",
       "5279                             시민소통담당관 외 3명           제로페이        40000  \n",
       "5280                               정무비서관 외 2명             카드        51000  \n",
       "5281                                정무수석 외 6명             카드       162000  \n",
       "\n",
       "[5282 rows x 20 columns]"
      ]
     },
     "execution_count": 16,
     "metadata": {},
     "output_type": "execute_result"
    }
   ],
   "source": [
    "pd.read_excel(file_path+file_list[0])"
   ]
  },
  {
   "cell_type": "code",
   "execution_count": null,
   "metadata": {},
   "outputs": [
    {
     "data": {
      "text/html": [
       "<div>\n",
       "<style scoped>\n",
       "    .dataframe tbody tr th:only-of-type {\n",
       "        vertical-align: middle;\n",
       "    }\n",
       "\n",
       "    .dataframe tbody tr th {\n",
       "        vertical-align: top;\n",
       "    }\n",
       "\n",
       "    .dataframe thead th {\n",
       "        text-align: right;\n",
       "    }\n",
       "</style>\n",
       "<table border=\"1\" class=\"dataframe\">\n",
       "  <thead>\n",
       "    <tr style=\"text-align: right;\">\n",
       "      <th></th>\n",
       "    </tr>\n",
       "  </thead>\n",
       "  <tbody>\n",
       "  </tbody>\n",
       "</table>\n",
       "</div>"
      ],
      "text/plain": [
       "Empty DataFrame\n",
       "Columns: []\n",
       "Index: []"
      ]
     },
     "execution_count": 17,
     "metadata": {},
     "output_type": "execute_result"
    }
   ],
   "source": [
    "result=pd.DataFrame()\n",
    "result "
   ]
  },
  {
   "cell_type": "code",
   "execution_count": null,
   "metadata": {},
   "outputs": [],
   "source": [
    "for file in file_list:\n",
    "    df= pd.read_excel(file_path+file)\n",
    "   \n",
    "    result=pd.concat([result, df], axis=0, ignore_index=True)"
   ]
  },
  {
   "cell_type": "code",
   "execution_count": null,
   "metadata": {},
   "outputs": [
    {
     "name": "stdout",
     "output_type": "stream",
     "text": [
      "<class 'pandas.core.frame.DataFrame'>\n",
      "RangeIndex: 70862 entries, 0 to 70861\n",
      "Data columns (total 21 columns):\n",
      " #   Column             Non-Null Count  Dtype  \n",
      "---  ------             --------------  -----  \n",
      " 0   nid                70862 non-null  int64  \n",
      " 1   title              70862 non-null  object \n",
      " 2   url                70862 non-null  object \n",
      " 3   dept_nm_lvl_1      70862 non-null  object \n",
      " 4   dept_nm_lvl_2      70862 non-null  object \n",
      " 5   dept_nm_lvl_3      55593 non-null  object \n",
      " 6   dept_nm_lvl_4      18992 non-null  object \n",
      " 7   dept_nm_lvl_5      1601 non-null   object \n",
      " 8   exec_yr            70862 non-null  int64  \n",
      " 9   exec_month         70862 non-null  int64  \n",
      " 10  expense_budget     1823 non-null   float64\n",
      " 11  expense_execution  1338 non-null   float64\n",
      " 12  category           2123 non-null   object \n",
      " 13  dept_nm_full       70862 non-null  object \n",
      " 14  exec_dt            70862 non-null  object \n",
      " 15  exec_loc           70278 non-null  object \n",
      " 16  exec_purpose       70862 non-null  object \n",
      " 17  target_nm          70488 non-null  object \n",
      " 18  payment_method     70862 non-null  object \n",
      " 19  exec_amount        70862 non-null  int64  \n",
      " 20  bimok              283 non-null    object \n",
      "dtypes: float64(2), int64(4), object(15)\n",
      "memory usage: 11.4+ MB\n"
     ]
    }
   ],
   "source": [
    "result.info()"
   ]
  },
  {
   "cell_type": "code",
   "execution_count": null,
   "metadata": {},
   "outputs": [
    {
     "data": {
      "text/plain": [
       "['202101_expense_list.csv',\n",
       " '202101_expense_list.json',\n",
       " '202101_expense_list.xlsx',\n",
       " '202101_expense_list.xml',\n",
       " '202102_expense_list.csv',\n",
       " '202102_expense_list.json',\n",
       " '202102_expense_list.xlsx',\n",
       " '202102_expense_list.xml',\n",
       " '202103_expense_list.csv',\n",
       " '202103_expense_list.json',\n",
       " '202103_expense_list.xlsx',\n",
       " '202103_expense_list.xml',\n",
       " '202104_expense_list.csv',\n",
       " '202104_expense_list.json',\n",
       " '202104_expense_list.xlsx',\n",
       " '202104_expense_list.xml',\n",
       " '202105_expense_list.csv',\n",
       " '202105_expense_list.json',\n",
       " '202105_expense_list.xlsx',\n",
       " '202105_expense_list.xml',\n",
       " '202106_expense_list.csv',\n",
       " '202106_expense_list.json',\n",
       " '202106_expense_list.xlsx',\n",
       " '202106_expense_list.xml',\n",
       " '202107_expense_list.csv',\n",
       " '202107_expense_list.json',\n",
       " '202107_expense_list.xlsx',\n",
       " '202107_expense_list.xml',\n",
       " '202108_expense_list.csv',\n",
       " '202108_expense_list.json',\n",
       " '202108_expense_list.xlsx',\n",
       " '202108_expense_list.xml',\n",
       " '202109_expense_list.csv',\n",
       " '202109_expense_list.json',\n",
       " '202109_expense_list.xlsx',\n",
       " '202109_expense_list.xml',\n",
       " '202110_expense_list.csv',\n",
       " '202110_expense_list.json',\n",
       " '202110_expense_list.xlsx',\n",
       " '202110_expense_list.xml',\n",
       " '202111_expense_list.csv',\n",
       " '202111_expense_list.json',\n",
       " '202111_expense_list.xlsx',\n",
       " '202111_expense_list.xml',\n",
       " '202112_expense_list.csv',\n",
       " '202112_expense_list.json',\n",
       " '202112_expense_list.xlsx',\n",
       " '202112_expense_list.xml']"
      ]
     },
     "execution_count": 20,
     "metadata": {},
     "output_type": "execute_result"
    }
   ],
   "source": [
    "os.listdir(\"../../csv/2021\")"
   ]
  },
  {
   "cell_type": "code",
   "execution_count": null,
   "metadata": {},
   "outputs": [],
   "source": [
    "file_path=\"../../csv/2021/\"\n",
    "file_list=os.listdir(file_path)\n",
    "file_list"
   ]
  },
  {
   "cell_type": "code",
   "execution_count": null,
   "metadata": {},
   "outputs": [
    {
     "data": {
      "text/plain": [
       "False"
      ]
     },
     "execution_count": 53,
     "metadata": {},
     "output_type": "execute_result"
    }
   ],
   "source": [
    "file_list[0].split('.')[-1]=='csv'"
   ]
  },
  {
   "cell_type": "code",
   "execution_count": null,
   "metadata": {},
   "outputs": [
    {
     "data": {
      "text/plain": [
       "True"
      ]
     },
     "execution_count": 57,
     "metadata": {},
     "output_type": "execute_result"
    }
   ],
   "source": [
    "file_list[0].endswith('csv')"
   ]
  },
  {
   "cell_type": "code",
   "execution_count": null,
   "metadata": {},
   "outputs": [],
   "source": [
    "file_name, file_end = os.path.splitext(file_list[0])"
   ]
  },
  {
   "cell_type": "code",
   "execution_count": null,
   "metadata": {},
   "outputs": [
    {
     "data": {
      "text/plain": [
       "'.csv'"
      ]
     },
     "execution_count": 61,
     "metadata": {},
     "output_type": "execute_result"
    }
   ],
   "source": [
    "file_end"
   ]
  },
  {
   "cell_type": "code",
   "execution_count": null,
   "metadata": {},
   "outputs": [],
   "source": [
    "result_2021=pd.DataFrame()\n",
    "\n",
    "# 확장자를 선택해서 해당하는 확장자만 result_2021에 결합\n",
    "for file in file_list:\n",
    "    #excel 파일인 경우에만 result_2021에 결합\n",
    "    if file.split(\".\")[-1] in['xlsx', 'xls']:\n",
    "        df=pd.read_excel(file_path + file)\n",
    "        result_2021 = pd.concat([result_2021, df], axis=0, ignore_index=True)"
   ]
  },
  {
   "cell_type": "code",
   "execution_count": null,
   "metadata": {},
   "outputs": [
    {
     "name": "stdout",
     "output_type": "stream",
     "text": [
      "al\n"
     ]
    }
   ],
   "source": [
    "globals()[\"a1\"] =10\n",
    "print(\"al\") "
   ]
  },
  {
   "cell_type": "code",
   "execution_count": null,
   "metadata": {},
   "outputs": [
    {
     "name": "stdout",
     "output_type": "stream",
     "text": [
      "csv\n",
      "json\n",
      "xlsx\n",
      "xml\n",
      "csv\n",
      "json\n",
      "xlsx\n",
      "xml\n",
      "csv\n",
      "json\n",
      "xlsx\n",
      "xml\n",
      "csv\n",
      "json\n",
      "xlsx\n",
      "xml\n",
      "csv\n",
      "json\n",
      "xlsx\n",
      "xml\n",
      "csv\n",
      "json\n",
      "xlsx\n",
      "xml\n",
      "csv\n",
      "json\n",
      "xlsx\n",
      "xml\n",
      "csv\n",
      "json\n",
      "xlsx\n",
      "xml\n",
      "csv\n",
      "json\n",
      "xlsx\n",
      "xml\n",
      "csv\n",
      "json\n",
      "xlsx\n",
      "xml\n",
      "csv\n",
      "json\n",
      "xlsx\n",
      "xml\n",
      "csv\n",
      "json\n",
      "xlsx\n",
      "xml\n"
     ]
    }
   ],
   "source": [
    "## 2021 폴더에 있는 파일들을 각각 다른 변수에 저장\n",
    "file_path=\"../../csv/2021/\"\n",
    "file_list=os.listdir(file_path)\n",
    "\n",
    "for file in file_list:\n",
    "    #사용할 변수의 이름 \n",
    "    name, end= os.path.splitext(file)\n",
    "    #print(end[1:])\n",
    "    #print(end.lstrip('.'))\n",
    "    print(end.replace('.',''))\n",
    "    end = end[1:]\n",
    "    if end =='csv':\n",
    "       df=pd.read_csv(file_path+file)\n",
    "    elif end=='json':\n",
    "       df= pd.read_json(file_path+file)\n",
    "    elif end=='xml':\n",
    "       df= pd.read_xml(file_path+file)\n",
    "    elif end in['xlsx', 'xls']:\n",
    "       df= pd.read_excel(file_path+file)\n",
    "    else:\n",
    "       continue\n",
    "    globals()[f\"{name}_{end}\"]= df.copy()"
   ]
  },
  {
   "cell_type": "code",
   "execution_count": null,
   "metadata": {},
   "outputs": [
    {
     "name": "stdout",
     "output_type": "stream",
     "text": [
      "Collecting lxml\n",
      "  Obtaining dependency information for lxml from https://files.pythonhosted.org/packages/02/59/e1fbe2514d8ab39977b72e77f98d0fa49772f61e938049baf151b307a4f0/lxml-5.1.0-cp312-cp312-win_amd64.whl.metadata\n",
      "  Downloading lxml-5.1.0-cp312-cp312-win_amd64.whl.metadata (3.6 kB)\n",
      "Downloading lxml-5.1.0-cp312-cp312-win_amd64.whl (3.9 MB)\n",
      "   ---------------------------------------- 0.0/3.9 MB ? eta -:--:--\n",
      "   ---------------------------------------- 0.0/3.9 MB ? eta -:--:--\n",
      "   -- ------------------------------------- 0.2/3.9 MB 3.1 MB/s eta 0:00:02\n",
      "   ----------------- ---------------------- 1.7/3.9 MB 15.6 MB/s eta 0:00:01\n",
      "   ------------------------------------- -- 3.6/3.9 MB 23.2 MB/s eta 0:00:01\n",
      "   ---------------------------------------  3.9/3.9 MB 22.6 MB/s eta 0:00:01\n",
      "   ---------------------------------------- 3.9/3.9 MB 17.8 MB/s eta 0:00:00\n",
      "Installing collected packages: lxml\n",
      "Successfully installed lxml-5.1.0\n"
     ]
    },
    {
     "name": "stderr",
     "output_type": "stream",
     "text": [
      "\n",
      "[notice] A new release of pip is available: 23.2.1 -> 24.0\n",
      "[notice] To update, run: python.exe -m pip install --upgrade pip\n"
     ]
    }
   ],
   "source": [
    "#lxml error 발생시\n",
    "!pip install lxml"
   ]
  },
  {
   "cell_type": "code",
   "execution_count": null,
   "metadata": {},
   "outputs": [],
   "source": [
    "globals()[f\"{name}_{end}\"]= df.copy()"
   ]
  },
  {
   "cell_type": "code",
   "execution_count": null,
   "metadata": {},
   "outputs": [],
   "source": [
    "result_2021.globals()"
   ]
  },
  {
   "cell_type": "code",
   "execution_count": null,
   "metadata": {},
   "outputs": [
    {
     "data": {
      "text/plain": [
       "'../../csv/2021/202101_expense_list.json'"
      ]
     },
     "execution_count": 29,
     "metadata": {},
     "output_type": "execute_result"
    }
   ],
   "source": [
    "file_path+file_list[1]"
   ]
  },
  {
   "cell_type": "code",
   "execution_count": null,
   "metadata": {},
   "outputs": [
    {
     "data": {
      "text/plain": [
       "'../../csv/2021/202101_expense_list.xlsx'"
      ]
     },
     "execution_count": 30,
     "metadata": {},
     "output_type": "execute_result"
    }
   ],
   "source": [
    "file_path+file_list[2]"
   ]
  },
  {
   "cell_type": "code",
   "execution_count": null,
   "metadata": {},
   "outputs": [],
   "source": [
    "pd.read_csv(file_path+file_list[0])\n",
    "\n"
   ]
  },
  {
   "cell_type": "code",
   "execution_count": null,
   "metadata": {},
   "outputs": [],
   "source": [
    "pd.read_excel(file_path+file_list[2])"
   ]
  },
  {
   "cell_type": "code",
   "execution_count": null,
   "metadata": {},
   "outputs": [],
   "source": [
    "## 지정된 경로에 파일들을 하나의 데이터프레임으로\n",
    "# 결합하여 되돌려주는 함수 생성 \n",
    "# 매개변수? ->  경로, 확장자명\n",
    "def data_load(_path, _end='csv'):\n",
    "    #_path: 파일의 경로\n",
    "    #_end: 파일의 확장자명\n",
    "\n",
    "    # 유저가 입력한 경로를 이용하여 파일의 리스트를 변수에 저장\n",
    "    file_list=os.listdir(_path)\n",
    "    # 비어있는 데이터프레임을 생성\n",
    "    result=pd.DataFrame()\n",
    "    _path=_path+'/'    \n",
    "    for file in file_list:\n",
    "        #file -> 파일명\n",
    "        #파일명의 확장자가 유저가 입력한 확장자와 같다면\n",
    "        if file.endswith(_end):\n",
    "            if _end =='csv':\n",
    "                df=pd.read_csv(_path+file)\n",
    "            elif _end=='json':\n",
    "                df= pd. read_json(_path+file)\n",
    "            elif _end=='xml':\n",
    "                df=pd.read_xml(_path+ file)\n",
    "            elif _end in ['xlsx', 'xls']:\n",
    "                df=pd.read_excel(_path+file)\n",
    "            else:\n",
    "                return'지원하는 확장자가 아닙니다.'     \n",
    "            # df를 result에 유니언 결합\n",
    "            result =pd.concat([result, df],\n",
    "                                axis=0, ignore_index=True)    \n",
    "        return result   \n"
   ]
  },
  {
   "cell_type": "code",
   "execution_count": null,
   "metadata": {},
   "outputs": [
    {
     "data": {
      "text/html": [
       "<div>\n",
       "<style scoped>\n",
       "    .dataframe tbody tr th:only-of-type {\n",
       "        vertical-align: middle;\n",
       "    }\n",
       "\n",
       "    .dataframe tbody tr th {\n",
       "        vertical-align: top;\n",
       "    }\n",
       "\n",
       "    .dataframe thead th {\n",
       "        text-align: right;\n",
       "    }\n",
       "</style>\n",
       "<table border=\"1\" class=\"dataframe\">\n",
       "  <thead>\n",
       "    <tr style=\"text-align: right;\">\n",
       "      <th></th>\n",
       "      <th>nid</th>\n",
       "      <th>title</th>\n",
       "      <th>url</th>\n",
       "      <th>dept_nm_lvl_1</th>\n",
       "      <th>dept_nm_lvl_2</th>\n",
       "      <th>dept_nm_lvl_3</th>\n",
       "      <th>dept_nm_lvl_4</th>\n",
       "      <th>dept_nm_lvl_5</th>\n",
       "      <th>exec_yr</th>\n",
       "      <th>exec_month</th>\n",
       "      <th>...</th>\n",
       "      <th>expense_execution</th>\n",
       "      <th>category</th>\n",
       "      <th>dept_nm_full</th>\n",
       "      <th>exec_dt</th>\n",
       "      <th>exec_loc</th>\n",
       "      <th>exec_purpose</th>\n",
       "      <th>target_nm</th>\n",
       "      <th>payment_method</th>\n",
       "      <th>exec_amount</th>\n",
       "      <th>bimok</th>\n",
       "    </tr>\n",
       "  </thead>\n",
       "  <tbody>\n",
       "    <tr>\n",
       "      <th>0</th>\n",
       "      <td>22249566</td>\n",
       "      <td>2021년 1월 사업소 물재생센터 중랑물재생센터 업무추진비 - 전체</td>\n",
       "      <td>http://opengov.seoul.go.kr/public/22249566</td>\n",
       "      <td>사업소</td>\n",
       "      <td>물재생센터</td>\n",
       "      <td>중랑물재생센터</td>\n",
       "      <td>NaN</td>\n",
       "      <td>NaN</td>\n",
       "      <td>2021</td>\n",
       "      <td>1</td>\n",
       "      <td>...</td>\n",
       "      <td>NaN</td>\n",
       "      <td>NaN</td>\n",
       "      <td>중랑물재생센터 관리과</td>\n",
       "      <td>2021-01-25 00:00</td>\n",
       "      <td>NaN</td>\n",
       "      <td>소속직원 경조사비</td>\n",
       "      <td>김광옥, 김용성</td>\n",
       "      <td>현금</td>\n",
       "      <td>100000</td>\n",
       "      <td>NaN</td>\n",
       "    </tr>\n",
       "    <tr>\n",
       "      <th>1</th>\n",
       "      <td>22249566</td>\n",
       "      <td>2021년 1월 사업소 물재생센터 중랑물재생센터 업무추진비 - 전체</td>\n",
       "      <td>http://opengov.seoul.go.kr/public/22249566</td>\n",
       "      <td>사업소</td>\n",
       "      <td>물재생센터</td>\n",
       "      <td>중랑물재생센터</td>\n",
       "      <td>NaN</td>\n",
       "      <td>NaN</td>\n",
       "      <td>2021</td>\n",
       "      <td>1</td>\n",
       "      <td>...</td>\n",
       "      <td>NaN</td>\n",
       "      <td>NaN</td>\n",
       "      <td>중랑물재생센터 운영과</td>\n",
       "      <td>2021-01-22 00:00</td>\n",
       "      <td>복시루</td>\n",
       "      <td>운영과 다과구매-전출직원선물</td>\n",
       "      <td>NaN</td>\n",
       "      <td>카드</td>\n",
       "      <td>90000</td>\n",
       "      <td>NaN</td>\n",
       "    </tr>\n",
       "    <tr>\n",
       "      <th>2</th>\n",
       "      <td>22249566</td>\n",
       "      <td>2021년 1월 사업소 물재생센터 중랑물재생센터 업무추진비 - 전체</td>\n",
       "      <td>http://opengov.seoul.go.kr/public/22249566</td>\n",
       "      <td>사업소</td>\n",
       "      <td>물재생센터</td>\n",
       "      <td>중랑물재생센터</td>\n",
       "      <td>NaN</td>\n",
       "      <td>NaN</td>\n",
       "      <td>2021</td>\n",
       "      <td>1</td>\n",
       "      <td>...</td>\n",
       "      <td>NaN</td>\n",
       "      <td>NaN</td>\n",
       "      <td>중랑물재생센터 시설보수과</td>\n",
       "      <td>2021-01-21 00:00</td>\n",
       "      <td>떡시루</td>\n",
       "      <td>소속직원 송별떡</td>\n",
       "      <td>시설보수과장외 27명</td>\n",
       "      <td>카드</td>\n",
       "      <td>80000</td>\n",
       "      <td>NaN</td>\n",
       "    </tr>\n",
       "    <tr>\n",
       "      <th>3</th>\n",
       "      <td>22249566</td>\n",
       "      <td>2021년 1월 사업소 물재생센터 중랑물재생센터 업무추진비 - 전체</td>\n",
       "      <td>http://opengov.seoul.go.kr/public/22249566</td>\n",
       "      <td>사업소</td>\n",
       "      <td>물재생센터</td>\n",
       "      <td>중랑물재생센터</td>\n",
       "      <td>NaN</td>\n",
       "      <td>NaN</td>\n",
       "      <td>2021</td>\n",
       "      <td>1</td>\n",
       "      <td>...</td>\n",
       "      <td>NaN</td>\n",
       "      <td>NaN</td>\n",
       "      <td>중랑물재생센터 운영과</td>\n",
       "      <td>2021-01-21 00:00</td>\n",
       "      <td>서울시청매점</td>\n",
       "      <td>운영과 다과구매-전출직원선물</td>\n",
       "      <td>NaN</td>\n",
       "      <td>제로페이</td>\n",
       "      <td>48000</td>\n",
       "      <td>NaN</td>\n",
       "    </tr>\n",
       "    <tr>\n",
       "      <th>4</th>\n",
       "      <td>22249566</td>\n",
       "      <td>2021년 1월 사업소 물재생센터 중랑물재생센터 업무추진비 - 전체</td>\n",
       "      <td>http://opengov.seoul.go.kr/public/22249566</td>\n",
       "      <td>사업소</td>\n",
       "      <td>물재생센터</td>\n",
       "      <td>중랑물재생센터</td>\n",
       "      <td>NaN</td>\n",
       "      <td>NaN</td>\n",
       "      <td>2021</td>\n",
       "      <td>1</td>\n",
       "      <td>...</td>\n",
       "      <td>NaN</td>\n",
       "      <td>NaN</td>\n",
       "      <td>중랑물재생센터 운영과</td>\n",
       "      <td>2021-01-21 00:00</td>\n",
       "      <td>복시루</td>\n",
       "      <td>운영과 다과구매-전출직원선물</td>\n",
       "      <td>NaN</td>\n",
       "      <td>카드</td>\n",
       "      <td>75000</td>\n",
       "      <td>NaN</td>\n",
       "    </tr>\n",
       "    <tr>\n",
       "      <th>...</th>\n",
       "      <td>...</td>\n",
       "      <td>...</td>\n",
       "      <td>...</td>\n",
       "      <td>...</td>\n",
       "      <td>...</td>\n",
       "      <td>...</td>\n",
       "      <td>...</td>\n",
       "      <td>...</td>\n",
       "      <td>...</td>\n",
       "      <td>...</td>\n",
       "      <td>...</td>\n",
       "      <td>...</td>\n",
       "      <td>...</td>\n",
       "      <td>...</td>\n",
       "      <td>...</td>\n",
       "      <td>...</td>\n",
       "      <td>...</td>\n",
       "      <td>...</td>\n",
       "      <td>...</td>\n",
       "      <td>...</td>\n",
       "      <td>...</td>\n",
       "    </tr>\n",
       "    <tr>\n",
       "      <th>4873</th>\n",
       "      <td>22241154</td>\n",
       "      <td>2021년 1월 서울시본청 주택건축본부 지역건축안전센터 업무추진비 - 시책추진</td>\n",
       "      <td>http://opengov.seoul.go.kr/public/22241154</td>\n",
       "      <td>서울시본청</td>\n",
       "      <td>주택건축본부</td>\n",
       "      <td>지역건축안전센터</td>\n",
       "      <td>NaN</td>\n",
       "      <td>NaN</td>\n",
       "      <td>2021</td>\n",
       "      <td>1</td>\n",
       "      <td>...</td>\n",
       "      <td>NaN</td>\n",
       "      <td>NaN</td>\n",
       "      <td>주택건축본부 지역건축안전센터</td>\n",
       "      <td>2021-01-06 12:33</td>\n",
       "      <td>곰비임비(중구 세종대로11길 45)</td>\n",
       "      <td>중소형 민간건축공사장 안전대책 관련 간담회 비용 지급</td>\n",
       "      <td>지역건축안전센터장 외 2명</td>\n",
       "      <td>제로페이</td>\n",
       "      <td>35000</td>\n",
       "      <td>NaN</td>\n",
       "    </tr>\n",
       "    <tr>\n",
       "      <th>4874</th>\n",
       "      <td>22241154</td>\n",
       "      <td>2021년 1월 서울시본청 주택건축본부 지역건축안전센터 업무추진비 - 시책추진</td>\n",
       "      <td>http://opengov.seoul.go.kr/public/22241154</td>\n",
       "      <td>서울시본청</td>\n",
       "      <td>주택건축본부</td>\n",
       "      <td>지역건축안전센터</td>\n",
       "      <td>NaN</td>\n",
       "      <td>NaN</td>\n",
       "      <td>2021</td>\n",
       "      <td>1</td>\n",
       "      <td>...</td>\n",
       "      <td>NaN</td>\n",
       "      <td>NaN</td>\n",
       "      <td>주택건축본부 지역건축안전센터</td>\n",
       "      <td>2021-01-05 18:25</td>\n",
       "      <td>본죽&amp;비빔밥(중구 세종대로 80)</td>\n",
       "      <td>소규모 노후 건축물 안전점검 관련 간담회 비용 지급</td>\n",
       "      <td>지역건축안전센터장 외 2명</td>\n",
       "      <td>제로페이</td>\n",
       "      <td>21000</td>\n",
       "      <td>NaN</td>\n",
       "    </tr>\n",
       "    <tr>\n",
       "      <th>4875</th>\n",
       "      <td>22241154</td>\n",
       "      <td>2021년 1월 서울시본청 주택건축본부 지역건축안전센터 업무추진비 - 시책추진</td>\n",
       "      <td>http://opengov.seoul.go.kr/public/22241154</td>\n",
       "      <td>서울시본청</td>\n",
       "      <td>주택건축본부</td>\n",
       "      <td>지역건축안전센터</td>\n",
       "      <td>NaN</td>\n",
       "      <td>NaN</td>\n",
       "      <td>2021</td>\n",
       "      <td>1</td>\n",
       "      <td>...</td>\n",
       "      <td>NaN</td>\n",
       "      <td>NaN</td>\n",
       "      <td>주택건축본부 지역건축안전센터</td>\n",
       "      <td>2021-01-04 12:35</td>\n",
       "      <td>크레이지후라이(중구 서소문로 124)</td>\n",
       "      <td>겨울방학 아르바이트 대학생 격려 간담회 비용 지급</td>\n",
       "      <td>지역건축안전센터장 외 2명</td>\n",
       "      <td>제로페이</td>\n",
       "      <td>40000</td>\n",
       "      <td>NaN</td>\n",
       "    </tr>\n",
       "    <tr>\n",
       "      <th>4876</th>\n",
       "      <td>22241159</td>\n",
       "      <td>2021년 1월 사업소 상수도사업본부 중부수도사업소 요금과 업무추진비 - 부서운영</td>\n",
       "      <td>http://opengov.seoul.go.kr/public/22241159</td>\n",
       "      <td>사업소</td>\n",
       "      <td>상수도사업본부</td>\n",
       "      <td>중부수도사업소</td>\n",
       "      <td>요금과</td>\n",
       "      <td>NaN</td>\n",
       "      <td>2021</td>\n",
       "      <td>1</td>\n",
       "      <td>...</td>\n",
       "      <td>NaN</td>\n",
       "      <td>NaN</td>\n",
       "      <td>중부수도 요금과</td>\n",
       "      <td>2021-01-27 15:19</td>\n",
       "      <td>가메골에프엔비㈜(중구 남대문시장4길 42)</td>\n",
       "      <td>부서 직원 교육 및 신년간담회</td>\n",
       "      <td>요금과 직원 20명</td>\n",
       "      <td>카드</td>\n",
       "      <td>64000</td>\n",
       "      <td>NaN</td>\n",
       "    </tr>\n",
       "    <tr>\n",
       "      <th>4877</th>\n",
       "      <td>22241159</td>\n",
       "      <td>2021년 1월 사업소 상수도사업본부 중부수도사업소 요금과 업무추진비 - 부서운영</td>\n",
       "      <td>http://opengov.seoul.go.kr/public/22241159</td>\n",
       "      <td>사업소</td>\n",
       "      <td>상수도사업본부</td>\n",
       "      <td>중부수도사업소</td>\n",
       "      <td>요금과</td>\n",
       "      <td>NaN</td>\n",
       "      <td>2021</td>\n",
       "      <td>1</td>\n",
       "      <td>...</td>\n",
       "      <td>NaN</td>\n",
       "      <td>NaN</td>\n",
       "      <td>중부수도 요금과</td>\n",
       "      <td>2021-01-22 00:00</td>\n",
       "      <td>추어탕(중구 다산로 75 3층)</td>\n",
       "      <td>간부 신년간담회</td>\n",
       "      <td>소장외 3명</td>\n",
       "      <td>카드</td>\n",
       "      <td>36000</td>\n",
       "      <td>NaN</td>\n",
       "    </tr>\n",
       "  </tbody>\n",
       "</table>\n",
       "<p>4878 rows × 21 columns</p>\n",
       "</div>"
      ],
      "text/plain": [
       "           nid                                          title  \\\n",
       "0     22249566          2021년 1월 사업소 물재생센터 중랑물재생센터 업무추진비 - 전체   \n",
       "1     22249566          2021년 1월 사업소 물재생센터 중랑물재생센터 업무추진비 - 전체   \n",
       "2     22249566          2021년 1월 사업소 물재생센터 중랑물재생센터 업무추진비 - 전체   \n",
       "3     22249566          2021년 1월 사업소 물재생센터 중랑물재생센터 업무추진비 - 전체   \n",
       "4     22249566          2021년 1월 사업소 물재생센터 중랑물재생센터 업무추진비 - 전체   \n",
       "...        ...                                            ...   \n",
       "4873  22241154    2021년 1월 서울시본청 주택건축본부 지역건축안전센터 업무추진비 - 시책추진   \n",
       "4874  22241154    2021년 1월 서울시본청 주택건축본부 지역건축안전센터 업무추진비 - 시책추진   \n",
       "4875  22241154    2021년 1월 서울시본청 주택건축본부 지역건축안전센터 업무추진비 - 시책추진   \n",
       "4876  22241159  2021년 1월 사업소 상수도사업본부 중부수도사업소 요금과 업무추진비 - 부서운영   \n",
       "4877  22241159  2021년 1월 사업소 상수도사업본부 중부수도사업소 요금과 업무추진비 - 부서운영   \n",
       "\n",
       "                                             url dept_nm_lvl_1 dept_nm_lvl_2  \\\n",
       "0     http://opengov.seoul.go.kr/public/22249566           사업소         물재생센터   \n",
       "1     http://opengov.seoul.go.kr/public/22249566           사업소         물재생센터   \n",
       "2     http://opengov.seoul.go.kr/public/22249566           사업소         물재생센터   \n",
       "3     http://opengov.seoul.go.kr/public/22249566           사업소         물재생센터   \n",
       "4     http://opengov.seoul.go.kr/public/22249566           사업소         물재생센터   \n",
       "...                                          ...           ...           ...   \n",
       "4873  http://opengov.seoul.go.kr/public/22241154         서울시본청        주택건축본부   \n",
       "4874  http://opengov.seoul.go.kr/public/22241154         서울시본청        주택건축본부   \n",
       "4875  http://opengov.seoul.go.kr/public/22241154         서울시본청        주택건축본부   \n",
       "4876  http://opengov.seoul.go.kr/public/22241159           사업소       상수도사업본부   \n",
       "4877  http://opengov.seoul.go.kr/public/22241159           사업소       상수도사업본부   \n",
       "\n",
       "     dept_nm_lvl_3 dept_nm_lvl_4 dept_nm_lvl_5  exec_yr  exec_month  ...  \\\n",
       "0          중랑물재생센터           NaN           NaN     2021           1  ...   \n",
       "1          중랑물재생센터           NaN           NaN     2021           1  ...   \n",
       "2          중랑물재생센터           NaN           NaN     2021           1  ...   \n",
       "3          중랑물재생센터           NaN           NaN     2021           1  ...   \n",
       "4          중랑물재생센터           NaN           NaN     2021           1  ...   \n",
       "...            ...           ...           ...      ...         ...  ...   \n",
       "4873      지역건축안전센터           NaN           NaN     2021           1  ...   \n",
       "4874      지역건축안전센터           NaN           NaN     2021           1  ...   \n",
       "4875      지역건축안전센터           NaN           NaN     2021           1  ...   \n",
       "4876       중부수도사업소           요금과           NaN     2021           1  ...   \n",
       "4877       중부수도사업소           요금과           NaN     2021           1  ...   \n",
       "\n",
       "      expense_execution  category     dept_nm_full           exec_dt  \\\n",
       "0                   NaN       NaN      중랑물재생센터 관리과  2021-01-25 00:00   \n",
       "1                   NaN       NaN      중랑물재생센터 운영과  2021-01-22 00:00   \n",
       "2                   NaN       NaN    중랑물재생센터 시설보수과  2021-01-21 00:00   \n",
       "3                   NaN       NaN      중랑물재생센터 운영과  2021-01-21 00:00   \n",
       "4                   NaN       NaN      중랑물재생센터 운영과  2021-01-21 00:00   \n",
       "...                 ...       ...              ...               ...   \n",
       "4873                NaN       NaN  주택건축본부 지역건축안전센터  2021-01-06 12:33   \n",
       "4874                NaN       NaN  주택건축본부 지역건축안전센터  2021-01-05 18:25   \n",
       "4875                NaN       NaN  주택건축본부 지역건축안전센터  2021-01-04 12:35   \n",
       "4876                NaN       NaN         중부수도 요금과  2021-01-27 15:19   \n",
       "4877                NaN       NaN         중부수도 요금과  2021-01-22 00:00   \n",
       "\n",
       "                     exec_loc                   exec_purpose       target_nm  \\\n",
       "0                         NaN                      소속직원 경조사비        김광옥, 김용성   \n",
       "1                         복시루                운영과 다과구매-전출직원선물             NaN   \n",
       "2                         떡시루                       소속직원 송별떡     시설보수과장외 27명   \n",
       "3                      서울시청매점                운영과 다과구매-전출직원선물             NaN   \n",
       "4                         복시루                운영과 다과구매-전출직원선물             NaN   \n",
       "...                       ...                            ...             ...   \n",
       "4873      곰비임비(중구 세종대로11길 45)  중소형 민간건축공사장 안전대책 관련 간담회 비용 지급  지역건축안전센터장 외 2명   \n",
       "4874       본죽&비빔밥(중구 세종대로 80)   소규모 노후 건축물 안전점검 관련 간담회 비용 지급  지역건축안전센터장 외 2명   \n",
       "4875     크레이지후라이(중구 서소문로 124)    겨울방학 아르바이트 대학생 격려 간담회 비용 지급  지역건축안전센터장 외 2명   \n",
       "4876  가메골에프엔비㈜(중구 남대문시장4길 42)               부서 직원 교육 및 신년간담회      요금과 직원 20명   \n",
       "4877        추어탕(중구 다산로 75 3층)                       간부 신년간담회          소장외 3명   \n",
       "\n",
       "     payment_method exec_amount  bimok  \n",
       "0                현금      100000    NaN  \n",
       "1                카드       90000    NaN  \n",
       "2                카드       80000    NaN  \n",
       "3              제로페이       48000    NaN  \n",
       "4                카드       75000    NaN  \n",
       "...             ...         ...    ...  \n",
       "4873           제로페이       35000    NaN  \n",
       "4874           제로페이       21000    NaN  \n",
       "4875           제로페이       40000    NaN  \n",
       "4876             카드       64000    NaN  \n",
       "4877             카드       36000    NaN  \n",
       "\n",
       "[4878 rows x 21 columns]"
      ]
     },
     "execution_count": 111,
     "metadata": {},
     "output_type": "execute_result"
    }
   ],
   "source": [
    "data_load(r\"C:\\Users\\qhwjd\\OneDrive\\문서\\국비 마케팅 실습\\csv\\2021\")"
   ]
  },
  {
   "cell_type": "code",
   "execution_count": null,
   "metadata": {},
   "outputs": [
    {
     "data": {
      "text/html": [
       "<div>\n",
       "<style scoped>\n",
       "    .dataframe tbody tr th:only-of-type {\n",
       "        vertical-align: middle;\n",
       "    }\n",
       "\n",
       "    .dataframe tbody tr th {\n",
       "        vertical-align: top;\n",
       "    }\n",
       "\n",
       "    .dataframe thead th {\n",
       "        text-align: right;\n",
       "    }\n",
       "</style>\n",
       "<table border=\"1\" class=\"dataframe\">\n",
       "  <thead>\n",
       "    <tr style=\"text-align: right;\">\n",
       "      <th></th>\n",
       "    </tr>\n",
       "  </thead>\n",
       "  <tbody>\n",
       "  </tbody>\n",
       "</table>\n",
       "</div>"
      ],
      "text/plain": [
       "Empty DataFrame\n",
       "Columns: []\n",
       "Index: []"
      ]
     },
     "execution_count": 107,
     "metadata": {},
     "output_type": "execute_result"
    }
   ],
   "source": [
    "data_load('../../csv/2021/','json')"
   ]
  },
  {
   "cell_type": "code",
   "execution_count": 59,
   "metadata": {},
   "outputs": [
    {
     "name": "stdout",
     "output_type": "stream",
     "text": [
      "['../../csv/2021\\\\202101_expense_list.csv', '../../csv/2021\\\\202102_expense_list.csv', '../../csv/2021\\\\202103_expense_list.csv', '../../csv/2021\\\\202104_expense_list.csv', '../../csv/2021\\\\202105_expense_list.csv', '../../csv/2021\\\\202106_expense_list.csv', '../../csv/2021\\\\202107_expense_list.csv', '../../csv/2021\\\\202108_expense_list.csv', '../../csv/2021\\\\202109_expense_list.csv', '../../csv/2021\\\\202110_expense_list.csv', '../../csv/2021\\\\202111_expense_list.csv', '../../csv/2021\\\\202112_expense_list.csv']\n"
     ]
    }
   ],
   "source": [
    "# os 라이브러리를 이용하여 파일의 목록을 불러온다.\n",
    "# 목록(list)+ 파일의 목록을 보는 명령어(dir)\n",
    "os.listdir(\"../../csv/2021\")\n",
    "## glob 라이브러리 이용하여 파일의 목록\n",
    "print(\n",
    "    glob.glob(\"../../csv/2021/*.csv\")\n",
    ")"
   ]
  },
  {
   "cell_type": "code",
   "execution_count": 60,
   "metadata": {},
   "outputs": [
    {
     "data": {
      "text/plain": [
       "['../../csv/num_3\\\\campaign_master.csv',\n",
       " '../../csv/num_3\\\\class_master.csv',\n",
       " '../../csv/num_3\\\\customer_master.csv',\n",
       " '../../csv/num_3\\\\use_log.csv']"
      ]
     },
     "execution_count": 60,
     "metadata": {},
     "output_type": "execute_result"
    }
   ],
   "source": [
    "file_list=glob.glob(\"../../csv/num_3/*.csv\")\n",
    "file_list"
   ]
  },
  {
   "cell_type": "code",
   "execution_count": 67,
   "metadata": {},
   "outputs": [
    {
     "name": "stdout",
     "output_type": "stream",
     "text": [
      "../../csv/num_3\\campaign_master.csv\n",
      "../../csv/num_3 campaign_master.csv\n",
      "campaign_master\n",
      "../../csv/num_3\\class_master.csv\n",
      "../../csv/num_3 class_master.csv\n",
      "class_master\n",
      "../../csv/num_3\\customer_master.csv\n",
      "../../csv/num_3 customer_master.csv\n",
      "customer_master\n",
      "../../csv/num_3\\use_log.csv\n",
      "../../csv/num_3 use_log.csv\n",
      "use_log\n"
     ]
    }
   ],
   "source": [
    "for file in file_list:\n",
    "    print(file)\n",
    "    df=pd.read_csv(file)\n",
    "    ## 경로와 파일을 나눠준다.\n",
    "    folder, name= os.path.split(file)\n",
    "    print(folder, name)\n",
    "    head, tail=os.path.splitext(name)\n",
    "    print(head)\n",
    "    globals()[f\"{head}\"]=pd.read_csv(file)\n",
    "    ##첫번째 반복:head->campaign_master, tail-> .csv\n",
    "    ##          f\"{head}\"->\"campaign_master, globals()['campaign_master']\n",
    "    ##          campaign_master=pd.read_csv(\"../../csv/num_3/campaign_master.csv\")\n",
    "    ## 두번째 반복: head -> class_master, tail -> .csv\n",
    "    ##            f\"{head}\"->\"class_master\",globals()['class_master']\n",
    "    ##             class_master=pd.read_csv('../../csv/num_3/class_master.csv') \n",
    "#df"
   ]
  },
  {
   "cell_type": "code",
   "execution_count": 64,
   "metadata": {},
   "outputs": [
    {
     "data": {
      "text/html": [
       "<div>\n",
       "<style scoped>\n",
       "    .dataframe tbody tr th:only-of-type {\n",
       "        vertical-align: middle;\n",
       "    }\n",
       "\n",
       "    .dataframe tbody tr th {\n",
       "        vertical-align: top;\n",
       "    }\n",
       "\n",
       "    .dataframe thead th {\n",
       "        text-align: right;\n",
       "    }\n",
       "</style>\n",
       "<table border=\"1\" class=\"dataframe\">\n",
       "  <thead>\n",
       "    <tr style=\"text-align: right;\">\n",
       "      <th></th>\n",
       "      <th>log_id</th>\n",
       "      <th>customer_id</th>\n",
       "      <th>usedate</th>\n",
       "    </tr>\n",
       "  </thead>\n",
       "  <tbody>\n",
       "    <tr>\n",
       "      <th>0</th>\n",
       "      <td>L00000049012330</td>\n",
       "      <td>AS009373</td>\n",
       "      <td>2018-04-01</td>\n",
       "    </tr>\n",
       "    <tr>\n",
       "      <th>1</th>\n",
       "      <td>L00000049012331</td>\n",
       "      <td>AS015315</td>\n",
       "      <td>2018-04-01</td>\n",
       "    </tr>\n",
       "    <tr>\n",
       "      <th>2</th>\n",
       "      <td>L00000049012332</td>\n",
       "      <td>AS040841</td>\n",
       "      <td>2018-04-01</td>\n",
       "    </tr>\n",
       "    <tr>\n",
       "      <th>3</th>\n",
       "      <td>L00000049012333</td>\n",
       "      <td>AS046594</td>\n",
       "      <td>2018-04-01</td>\n",
       "    </tr>\n",
       "    <tr>\n",
       "      <th>4</th>\n",
       "      <td>L00000049012334</td>\n",
       "      <td>AS073285</td>\n",
       "      <td>2018-04-01</td>\n",
       "    </tr>\n",
       "    <tr>\n",
       "      <th>...</th>\n",
       "      <td>...</td>\n",
       "      <td>...</td>\n",
       "      <td>...</td>\n",
       "    </tr>\n",
       "    <tr>\n",
       "      <th>197423</th>\n",
       "      <td>L00000049209753</td>\n",
       "      <td>TS977703</td>\n",
       "      <td>2019-03-31</td>\n",
       "    </tr>\n",
       "    <tr>\n",
       "      <th>197424</th>\n",
       "      <td>L00000049209754</td>\n",
       "      <td>TS979550</td>\n",
       "      <td>2019-03-31</td>\n",
       "    </tr>\n",
       "    <tr>\n",
       "      <th>197425</th>\n",
       "      <td>L00000049209755</td>\n",
       "      <td>TS995299</td>\n",
       "      <td>2019-03-31</td>\n",
       "    </tr>\n",
       "    <tr>\n",
       "      <th>197426</th>\n",
       "      <td>L00000049209756</td>\n",
       "      <td>TS995853</td>\n",
       "      <td>2019-03-31</td>\n",
       "    </tr>\n",
       "    <tr>\n",
       "      <th>197427</th>\n",
       "      <td>L00000049209757</td>\n",
       "      <td>TS999079</td>\n",
       "      <td>2019-03-31</td>\n",
       "    </tr>\n",
       "  </tbody>\n",
       "</table>\n",
       "<p>197428 rows × 3 columns</p>\n",
       "</div>"
      ],
      "text/plain": [
       "                 log_id customer_id     usedate\n",
       "0       L00000049012330    AS009373  2018-04-01\n",
       "1       L00000049012331    AS015315  2018-04-01\n",
       "2       L00000049012332    AS040841  2018-04-01\n",
       "3       L00000049012333    AS046594  2018-04-01\n",
       "4       L00000049012334    AS073285  2018-04-01\n",
       "...                 ...         ...         ...\n",
       "197423  L00000049209753    TS977703  2019-03-31\n",
       "197424  L00000049209754    TS979550  2019-03-31\n",
       "197425  L00000049209755    TS995299  2019-03-31\n",
       "197426  L00000049209756    TS995853  2019-03-31\n",
       "197427  L00000049209757    TS999079  2019-03-31\n",
       "\n",
       "[197428 rows x 3 columns]"
      ]
     },
     "execution_count": 64,
     "metadata": {},
     "output_type": "execute_result"
    }
   ],
   "source": [
    "use_log"
   ]
  },
  {
   "cell_type": "code",
   "execution_count": 66,
   "metadata": {},
   "outputs": [
    {
     "data": {
      "text/html": [
       "<div>\n",
       "<style scoped>\n",
       "    .dataframe tbody tr th:only-of-type {\n",
       "        vertical-align: middle;\n",
       "    }\n",
       "\n",
       "    .dataframe tbody tr th {\n",
       "        vertical-align: top;\n",
       "    }\n",
       "\n",
       "    .dataframe thead th {\n",
       "        text-align: right;\n",
       "    }\n",
       "</style>\n",
       "<table border=\"1\" class=\"dataframe\">\n",
       "  <thead>\n",
       "    <tr style=\"text-align: right;\">\n",
       "      <th></th>\n",
       "      <th>campaign_id</th>\n",
       "      <th>campaign_name</th>\n",
       "    </tr>\n",
       "  </thead>\n",
       "  <tbody>\n",
       "    <tr>\n",
       "      <th>0</th>\n",
       "      <td>CA1</td>\n",
       "      <td>2_일반</td>\n",
       "    </tr>\n",
       "    <tr>\n",
       "      <th>1</th>\n",
       "      <td>CA2</td>\n",
       "      <td>0_입회비반액할인</td>\n",
       "    </tr>\n",
       "    <tr>\n",
       "      <th>2</th>\n",
       "      <td>CA3</td>\n",
       "      <td>1_입회비무료</td>\n",
       "    </tr>\n",
       "  </tbody>\n",
       "</table>\n",
       "</div>"
      ],
      "text/plain": [
       "  campaign_id campaign_name\n",
       "0         CA1          2_일반\n",
       "1         CA2     0_입회비반액할인\n",
       "2         CA3       1_입회비무료"
      ]
     },
     "execution_count": 66,
     "metadata": {},
     "output_type": "execute_result"
    }
   ],
   "source": [
    "campaign_master"
   ]
  },
  {
   "cell_type": "code",
   "execution_count": 74,
   "metadata": {},
   "outputs": [],
   "source": [
    "## 특정 경로에 있는 파일의 목목들을 각각 파일의 이름으로 전역변수를 생성하여 저장한느 함수 생성\n",
    "## 매개변수 :경로\n",
    "def data_load2(_path):\n",
    "    # 입력받은 경로를 기준으로 파일의 목록을 모두 로드한다\n",
    "    file_list=glob.glob(_path+\"/*.*\")\n",
    "    #반복 실행 file_list를 이용하여\n",
    "    for file in file_list:\n",
    "        #경로와 파일명을 나눠준다. \n",
    "        folder, name = os.path.split(file)\n",
    "        #파일명에서 이름과 확장자를 나눠준다.\n",
    "        head, tail= os.path.splitext(name)\n",
    "        #tail의 형태는?  \". 확장자\"\n",
    "        if tail =='.csv': \n",
    "            df = pd.read_csv(file)\n",
    "        elif tail=='.json':\n",
    "            df=pd.read_json(file)\n",
    "        elif tail=='.xml':\n",
    "            df=pd.read_xml(file)\n",
    "        elif tail in ['xlsx','.xls']:\n",
    "            df=pd.read_excel(file)\n",
    "        else:\n",
    "           print('지원하지 않는 확장자 파일')\n",
    "           continue\n",
    "        globals()[f\"{head}\"]=df.copy()\n",
    "        print(f\"{head}전역변수 저장 완료\")\n",
    "    return\"파일의 목록 저장 완료\"\n",
    "            "
   ]
  },
  {
   "cell_type": "code",
   "execution_count": 75,
   "metadata": {},
   "outputs": [
    {
     "name": "stdout",
     "output_type": "stream",
     "text": [
      "campaign_master전역변수 저장 완료\n",
      "class_master전역변수 저장 완료\n",
      "customer_master전역변수 저장 완료\n",
      "use_log전역변수 저장 완료\n"
     ]
    },
    {
     "data": {
      "text/plain": [
       "'파일의 목록 저장 완료'"
      ]
     },
     "execution_count": 75,
     "metadata": {},
     "output_type": "execute_result"
    }
   ],
   "source": [
    "data_load2(\"../../csv/num_3\")"
   ]
  },
  {
   "cell_type": "code",
   "execution_count": 82,
   "metadata": {},
   "outputs": [],
   "source": [
    "## 파일을 데이터프레임으로 로드하는 함수를 하나 생성\n",
    "## 매개변수 1개: 상대경로 | 절대경로, encoding='utf-8'\n",
    "def read_df(_path, _encoding='utf-8'):\n",
    "\n",
    "    #입력받은 데이터에서 확장자를 분리해준다. \n",
    "    head, tail= os.path.splitext(_path)\n",
    "    print(tail)\n",
    "    if tail=='.csv':  \n",
    "        df=pd.read_csv(_path, encoding=_encoding)\n",
    "    elif tail=='.json':\n",
    "        df=pd.read_json(_path, encoding=_encoding)\n",
    "    elif tail=='.xml':\n",
    "        df=pd.read_xml(_path, encoding=_encoding)\n",
    "    elif tail in ['.xlsx', '.xls']:\n",
    "        df=pd.read_excel(_path)\n",
    "    else:\n",
    "        df=pd.DataFrame()\n",
    "    return df\n"
   ]
  },
  {
   "cell_type": "code",
   "execution_count": 83,
   "metadata": {},
   "outputs": [
    {
     "name": "stdout",
     "output_type": "stream",
     "text": [
      ".csv\n"
     ]
    },
    {
     "data": {
      "text/html": [
       "<div>\n",
       "<style scoped>\n",
       "    .dataframe tbody tr th:only-of-type {\n",
       "        vertical-align: middle;\n",
       "    }\n",
       "\n",
       "    .dataframe tbody tr th {\n",
       "        vertical-align: top;\n",
       "    }\n",
       "\n",
       "    .dataframe thead th {\n",
       "        text-align: right;\n",
       "    }\n",
       "</style>\n",
       "<table border=\"1\" class=\"dataframe\">\n",
       "  <thead>\n",
       "    <tr style=\"text-align: right;\">\n",
       "      <th></th>\n",
       "      <th>구분</th>\n",
       "      <th>사고(건)</th>\n",
       "      <th>사망(명)</th>\n",
       "      <th>부상(명)</th>\n",
       "    </tr>\n",
       "  </thead>\n",
       "  <tbody>\n",
       "    <tr>\n",
       "      <th>0</th>\n",
       "      <td>2014년1월</td>\n",
       "      <td>169</td>\n",
       "      <td>7</td>\n",
       "      <td>347</td>\n",
       "    </tr>\n",
       "    <tr>\n",
       "      <th>1</th>\n",
       "      <td>2014년2월</td>\n",
       "      <td>145</td>\n",
       "      <td>3</td>\n",
       "      <td>268</td>\n",
       "    </tr>\n",
       "    <tr>\n",
       "      <th>2</th>\n",
       "      <td>2014년3월</td>\n",
       "      <td>206</td>\n",
       "      <td>12</td>\n",
       "      <td>358</td>\n",
       "    </tr>\n",
       "    <tr>\n",
       "      <th>3</th>\n",
       "      <td>2014년4월</td>\n",
       "      <td>182</td>\n",
       "      <td>4</td>\n",
       "      <td>360</td>\n",
       "    </tr>\n",
       "    <tr>\n",
       "      <th>4</th>\n",
       "      <td>2014년5월</td>\n",
       "      <td>218</td>\n",
       "      <td>17</td>\n",
       "      <td>474</td>\n",
       "    </tr>\n",
       "    <tr>\n",
       "      <th>5</th>\n",
       "      <td>2014년6월</td>\n",
       "      <td>233</td>\n",
       "      <td>13</td>\n",
       "      <td>457</td>\n",
       "    </tr>\n",
       "    <tr>\n",
       "      <th>6</th>\n",
       "      <td>2014년7월</td>\n",
       "      <td>229</td>\n",
       "      <td>14</td>\n",
       "      <td>431</td>\n",
       "    </tr>\n",
       "    <tr>\n",
       "      <th>7</th>\n",
       "      <td>2014년8월</td>\n",
       "      <td>222</td>\n",
       "      <td>9</td>\n",
       "      <td>447</td>\n",
       "    </tr>\n",
       "    <tr>\n",
       "      <th>8</th>\n",
       "      <td>2014년9월</td>\n",
       "      <td>225</td>\n",
       "      <td>15</td>\n",
       "      <td>430</td>\n",
       "    </tr>\n",
       "    <tr>\n",
       "      <th>9</th>\n",
       "      <td>2014년10월</td>\n",
       "      <td>210</td>\n",
       "      <td>14</td>\n",
       "      <td>392</td>\n",
       "    </tr>\n",
       "    <tr>\n",
       "      <th>10</th>\n",
       "      <td>2014년11월</td>\n",
       "      <td>209</td>\n",
       "      <td>10</td>\n",
       "      <td>386</td>\n",
       "    </tr>\n",
       "    <tr>\n",
       "      <th>11</th>\n",
       "      <td>2014년12월</td>\n",
       "      <td>178</td>\n",
       "      <td>12</td>\n",
       "      <td>329</td>\n",
       "    </tr>\n",
       "  </tbody>\n",
       "</table>\n",
       "</div>"
      ],
      "text/plain": [
       "          구분  사고(건)  사망(명)  부상(명)\n",
       "0    2014년1월    169      7    347\n",
       "1    2014년2월    145      3    268\n",
       "2    2014년3월    206     12    358\n",
       "3    2014년4월    182      4    360\n",
       "4    2014년5월    218     17    474\n",
       "5    2014년6월    233     13    457\n",
       "6    2014년7월    229     14    431\n",
       "7    2014년8월    222      9    447\n",
       "8    2014년9월    225     15    430\n",
       "9   2014년10월    210     14    392\n",
       "10  2014년11월    209     10    386\n",
       "11  2014년12월    178     12    329"
      ]
     },
     "execution_count": 83,
     "metadata": {},
     "output_type": "execute_result"
    }
   ],
   "source": [
    "read_df(\"../../csv/2014.csv\", 'cp949')"
   ]
  },
  {
   "cell_type": "code",
   "execution_count": null,
   "metadata": {},
   "outputs": [],
   "source": [
    "#data "
   ]
  }
 ],
 "metadata": {
  "kernelspec": {
   "display_name": "Python 3",
   "language": "python",
   "name": "python3"
  },
  "language_info": {
   "codemirror_mode": {
    "name": "ipython",
    "version": 3
   },
   "file_extension": ".py",
   "mimetype": "text/x-python",
   "name": "python",
   "nbconvert_exporter": "python",
   "pygments_lexer": "ipython3",
   "version": "3.12.1"
  }
 },
 "nbformat": 4,
 "nbformat_minor": 2
}
