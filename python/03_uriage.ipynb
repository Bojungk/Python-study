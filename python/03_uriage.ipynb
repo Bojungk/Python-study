{
 "cells": [
  {
   "cell_type": "code",
   "execution_count": null,
   "metadata": {},
   "outputs": [],
   "source": [
    "import pandas as pd"
   ]
  },
  {
   "cell_type": "code",
   "execution_count": null,
   "metadata": {},
   "outputs": [],
   "source": [
    "df = pd.read_csv(\"../../csv/uriage.csv\")"
   ]
  },
  {
   "cell_type": "code",
   "execution_count": null,
   "metadata": {},
   "outputs": [],
   "source": [
    "df.head()"
   ]
  },
  {
   "cell_type": "markdown",
   "metadata": {},
   "source": [
    "#### uriage 데이터에서 문제점 \n",
    "1. item_name이 대/소문자 문제 \n",
    "    - 모든 문자를 대문자(소문자) 변환\n",
    "    - upper(), lower()\n",
    "2. item_name에 공백 존재\n",
    "    - 공백을 제거 \n",
    "    - strip(), replace()"
   ]
  },
  {
   "cell_type": "code",
   "execution_count": null,
   "metadata": {},
   "outputs": [],
   "source": [
    "## item_name에 문자들을 모두 대문자로 변환\n",
    "df['item_name'][2].upper()"
   ]
  },
  {
   "cell_type": "code",
   "execution_count": null,
   "metadata": {},
   "outputs": [],
   "source": [
    "df2 = df.copy()"
   ]
  },
  {
   "cell_type": "code",
   "execution_count": null,
   "metadata": {},
   "outputs": [],
   "source": [
    "## case1 (반복문을 이용)\n",
    "df2.loc[2, 'item_name'] = \\\n",
    "      df2.loc[2, 'item_name'].upper()"
   ]
  },
  {
   "cell_type": "code",
   "execution_count": null,
   "metadata": {},
   "outputs": [],
   "source": [
    "for i in range(len(df2)):\n",
    "    # i에 대입되는 데이터 -> df2의 인덱스 값\n",
    "    # print(i)\n",
    "    df2.loc[i, 'item_name'] = \\\n",
    "        df2.loc[i, 'item_name'].upper()"
   ]
  },
  {
   "cell_type": "code",
   "execution_count": null,
   "metadata": {},
   "outputs": [],
   "source": [
    "df2.head()"
   ]
  },
  {
   "cell_type": "code",
   "execution_count": null,
   "metadata": {},
   "outputs": [],
   "source": [
    "# case2 ( map() -> 1차원 자료형 구조 데이터에서 \n",
    "# 각 데이터들을 하나씩 추출하여 작업(함수) )\n",
    "\n",
    "## Base(Python) : map( 함수 , 1차원 리스트명 ) \n",
    "_list = [1,2,3,4]\n",
    "# map(), lambda 결합\n",
    "list(\n",
    "    map(\n",
    "        lambda x : x + 1, \n",
    "        _list\n",
    "    )\n",
    ")       ## [2, 3, 4, 5] 결과값\n",
    "# map(), 일반 함수 결합\n",
    "def change(x):\n",
    "    return x + 2\n",
    "list(\n",
    "    map(\n",
    "        change, \n",
    "        _list\n",
    "    )\n",
    ")\n"
   ]
  },
  {
   "cell_type": "markdown",
   "metadata": {},
   "source": [
    "\n",
    "##### lambda 함수\n",
    "- 일반함수는 선언 -> 호출 2가지의 과정으로 나눠지는데 lambda 함수는 선언함과 동시에 호출\n",
    "    - lambda 매개변수명 : 실행이 될 코드 \n",
    "- 일반함수로 사용을 하기에는 너무 간단한 작업은 lambda로 생성"
   ]
  },
  {
   "cell_type": "code",
   "execution_count": null,
   "metadata": {},
   "outputs": [],
   "source": [
    "## Series에 내장된 map() 함수\n",
    "df3 = df.copy()"
   ]
  },
  {
   "cell_type": "code",
   "execution_count": null,
   "metadata": {},
   "outputs": [],
   "source": [
    "# map + lambda \n",
    "df3['item_name'].map(\n",
    "    lambda x : x.upper()\n",
    ")"
   ]
  },
  {
   "cell_type": "code",
   "execution_count": null,
   "metadata": {},
   "outputs": [],
   "source": [
    "# map + 일반함수 \n",
    "def change2(x):\n",
    "    result = x.upper()\n",
    "    return result\n",
    "df3['item_name'] = df3['item_name'].map(\n",
    "    change2\n",
    ")"
   ]
  },
  {
   "cell_type": "code",
   "execution_count": null,
   "metadata": {},
   "outputs": [],
   "source": [
    "# strip() : 문자열의 시작과 끝부분을 제거하는 함수 \n",
    "df2['item_name'][1].strip()"
   ]
  },
  {
   "cell_type": "code",
   "execution_count": null,
   "metadata": {},
   "outputs": [],
   "source": [
    "# replace() \n",
    "df2['item_name'][1].replace(' ', '')"
   ]
  },
  {
   "cell_type": "code",
   "execution_count": null,
   "metadata": {},
   "outputs": [],
   "source": [
    "# Series에 내장된 replace()함수는 각 데이터들을 기준으로 치환하는 함수\n",
    "df2['item_name'].replace('상품A', 'A')"
   ]
  },
  {
   "cell_type": "code",
   "execution_count": null,
   "metadata": {},
   "outputs": [],
   "source": [
    "## 반복문을 이용하여 Series 안에 데이터들의 공백을 제거 \n",
    "for i in range(len(df2)):\n",
    "    df2.loc[i, 'item_name'] = \\\n",
    "        df2.loc[i, 'item_name'].replace(' ', '')"
   ]
  },
  {
   "cell_type": "code",
   "execution_count": null,
   "metadata": {},
   "outputs": [],
   "source": [
    "df2['item_name']"
   ]
  },
  {
   "cell_type": "code",
   "execution_count": null,
   "metadata": {},
   "outputs": [],
   "source": [
    "## df3의 item_name 데이터를 map 함수를 이용하여 공백을 제거 \n",
    "# map + lambda\n",
    "df3['item_name'].map(\n",
    "    lambda x : x.replace(\" \", \"\")\n",
    ")"
   ]
  },
  {
   "cell_type": "code",
   "execution_count": null,
   "metadata": {},
   "outputs": [],
   "source": [
    "# map + 일반함수 \n",
    "def change3(x):\n",
    "    result = x.replace(\" \", \"\")\n",
    "    return result\n",
    "\n",
    "df3['item_name'].map(\n",
    "    change3\n",
    ")"
   ]
  },
  {
   "cell_type": "code",
   "execution_count": null,
   "metadata": {},
   "outputs": [],
   "source": [
    "# Series 데이터에서 문자열 함수를 호출\n",
    "test = df['item_name'].str.upper()\n",
    "test.str.replace(\" \", \"\")"
   ]
  },
  {
   "cell_type": "code",
   "execution_count": null,
   "metadata": {},
   "outputs": [],
   "source": [
    "df['item_name'] = \\\n",
    "      df['item_name'].str.upper().str.replace(\" \", \"\")"
   ]
  },
  {
   "cell_type": "code",
   "execution_count": null,
   "metadata": {},
   "outputs": [],
   "source": [
    "df.head()"
   ]
  },
  {
   "cell_type": "markdown",
   "metadata": {},
   "source": [
    "- 결측치를 다른 값으로 대체 \n",
    "    1. 상품명에 따라 상품 가격들이 고정 \n",
    "    2. 결측치를 상품명에 맞춰서 해당 상품의 결측치가 아닌 상품 가격을 결측치에 대체\n",
    "\n",
    "        - ex) 상품A 인 데이터 중 item_price가 결측치가 아닌 데이터의 평균 값을 구하고 해당 평균 값을 상품A인 데이터 중 item_price가 결측치인 부분에 대입"
   ]
  },
  {
   "cell_type": "code",
   "execution_count": null,
   "metadata": {},
   "outputs": [],
   "source": [
    "## 상품A인 데이터만 출력 \n",
    "\n",
    "## 인덱스의 조건식 ( item_name == '상품A' )\n",
    "flag = df2['item_name'] == '상품A'\n",
    "df2.loc[flag]"
   ]
  },
  {
   "cell_type": "code",
   "execution_count": null,
   "metadata": {},
   "outputs": [],
   "source": [
    "import numpy as np"
   ]
  },
  {
   "cell_type": "code",
   "execution_count": null,
   "metadata": {},
   "outputs": [],
   "source": [
    "## item_price가 결측치인 데이터만 출력\n",
    "\n",
    "# 인덱스 조건식 ( item_price가 결측치인 )\n",
    "# 결측치는 연산이 되지 않기때문에 비교연산자를 사용해도 False 출력\n",
    "df2['item_price'] == np.nan\n",
    "# 결측치의 유무를 판단하는 isna() 함수를 이용\n",
    "flag_null = df2['item_price'].isna()\n",
    "\n",
    "df2.loc[flag_null]"
   ]
  },
  {
   "cell_type": "code",
   "execution_count": null,
   "metadata": {},
   "outputs": [],
   "source": [
    "## item_name이 상품A이고 item_price가 결측치인 데이터를 출력 \n",
    "# 인덱스 조건식 : item_name == '상품A'(flag) \n",
    "#                 and item_price가 결측치인(flag_null)\n",
    "df2.loc[\n",
    "    flag & flag_null\n",
    "]"
   ]
  },
  {
   "cell_type": "code",
   "execution_count": null,
   "metadata": {},
   "outputs": [],
   "source": [
    "## item_name이 상품A이고 item_price가 결측치가 아닌 데이터를 출력 \n",
    "# 인덱스 조건식 : item_name == '상품A' (flag)\n",
    "#                   and item_price가 결측치가 아닌(flag_null의 부정)\n",
    "\n",
    "# flag_null의 부정을 출력\n",
    "# not(flag_null)\n",
    "# -flag_null\n",
    "~flag_null\n",
    "# 비트연산자(~)\n",
    "# 2진수로 이루어진 데이터에서 0과 1을 반대로 교체\n",
    "# 인덱스의 조건식에 부정형 연산자로 사용이 가능\n",
    "df2.loc[\n",
    "    flag & ~flag_null\n",
    "]"
   ]
  },
  {
   "cell_type": "code",
   "execution_count": null,
   "metadata": {},
   "outputs": [],
   "source": [
    "## 상품A이고 가격이 결측치가 아닌 item_price의 평균을 구한다. \n",
    "mean_data = df2.loc[\n",
    "    flag & ~flag_null, 'item_price'\n",
    "].mean()\n",
    "mean_data"
   ]
  },
  {
   "cell_type": "code",
   "execution_count": null,
   "metadata": {},
   "outputs": [],
   "source": [
    "# mean_data를 상품A이고 가격이 결측치인 데이터에 결측치를 대체\n",
    "# fillna()를 이용하여 결측치에 데이터를 대입\n",
    "df2.loc[flag & flag_null].fillna(mean_data)\n",
    "# Series 데이터에 특정 데이터를 대입 \n",
    "df2.loc[flag & flag_null, 'item_price'] = mean_data"
   ]
  },
  {
   "cell_type": "code",
   "execution_count": null,
   "metadata": {},
   "outputs": [],
   "source": [
    "df2.loc[flag & flag_null]"
   ]
  },
  {
   "cell_type": "code",
   "execution_count": null,
   "metadata": {},
   "outputs": [],
   "source": [
    "# item_name데이터들의 고유한 값들을 출력\n",
    "\n",
    "# 함수를 이용 -> 고유하다(unique)\n",
    "df2['item_name'].unique()"
   ]
  },
  {
   "cell_type": "code",
   "execution_count": null,
   "metadata": {},
   "outputs": [],
   "source": [
    "# 집합의 형태로 데이터를 변환\n",
    "# {} -> dict  , set(집합)\n",
    "list(set(df2['item_name']))"
   ]
  },
  {
   "cell_type": "code",
   "execution_count": null,
   "metadata": {},
   "outputs": [],
   "source": [
    "# 빈도 수를 체크하는 함수 \n",
    "# 값(value) + 갯수(count) - value_counts()\n",
    "df2['item_name'].value_counts().index"
   ]
  },
  {
   "cell_type": "code",
   "execution_count": null,
   "metadata": {},
   "outputs": [],
   "source": [
    "# item_name에 중복 데이터를 제거한 새로운 리스트를 출력 \n",
    "# for문을 이용한다. \n",
    "name_list = list(df2['item_name'])\n",
    "\n",
    "# 새로운 빈 리스트(result)를 생성\n",
    "result = []\n",
    "# item_name의 값들을 기준으로 반복문을 실행 (변수 i)\n",
    "for i in name_list:\n",
    "    # result에 i가 존재하지 않는가?\n",
    "    # case1 ( 비교 연산자 -> 포함(in) 되어있지 않다(not). )\n",
    "    # if i not in result :\n",
    "    # case2 ( list의 내장함수를 이용 : count() )\n",
    "    # count() : 리스트 안에 특정 데이터의 개수를 출력\n",
    "    if result.count(i) == 0:\n",
    "        # 존재하지 않는다면 result에 i를 추가 \n",
    "        result.append(i)\n",
    "# result를 출력\n",
    "print(result)\n"
   ]
  },
  {
   "cell_type": "code",
   "execution_count": null,
   "metadata": {},
   "outputs": [],
   "source": [
    "# case3 ( list 내장함수 중 index() )\n",
    "# index() : 특정 데이터의 위치를 출력 -> 데이터가 존재하지않으면 에러 발생\n",
    "result = []\n",
    "\n",
    "for i in name_list:\n",
    "    try:\n",
    "        # 시도할 코드\n",
    "        result.index(i)\n",
    "    except:\n",
    "        # try 구문을 코드가 에러가 발생한다면\n",
    "        # 예외 처리 \n",
    "        result.append(i)\n",
    "\n",
    "result\n"
   ]
  },
  {
   "cell_type": "code",
   "execution_count": null,
   "metadata": {},
   "outputs": [],
   "source": [
    "item_list = df2['item_name'].unique()\n",
    "\n",
    "for item in item_list:\n",
    "    # print(item)\n",
    "    # item : item_list에 원소들이 하나씩 대입\n",
    "    # item 변수를 이용하여 인덱스의 조건식 생성\n",
    "    # 상품A부터 상품Z 까지의 조건식을 반복적으로 생성\n",
    "    flag = df2['item_name'] == item\n",
    "    # print(flag.head(3))\n",
    "    # item_price가 결측치인 인덱스 조건식 \n",
    "    flag_null = df2['item_price'].isna()\n",
    "\n",
    "    # flag 조건식과 flag_null의 부정 조건식에 item_price의 평균\n",
    "    mean_data = df2.loc[flag & ~flag_null, 'item_price'].mean()\n",
    "    # mean_data을 flag조건식과 flag_null 조건식에 item_price 대입\n",
    "    df2.loc[flag & flag_null, 'item_price'] = mean_data\n",
    "\n"
   ]
  },
  {
   "cell_type": "code",
   "execution_count": null,
   "metadata": {},
   "outputs": [],
   "source": [
    "df2.isna().sum()"
   ]
  },
  {
   "cell_type": "code",
   "execution_count": null,
   "metadata": {},
   "outputs": [],
   "source": [
    "df2[ ['item_name', 'item_price'] ].groupby(['item_name']).mean()"
   ]
  },
  {
   "cell_type": "code",
   "execution_count": null,
   "metadata": {},
   "outputs": [],
   "source": [
    "## fillna()를 이용하여 결측치를 대체 \n",
    "flag = df['item_name'] == '상품A'\n",
    "test_df = df.loc[flag ]"
   ]
  },
  {
   "cell_type": "code",
   "execution_count": null,
   "metadata": {},
   "outputs": [],
   "source": [
    "# test_df에 item_price를 기준으로 오름차순 정렬\n",
    "test_df.sort_values(['item_price'], inplace=True)"
   ]
  },
  {
   "cell_type": "code",
   "execution_count": null,
   "metadata": {},
   "outputs": [],
   "source": [
    "## test_df에서 item_price가 결측치인 데이터를 전의 데이터로 치환\n",
    "test_df['item_price'] = test_df['item_price'].fillna(method='ffill')"
   ]
  },
  {
   "cell_type": "code",
   "execution_count": null,
   "metadata": {},
   "outputs": [],
   "source": [
    "test_df.isna().sum()"
   ]
  },
  {
   "cell_type": "code",
   "execution_count": null,
   "metadata": {},
   "outputs": [],
   "source": [
    "test_df['item_price'].mean()"
   ]
  },
  {
   "cell_type": "code",
   "execution_count": null,
   "metadata": {},
   "outputs": [],
   "source": [
    "df[flag] = test_df"
   ]
  },
  {
   "cell_type": "code",
   "execution_count": null,
   "metadata": {},
   "outputs": [],
   "source": [
    "item_list = df['item_name'].unique()\n",
    "\n",
    "for item in item_list:\n",
    "    flag = df['item_name'] == item\n",
    "    test_df = df.loc[flag]\n",
    "    test_df.sort_values(['item_price'], inplace=True)\n",
    "    test_df['item_price'] = \\\n",
    "        test_df['item_price'].fillna(method = 'ffill')\n",
    "    df.loc[flag ] = test_df"
   ]
  },
  {
   "cell_type": "code",
   "execution_count": null,
   "metadata": {},
   "outputs": [],
   "source": [
    "df.isna().sum()"
   ]
  },
  {
   "cell_type": "code",
   "execution_count": null,
   "metadata": {},
   "outputs": [],
   "source": [
    "df[['item_name', 'item_price']].groupby(['item_name']).mean()"
   ]
  }
 ],
 "metadata": {
  "kernelspec": {
   "display_name": "Python 3",
   "language": "python",
   "name": "python3"
  },
  "language_info": {
   "codemirror_mode": {
    "name": "ipython",
    "version": 3
   },
   "file_extension": ".py",
   "mimetype": "text/x-python",
   "name": "python",
   "nbconvert_exporter": "python",
   "pygments_lexer": "ipython3",
   "version": "3.11.1"
  }
 },
 "nbformat": 4,
 "nbformat_minor": 2
}
