{
 "cells": [
  {
   "cell_type": "markdown",
   "metadata": {},
   "source": [
    "### mysql과 python 연동\n",
    "1. mysql과 연동을 할 수 있는 기능을 가진 라이브러리 설치\n",
    "    -python에서 라이브러리들이 저장되어 있는 공간\n",
    "    -R에서는 CRAN에 저장소가 있다면 python에서는 pip \n",
    "    저장소에 저장되어있다. \n",
    "    -라이브러리 설치 명령어: pip install 라이브러리명\n",
    "    -mysql과 연동하는 라이브러리의 이름은 pymysql\n",
    "    -pip install pymysql\n",
    "2. 라이브러리 로드 \n",
    "    -import 라이브러리명\n",
    "    -from 라이브러리명 import (Class|function|module)\n",
    "    -as 별칭 ->라이브러리를 별칭을 통해 간단하게 쓰기\n",
    "    위해서\n",
    "3.mysql 서버의 정보를 입력하고 연결\n",
    "    -DB서버의 주소: host \n",
    "        -localhost, 1277.0.0.1: 내 컴퓨터  \n",
    "        -외부의 주소 (ex:172.168.1.40)\n",
    "    -port\n",
    "        -mysql의 기본포트: 3306\n",
    "    -user  \n",
    "        -mysql에 연결할때 사용하는 사용자의이름\n",
    "        -기본 계쩡 (root)\n",
    "    -password \n",
    "        -mysql에 연결할 때 사용하는 사용자의 비밀번호\n",
    "    -db\n",
    "        -mysql 서버에서 사용할 database의 이름\n",
    "-DB서버와 python공간 사이에 가상 공간을 생성\n",
    "    -cursor는 가상 공간의 이름\n",
    "-sql 쿼리문을 이용하여 cursor에 질의를 보낸다.\n",
    "    -데이터의 변환 질의 (insert, update, delete)\n",
    "        -질의를 보낸다.(execute())\n",
    "        -DB서버의 데이터를 변경(commit())\n",
    "        -DB서버의 연결을 종료(close())\n",
    "    -데이터의 로드 질의(select)\n",
    "        -질의를 보낸다(execute())\n",
    "        -질의에 대한 결과물을 받아온다.(fetchall())\n",
    "        -DB서버와의 연결을 종료(close())\n"
   ]
  },
  {
   "cell_type": "code",
   "execution_count": 3,
   "metadata": {},
   "outputs": [
    {
     "name": "stdout",
     "output_type": "stream",
     "text": [
      "Collecting pymysql\n",
      "  Obtaining dependency information for pymysql from https://files.pythonhosted.org/packages/e5/30/20467e39523d0cfc2b6227902d3687a16364307260c75e6a1cb4422b0c62/PyMySQL-1.1.0-py3-none-any.whl.metadata\n",
      "  Downloading PyMySQL-1.1.0-py3-none-any.whl.metadata (4.4 kB)\n",
      "Downloading PyMySQL-1.1.0-py3-none-any.whl (44 kB)\n",
      "   ---------------------------------------- 0.0/44.8 kB ? eta -:--:--\n",
      "   --------------------------- ------------ 30.7/44.8 kB 660.6 kB/s eta 0:00:01\n",
      "   ---------------------------------------- 44.8/44.8 kB 734.6 kB/s eta 0:00:00\n",
      "Installing collected packages: pymysql\n",
      "Successfully installed pymysql-1.1.0\n"
     ]
    },
    {
     "name": "stderr",
     "output_type": "stream",
     "text": [
      "\n",
      "[notice] A new release of pip is available: 23.2.1 -> 24.0\n",
      "[notice] To update, run: python.exe -m pip install --upgrade pip\n"
     ]
    }
   ],
   "source": [
    "# 라이브러리 설치\n",
    "!pip install pymysql"
   ]
  },
  {
   "cell_type": "code",
   "execution_count": 4,
   "metadata": {},
   "outputs": [],
   "source": [
    "#라이브러리 로드\n",
    "import pymysql"
   ]
  }
 ],
 "metadata": {
  "kernelspec": {
   "display_name": "Python 3",
   "language": "python",
   "name": "python3"
  },
  "language_info": {
   "name": "python",
   "version": "3.12.1"
  }
 },
 "nbformat": 4,
 "nbformat_minor": 2
}
