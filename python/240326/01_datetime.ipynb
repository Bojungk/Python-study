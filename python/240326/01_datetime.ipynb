{
 "cells": [
  {
   "cell_type": "code",
   "execution_count": 9,
   "metadata": {},
   "outputs": [],
   "source": [
    "# 라이브러리 로드\n",
    "#import datetime.datetime \n",
    "from datetime import datetime"
   ]
  },
  {
   "cell_type": "code",
   "execution_count": 10,
   "metadata": {},
   "outputs": [
    {
     "name": "stdout",
     "output_type": "stream",
     "text": [
      "<class 'str'>\n"
     ]
    }
   ],
   "source": [
    "time_data=\"2024-03-26 09:45:00\"\n",
    "print(type(time_data))\n"
   ]
  },
  {
   "cell_type": "code",
   "execution_count": 11,
   "metadata": {},
   "outputs": [
    {
     "name": "stdout",
     "output_type": "stream",
     "text": [
      "2024-03-26 09:45:00\n"
     ]
    }
   ],
   "source": [
    "# 문자열 데이터를 시계열 데이터로 변환\n",
    "time= datetime.strptime(\n",
    "    time_data,\n",
    "    \"%Y-%m-%d %H:%M:%S\"\n",
    ")\n",
    "print(time)"
   ]
  },
  {
   "cell_type": "code",
   "execution_count": 12,
   "metadata": {},
   "outputs": [
    {
     "name": "stdout",
     "output_type": "stream",
     "text": [
      "<class 'datetime.datetime'>\n"
     ]
    }
   ],
   "source": [
    "print(type(time))"
   ]
  },
  {
   "cell_type": "code",
   "execution_count": 25,
   "metadata": {},
   "outputs": [
    {
     "name": "stdout",
     "output_type": "stream",
     "text": [
      "2024-03-01 00:00:00\n"
     ]
    }
   ],
   "source": [
    "time_data2=\"2024년03월\"\n",
    "time2= datetime.strptime(\n",
    "    time_data2, \n",
    "    \"%Y년%m월\"\n",
    ")\n",
    "print(time2)\n"
   ]
  },
  {
   "cell_type": "code",
   "execution_count": 21,
   "metadata": {},
   "outputs": [
    {
     "data": {
      "text/plain": [
       "'2024년03월'"
      ]
     },
     "execution_count": 21,
     "metadata": {},
     "output_type": "execute_result"
    }
   ],
   "source": [
    "## 시계열 데이터를 문자열 데이터로 변환\n",
    "time.strftime('%Y년%m월')"
   ]
  },
  {
   "cell_type": "code",
   "execution_count": 27,
   "metadata": {},
   "outputs": [
    {
     "data": {
      "text/plain": [
       "'Friday'"
      ]
     },
     "execution_count": 27,
     "metadata": {},
     "output_type": "execute_result"
    }
   ],
   "source": [
    "time2.strftime(\"%A\")"
   ]
  },
  {
   "cell_type": "markdown",
   "metadata": {},
   "source": [
    "#### datetime에서 사용되는 format \n",
    "- %Y: 년도 전체를 표기 ('2024')\n",
    "- %y: 년도를 축약해서 표기 ('24')\n",
    "- %m: 월을 숫자로 표기 ('01')\n",
    "- %b: 축약된 월의 이름 ('Mar')\n",
    "- %B: 월의 이름 ('March')\n",
    "- %d: 일을 숫자로 표기 ('26')\n",
    "- %H: 24시를 기준으로 표기 ('20')\n",
    "- %I: 12시를 기준으로 표기 ('08')\n",
    "- %M: 분을 표기\n",
    "- %S: 초를 표기\n",
    "- %p: AM/PM 표기\n",
    "- %a: 요일의 이름을 축약해서 표기 ('Fri') \n",
    "- %A: 요일의 이름을 표기 ('Friday')\n",
    "- %w: 요일을 숫자로 표기 (0:일, 1:월, ... 6:토)"
   ]
  },
  {
   "cell_type": "code",
   "execution_count": 28,
   "metadata": {},
   "outputs": [],
   "source": [
    "import pandas as pd"
   ]
  },
  {
   "cell_type": "code",
   "execution_count": 30,
   "metadata": {},
   "outputs": [
    {
     "data": {
      "text/plain": [
       "Timedelta('1 days 00:00:00')"
      ]
     },
     "execution_count": 30,
     "metadata": {},
     "output_type": "execute_result"
    }
   ],
   "source": [
    "pd. Timedelta(days=1)"
   ]
  },
  {
   "cell_type": "code",
   "execution_count": 32,
   "metadata": {},
   "outputs": [
    {
     "data": {
      "text/plain": [
       "Timestamp('2024-03-26 00:00:00')"
      ]
     },
     "execution_count": 32,
     "metadata": {},
     "output_type": "execute_result"
    }
   ],
   "source": [
    "pd.Timestamp(year=2024, month=3, day=26)"
   ]
  },
  {
   "cell_type": "code",
   "execution_count": 33,
   "metadata": {},
   "outputs": [
    {
     "data": {
      "text/plain": [
       "Timestamp('2024-03-26 00:00:00')"
      ]
     },
     "execution_count": 33,
     "metadata": {},
     "output_type": "execute_result"
    }
   ],
   "source": [
    "#문자열을 시계열 변경\n",
    "time_data3 = \"2024-03-26\"\n",
    "pd.to_datetime(time_data3)"
   ]
  },
  {
   "cell_type": "code",
   "execution_count": 36,
   "metadata": {},
   "outputs": [
    {
     "data": {
      "text/plain": [
       "Timestamp('2024-03-01 00:00:00')"
      ]
     },
     "execution_count": 36,
     "metadata": {},
     "output_type": "execute_result"
    }
   ],
   "source": [
    "time_data4= '2024년3월'\n",
    "pd.to_datetime(time_data4, format=\"%Y년%m월\")"
   ]
  },
  {
   "cell_type": "code",
   "execution_count": 38,
   "metadata": {},
   "outputs": [
    {
     "data": {
      "text/plain": [
       "Timestamp('2024-11-30 16:30:00')"
      ]
     },
     "execution_count": 38,
     "metadata": {},
     "output_type": "execute_result"
    }
   ],
   "source": [
    "time_data5= \"16:30:00 30-11-24\"\n",
    "pd.to_datetime(time_data5)"
   ]
  }
 ],
 "metadata": {
  "kernelspec": {
   "display_name": "Python 3",
   "language": "python",
   "name": "python3"
  },
  "language_info": {
   "codemirror_mode": {
    "name": "ipython",
    "version": 3
   },
   "file_extension": ".py",
   "mimetype": "text/x-python",
   "name": "python",
   "nbconvert_exporter": "python",
   "pygments_lexer": "ipython3",
   "version": "3.12.1"
  }
 },
 "nbformat": 4,
 "nbformat_minor": 2
}
